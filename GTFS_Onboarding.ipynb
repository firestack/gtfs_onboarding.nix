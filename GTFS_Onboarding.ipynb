{
 "cells": [
  {
   "cell_type": "markdown",
   "metadata": {
    "editable": true,
    "slideshow": {
     "slide_type": ""
    },
    "tags": []
   },
   "source": [
    "# GTFS Onboarding Exercise"
   ]
  },
  {
   "cell_type": "markdown",
   "metadata": {
    "editable": true,
    "slideshow": {
     "slide_type": ""
    },
    "tags": []
   },
   "source": [
    "## Introduction"
   ]
  },
  {
   "cell_type": "markdown",
   "metadata": {
    "editable": true,
    "jp-MarkdownHeadingCollapsed": true,
    "slideshow": {
     "slide_type": ""
    },
    "tags": []
   },
   "source": [
    "The [MBTA’s GTFS Feed](https://github.com/mbta/gtfs-documentation/blob/master/reference/gtfs.md) consists of a series of [text files in a standard format](https://developers.google.com/transit/gtfs/reference) that represent the system’s static schedule (along with other geographic information). This data ultimately underlies the schedule data available through the [MBTA's V3 API](https://www.mbta.com/developers/v3-api), and is referenced by data included in our [GTFS-realtime](https://www.mbta.com/developers/gtfs-realtime) feeds (not covered in this guide).\n",
    "\n",
    "Throughout this guide, you will gain familiarity with the data tables included in the feed, organized by their corresponding API resources. For the purposes of this guide, we will be using the GTFS Feed active on [October 14, 2020](https://cdn.mbta.com/archive/archived_feeds.txt).\n",
    "\n",
    "In the following sections, you will cover the these concepts:\n",
    "* [Services](#Services): A set of dates on which trips run for one or more routes\n",
    "* [Routes](#Routes): Data about individual routes\n",
    "* [Route Patterns](#Route-Patterns): Subsets of a route, representing different possible patterns of where trips may serve\n",
    "* [Trips](#Trips): The journey of a particular vehicle through a set of stops\n",
    "* [Schedules](#Schedules): When a vehicle should arrive and depart a given stop for a given trip\n",
    "* [Stops](#Stops): Details for a specific stop\n",
    "\n",
    "At the end of each section, there will be a question to test your understanding. If you'd like to see an example solution, click the ellipsis under \"Reveal Solution\"\n",
    "\n",
    "![](img/reveal.png)\n",
    "\n",
    "To open a table of contents, click this button in the sidebar.\n",
    "\n",
    "![](img/toc.png)\n",
    "\n",
    "### Resources\n",
    "* [GTFS Documentation](https://github.com/google/transit/blob/master/gtfs/spec/en/reference.md)\n",
    "* [MBTA GTFS Documentation](https://github.com/mbta/gtfs-documentation/blob/master/reference/gtfs.md)\n",
    "* [MBTA V3 API Documentation](https://api-v3.mbta.com/docs/swagger/index.html)"
   ]
  },
  {
   "cell_type": "markdown",
   "metadata": {
    "editable": true,
    "slideshow": {
     "slide_type": ""
    },
    "tags": []
   },
   "source": [
    "## Getting Oriented"
   ]
  },
  {
   "cell_type": "markdown",
   "metadata": {
    "editable": true,
    "slideshow": {
     "slide_type": ""
    },
    "tags": []
   },
   "source": [
    "### Jupyter Notebook\n",
    "You can simply follow along with this guide and run the sample code by selecting code cells and pressing the \"Run\" button in the toolbar or pressing `Shift + Return`. To learn more about the Jupyter Notebook and its ecoystem, see its [documentation](https://jupyter.org/documentation)."
   ]
  },
  {
   "cell_type": "markdown",
   "metadata": {
    "editable": true,
    "slideshow": {
     "slide_type": ""
    },
    "tags": []
   },
   "source": [
    "### SQL\n",
    "A SQLite database with tables corresponding to each table in the [MBTA GTFS Documenation](https://github.com/mbta/gtfs-documentation/blob/master/reference/gtfs.md) has been loaded for your convenience. Data exploration will be performed in SQL throughout this guide. "
   ]
  },
  {
   "cell_type": "code",
   "execution_count": 1,
   "metadata": {
    "editable": true,
    "slideshow": {
     "slide_type": ""
    },
    "tags": []
   },
   "outputs": [
    {
     "data": {},
     "execution_count": 1,
     "metadata": {},
     "output_type": "execute_result"
    }
   ],
   "source": [
    ".open feed.db"
   ]
  },
  {
   "cell_type": "markdown",
   "metadata": {
    "editable": true,
    "slideshow": {
     "slide_type": ""
    },
    "tags": []
   },
   "source": [
    "You can now execute SQL queries on the database."
   ]
  },
  {
   "cell_type": "code",
   "execution_count": 37,
   "metadata": {
    "editable": true,
    "slideshow": {
     "slide_type": ""
    },
    "tags": []
   },
   "outputs": [
    {
     "data": {
      "text/csv": [
       "MBTA,http://www.mbta.com,EN,20201002,20201007,\"Fall 2020, 2020-10-09T17:32:32+00:00, version D\",developer@mbta.com\n"
      ],
      "text/html": [
       "<table>\n",
       "<thead><tr><th scope=\"col\">feed_publisher_name</th><th scope=\"col\">feed_publisher_url</th><th scope=\"col\">feed_lang</th><th scope=\"col\">feed_start_date</th><th scope=\"col\">feed_end_date</th><th scope=\"col\">feed_version</th><th scope=\"col\">feed_contact_email</th></tr></thead>\n",
       "<tbody>\n",
       "<tr><td>MBTA</td><td>http://www.mbta.com</td><td>EN</td><td>20201002</td><td>20201007</td><td>Fall 2020, 2020-10-09T17:32:32+00:00, version D</td><td>developer@mbta.com</td></tr>\n",
       "</tbody></table>\n"
      ],
      "text/plain": [
       "MBTA|http://www.mbta.com|EN|20201002|20201007|Fall 2020, 2020-10-09T17:32:32+00:00, version D|developer@mbta.com"
      ]
     },
     "execution_count": 37,
     "metadata": {},
     "output_type": "execute_result"
    }
   ],
   "source": [
    "-- Select this cell and press Shift + Return\n",
    "\n",
    "SELECT *\n",
    "FROM\n",
    "\tfeed_info;"
   ]
  },
  {
   "cell_type": "markdown",
   "metadata": {
    "editable": true,
    "slideshow": {
     "slide_type": ""
    },
    "tags": []
   },
   "source": [
    "**Note**: While SQL is convenient to use for exploring tabular data like the GTFS Feed, it's important to note that it is not required. In fact, SQL is not _actually_ used anywhere for creating or querying our GTFS feed in our various systems. You should feel free to learn the underlying concepts and explore the data using any tool with which you feel comfortable."
   ]
  },
  {
   "cell_type": "markdown",
   "metadata": {
    "editable": true,
    "slideshow": {
     "slide_type": ""
    },
    "tags": []
   },
   "source": [
    "### Raw Data\n",
    "The raw `.txt` file are available to download or inspect in the `feed` directory. For example, see [/feed/feed_info.txt](feed/feed_info.txt). Feel free to explore these files in Excel, Google Sheets, or your favorite spreadsheet software."
   ]
  },
  {
   "cell_type": "markdown",
   "metadata": {
    "editable": true,
    "slideshow": {
     "slide_type": ""
    },
    "tags": []
   },
   "source": [
    "## Services\n",
    "*A set of dates on which trips run for one or more routes*\n",
    "\n",
    "**GTFS Tables**: [`calendar`](feed/calendar.txt), [`calendar_dates`](feed/calendar_dates.txt), [`calendar_attributes`](feed/calendar_attributes.txt)\n",
    "\n",
    "**MBTA V3 API Resource**: [`Service`](https://api-v3.mbta.com/docs/swagger/index.html#/Service/ApiWeb_ServiceController_index)"
   ]
  },
  {
   "cell_type": "markdown",
   "metadata": {
    "editable": true,
    "jp-MarkdownHeadingCollapsed": true,
    "slideshow": {
     "slide_type": ""
    },
    "tags": []
   },
   "source": [
    "When a rider is trying to figure out if and when a particular route is running trips, they probably have to ask themselves a few questions:\n",
    "* What is the day of week?\n",
    "* What's the date?\n",
    "* Is it a holiday?\n",
    "\n",
    "As an example, let's look at the 89 bus using MBTA.com's [Schedule Finder](https://www.mbta.com/schedules/89/line?schedule_direction%5Bdirection_id%5D=0&schedule_direction%5Borigin%5D=place-sull), or the [PDF schedule](https://cdn.mbta.com/sites/default/files/route_pdfs/2020-fall/R089.pdf). On MBTA.com, note the four different schedules to choose from (pictured below):\n",
    "* Weekday Schedule (Fall)\n",
    "* Saturday Schedule (Fall)\n",
    "* Sunday Schedule (Fall)\n",
    "* Thanksgiving Day, Nov 26\n",
    "\n",
    "![](img/services.png)\n",
    "\n",
    "As you can see in the Schedule Finder and PDF schedules, the major difference between these services is in the number and frequency of scheduled trips, though in some cases the pattern, or combination of stops, can also vary. If you've ever heard someone refer to the <q>Fall weekday schedule</q> or a <q>Holiday schedule,</q> they are referring to this concept of a service.\n",
    "\n",
    "So how do we know on which dates these services are active and running trips, and how is this represented in our GTFS data? Through a combination of the data in the `calendar`, `calendar_attributes`, and `calendar_dates` tables."
   ]
  },
  {
   "cell_type": "markdown",
   "metadata": {
    "editable": true,
    "slideshow": {
     "slide_type": ""
    },
    "tags": []
   },
   "source": [
    "### `calendar`\n",
    "First, let's take a look at the first few rows of the `calendar` table."
   ]
  },
  {
   "cell_type": "code",
   "execution_count": 3,
   "metadata": {
    "editable": true,
    "slideshow": {
     "slide_type": ""
    },
    "tags": []
   },
   "outputs": [
    {
     "data": {
      "text/csv": [
       "BUS420-10-Wdy-02,1,1,1,1,1,0,0,20201002,20201218\n",
       "BUS420-11-Sa-02,0,0,0,0,0,1,0,20201003,20201219\n",
       "BUS420-12-Su-02,0,0,0,0,0,0,1,20201004,20201213\n"
      ],
      "text/html": [
       "<table>\n",
       "<thead><tr><th scope=\"col\">service_id</th><th scope=\"col\">monday</th><th scope=\"col\">tuesday</th><th scope=\"col\">wednesday</th><th scope=\"col\">thursday</th><th scope=\"col\">friday</th><th scope=\"col\">saturday</th><th scope=\"col\">sunday</th><th scope=\"col\">start_date</th><th scope=\"col\">end_date</th></tr></thead>\n",
       "<tbody>\n",
       "<tr><td>BUS420-10-Wdy-02</td><td>1</td><td>1</td><td>1</td><td>1</td><td>1</td><td>0</td><td>0</td><td>20201002</td><td>20201218</td></tr>\n",
       "<tr><td>BUS420-11-Sa-02</td><td>0</td><td>0</td><td>0</td><td>0</td><td>0</td><td>1</td><td>0</td><td>20201003</td><td>20201219</td></tr>\n",
       "<tr><td>BUS420-12-Su-02</td><td>0</td><td>0</td><td>0</td><td>0</td><td>0</td><td>0</td><td>1</td><td>20201004</td><td>20201213</td></tr>\n",
       "</tbody></table>\n"
      ],
      "text/plain": [
       "BUS420-10-Wdy-02|1|1|1|1|1|0|0|20201002|20201218\n",
       "BUS420-11-Sa-02|0|0|0|0|0|1|0|20201003|20201219\n",
       "BUS420-12-Su-02|0|0|0|0|0|0|1|20201004|20201213"
      ]
     },
     "execution_count": 3,
     "metadata": {},
     "output_type": "execute_result"
    }
   ],
   "source": [
    "SELECT *\n",
    "FROM\n",
    "\tcalendar\n",
    "LIMIT\n",
    "\t3;"
   ]
  },
  {
   "cell_type": "markdown",
   "metadata": {
    "editable": true,
    "slideshow": {
     "slide_type": ""
    },
    "tags": []
   },
   "source": [
    "The `service_id` is just a unique identifier for a service.\n",
    "\n",
    "For each column representing a day of week (`monday`, `tuesday`, etc.), a value of `1` indicates that the service **does** run trips on that day of week, and a value of `0` indicates that the service **does not** run trips on that day of week.\n",
    "\n",
    "The `start_date` and `end_date` fields indicate the date range for which the service is active. \n",
    "\n",
    "So looking at service `BUS420-10-Wdy-02`, we can say it runs trips on weekdays only from October 2, 2020 to December 18, 2020.\n",
    "\n",
    "So if we wanted to find services running trips only on weekdays, we could run this query:"
   ]
  },
  {
   "cell_type": "code",
   "execution_count": 4,
   "metadata": {
    "editable": true,
    "slideshow": {
     "slide_type": ""
    },
    "tags": []
   },
   "outputs": [
    {
     "data": {
      "text/csv": [
       "BUS420-10-Wdy-02,1,1,1,1,1,0,0,20201002,20201218\n",
       "Boat-F1-WkdLmd,1,1,1,1,1,0,0,20201002,20201218\n",
       "Boat-F4-Wkd,1,1,1,1,1,0,0,20201002,20201218\n"
      ],
      "text/html": [
       "<table>\n",
       "<thead><tr><th scope=\"col\">service_id</th><th scope=\"col\">monday</th><th scope=\"col\">tuesday</th><th scope=\"col\">wednesday</th><th scope=\"col\">thursday</th><th scope=\"col\">friday</th><th scope=\"col\">saturday</th><th scope=\"col\">sunday</th><th scope=\"col\">start_date</th><th scope=\"col\">end_date</th></tr></thead>\n",
       "<tbody>\n",
       "<tr><td>BUS420-10-Wdy-02</td><td>1</td><td>1</td><td>1</td><td>1</td><td>1</td><td>0</td><td>0</td><td>20201002</td><td>20201218</td></tr>\n",
       "<tr><td>Boat-F1-WkdLmd</td><td>1</td><td>1</td><td>1</td><td>1</td><td>1</td><td>0</td><td>0</td><td>20201002</td><td>20201218</td></tr>\n",
       "<tr><td>Boat-F4-Wkd</td><td>1</td><td>1</td><td>1</td><td>1</td><td>1</td><td>0</td><td>0</td><td>20201002</td><td>20201218</td></tr>\n",
       "</tbody></table>\n"
      ],
      "text/plain": [
       "BUS420-10-Wdy-02|1|1|1|1|1|0|0|20201002|20201218\n",
       "Boat-F1-WkdLmd|1|1|1|1|1|0|0|20201002|20201218\n",
       "Boat-F4-Wkd|1|1|1|1|1|0|0|20201002|20201218"
      ]
     },
     "execution_count": 4,
     "metadata": {},
     "output_type": "execute_result"
    }
   ],
   "source": [
    "SELECT *\n",
    "FROM\n",
    "\tcalendar\n",
    "WHERE\n",
    "\tmonday\n",
    "\t\t= 1\n",
    "\tAND tuesday\n",
    "\t\t= 1\n",
    "\tAND wednesday\n",
    "\t\t= 1\n",
    "\tAND thursday\n",
    "\t\t= 1\n",
    "\tAND friday\n",
    "\t\t= 1\n",
    "\tAND saturday\n",
    "\t\t= 0\n",
    "\tAND sunday\n",
    "\t\t= 0\n",
    "ORDER BY\n",
    "\tservice_id\n",
    "LIMIT\n",
    "\t3;"
   ]
  },
  {
   "cell_type": "markdown",
   "metadata": {
    "editable": true,
    "slideshow": {
     "slide_type": ""
    },
    "tags": []
   },
   "source": [
    "And if we want to find services ending before December 1, 2020, we could run this query:"
   ]
  },
  {
   "cell_type": "code",
   "execution_count": 5,
   "metadata": {
    "editable": true,
    "slideshow": {
     "slide_type": ""
    },
    "tags": []
   },
   "outputs": [
    {
     "data": {
      "text/csv": [
       "RTL420-5-Wdy-01-OrgSkpNrhStnNrd,0,0,0,0,1,0,0,20201002,20201002\n",
       "LRV420-2-Sa-01-CldCrlClgCrr,0,0,0,0,0,1,0,20201003,20201003\n",
       "RTL420-6-Sa-01-OkGrvWlnOrgSkpNrhStnNrd,0,0,0,0,0,1,0,20201003,20201003\n"
      ],
      "text/html": [
       "<table>\n",
       "<thead><tr><th scope=\"col\">service_id</th><th scope=\"col\">monday</th><th scope=\"col\">tuesday</th><th scope=\"col\">wednesday</th><th scope=\"col\">thursday</th><th scope=\"col\">friday</th><th scope=\"col\">saturday</th><th scope=\"col\">sunday</th><th scope=\"col\">start_date</th><th scope=\"col\">end_date</th></tr></thead>\n",
       "<tbody>\n",
       "<tr><td>RTL420-5-Wdy-01-OrgSkpNrhStnNrd</td><td>0</td><td>0</td><td>0</td><td>0</td><td>1</td><td>0</td><td>0</td><td>20201002</td><td>20201002</td></tr>\n",
       "<tr><td>LRV420-2-Sa-01-CldCrlClgCrr</td><td>0</td><td>0</td><td>0</td><td>0</td><td>0</td><td>1</td><td>0</td><td>20201003</td><td>20201003</td></tr>\n",
       "<tr><td>RTL420-6-Sa-01-OkGrvWlnOrgSkpNrhStnNrd</td><td>0</td><td>0</td><td>0</td><td>0</td><td>0</td><td>1</td><td>0</td><td>20201003</td><td>20201003</td></tr>\n",
       "</tbody></table>\n"
      ],
      "text/plain": [
       "RTL420-5-Wdy-01-OrgSkpNrhStnNrd|0|0|0|0|1|0|0|20201002|20201002\n",
       "LRV420-2-Sa-01-CldCrlClgCrr|0|0|0|0|0|1|0|20201003|20201003\n",
       "RTL420-6-Sa-01-OkGrvWlnOrgSkpNrhStnNrd|0|0|0|0|0|1|0|20201003|20201003"
      ]
     },
     "execution_count": 5,
     "metadata": {},
     "output_type": "execute_result"
    }
   ],
   "source": [
    "SELECT *\n",
    "FROM\n",
    "\tcalendar\n",
    "WHERE\n",
    "\tend_date\n",
    "\t\t< '20201201'\n",
    "ORDER BY\n",
    "\tend_date\n",
    "LIMIT\n",
    "\t3;"
   ]
  },
  {
   "cell_type": "markdown",
   "metadata": {
    "editable": true,
    "slideshow": {
     "slide_type": ""
    },
    "tags": []
   },
   "source": [
    "### `calendar_attributes`\n",
    "We include additional data about services in the `calendar_attributes` table. Let's take a look at the first few rows."
   ]
  },
  {
   "cell_type": "code",
   "execution_count": 6,
   "metadata": {
    "editable": true,
    "slideshow": {
     "slide_type": ""
    },
    "tags": []
   },
   "outputs": [
    {
     "data": {
      "text/csv": [
       "BUS420-10-Wdy-02,Weekday schedule,Weekday,Weekday,1,20200830,20201219,Fall\n",
       "BUS420-11-Sa-02,Saturday schedule,Saturday,Saturday,1,20200830,20201219,Fall\n",
       "BUS420-12-Su-02,Sunday schedule,Sunday,Sunday,1,20200830,20201219,Fall\n"
      ],
      "text/html": [
       "<table>\n",
       "<thead><tr><th scope=\"col\">service_id</th><th scope=\"col\">service_description</th><th scope=\"col\">service_schedule_name</th><th scope=\"col\">service_schedule_type</th><th scope=\"col\">service_schedule_typicality</th><th scope=\"col\">rating_start_date</th><th scope=\"col\">rating_end_date</th><th scope=\"col\">rating_description</th></tr></thead>\n",
       "<tbody>\n",
       "<tr><td>BUS420-10-Wdy-02</td><td>Weekday schedule</td><td>Weekday</td><td>Weekday</td><td>1</td><td>20200830</td><td>20201219</td><td>Fall</td></tr>\n",
       "<tr><td>BUS420-11-Sa-02</td><td>Saturday schedule</td><td>Saturday</td><td>Saturday</td><td>1</td><td>20200830</td><td>20201219</td><td>Fall</td></tr>\n",
       "<tr><td>BUS420-12-Su-02</td><td>Sunday schedule</td><td>Sunday</td><td>Sunday</td><td>1</td><td>20200830</td><td>20201219</td><td>Fall</td></tr>\n",
       "</tbody></table>\n"
      ],
      "text/plain": [
       "BUS420-10-Wdy-02|Weekday schedule|Weekday|Weekday|1|20200830|20201219|Fall\n",
       "BUS420-11-Sa-02|Saturday schedule|Saturday|Saturday|1|20200830|20201219|Fall\n",
       "BUS420-12-Su-02|Sunday schedule|Sunday|Sunday|1|20200830|20201219|Fall"
      ]
     },
     "execution_count": 6,
     "metadata": {},
     "output_type": "execute_result"
    }
   ],
   "source": [
    "SELECT *\n",
    "FROM\n",
    "\tcalendar_attributes\n",
    "LIMIT\n",
    "\t3;"
   ]
  },
  {
   "cell_type": "markdown",
   "metadata": {
    "editable": true,
    "slideshow": {
     "slide_type": ""
    },
    "tags": []
   },
   "source": [
    "As you can see, this table includes a `service_id` column, which corresponds to a row in the `calendar` table, so we can combine these two tables to view human readable names and descriptions for each service."
   ]
  },
  {
   "cell_type": "code",
   "execution_count": 7,
   "metadata": {
    "editable": true,
    "slideshow": {
     "slide_type": ""
    },
    "tags": []
   },
   "outputs": [
    {
     "data": {
      "text/csv": [
       "BUS420-10-Wdy-02,Weekday,Weekday schedule\n",
       "BUS420-11-Sa-02,Saturday,Saturday schedule\n",
       "BUS420-12-Su-02,Sunday,Sunday schedule\n"
      ],
      "text/html": [
       "<table>\n",
       "<thead><tr><th scope=\"col\">service_id</th><th scope=\"col\">service_schedule_name</th><th scope=\"col\">service_description</th></tr></thead>\n",
       "<tbody>\n",
       "<tr><td>BUS420-10-Wdy-02</td><td>Weekday</td><td>Weekday schedule</td></tr>\n",
       "<tr><td>BUS420-11-Sa-02</td><td>Saturday</td><td>Saturday schedule</td></tr>\n",
       "<tr><td>BUS420-12-Su-02</td><td>Sunday</td><td>Sunday schedule</td></tr>\n",
       "</tbody></table>\n"
      ],
      "text/plain": [
       "BUS420-10-Wdy-02|Weekday|Weekday schedule\n",
       "BUS420-11-Sa-02|Saturday|Saturday schedule\n",
       "BUS420-12-Su-02|Sunday|Sunday schedule"
      ]
     },
     "execution_count": 7,
     "metadata": {},
     "output_type": "execute_result"
    }
   ],
   "source": [
    "SELECT\n",
    "\tcalendar.service_id,\n",
    "\tcalendar_attributes.service_schedule_name,\n",
    "\tcalendar_attributes.service_description\n",
    "FROM\n",
    "\tcalendar\n",
    "\n",
    "JOIN\n",
    "\tcalendar_attributes\n",
    "\tON\n",
    "\t\tcalendar.service_id = calendar_attributes.service_id\n",
    "\n",
    "LIMIT\n",
    "\t3;"
   ]
  },
  {
   "cell_type": "markdown",
   "metadata": {
    "editable": true,
    "slideshow": {
     "slide_type": ""
    },
    "tags": []
   },
   "source": [
    "### `calendar_dates`\n",
    "Rows in the `calendar_dates` table define exceptions to the default service patterns defined in the `calendar` table. Let's take a look at the first few rows."
   ]
  },
  {
   "cell_type": "code",
   "execution_count": 8,
   "metadata": {
    "editable": true,
    "scrolled": true,
    "slideshow": {
     "slide_type": ""
    },
    "tags": []
   },
   "outputs": [
    {
     "data": {
      "text/csv": [
       "LRV420-1-Wdy-01,20201002,1,\n",
       "RTL420-9-Wdy-01,20201002,1,\n",
       "LRV420-1-Wdy-01,20201009,1,\n",
       "RTL420-9-Wdy-01,20201009,1,\n",
       "BUS420-10-Wdy-02,20201012,2,Columbus Day\n",
       "BUS420-W-Wdy-02,20201012,1,Columbus Day\n",
       "ColumbusDay-VeteransDay-DayafterThanksgivingDay,20201012,1,Columbus Day\n",
       "FallWeekday,20201012,2,Columbus Day\n",
       "RTL420-5-Wdy-01,20201016,2,\n",
       "RTL420-5-Wdy-01-OrgSkpNrhStnNrd,20201016,1,\n"
      ],
      "text/html": [
       "<table>\n",
       "<thead><tr><th scope=\"col\">service_id</th><th scope=\"col\">date</th><th scope=\"col\">exception_type</th><th scope=\"col\">holiday_name</th></tr></thead>\n",
       "<tbody>\n",
       "<tr><td>LRV420-1-Wdy-01</td><td>20201002</td><td>1</td><td></td></tr>\n",
       "<tr><td>RTL420-9-Wdy-01</td><td>20201002</td><td>1</td><td></td></tr>\n",
       "<tr><td>LRV420-1-Wdy-01</td><td>20201009</td><td>1</td><td></td></tr>\n",
       "<tr><td>RTL420-9-Wdy-01</td><td>20201009</td><td>1</td><td></td></tr>\n",
       "<tr><td>BUS420-10-Wdy-02</td><td>20201012</td><td>2</td><td>Columbus Day</td></tr>\n",
       "<tr><td>BUS420-W-Wdy-02</td><td>20201012</td><td>1</td><td>Columbus Day</td></tr>\n",
       "<tr><td>ColumbusDay-VeteransDay-DayafterThanksgivingDay</td><td>20201012</td><td>1</td><td>Columbus Day</td></tr>\n",
       "<tr><td>FallWeekday</td><td>20201012</td><td>2</td><td>Columbus Day</td></tr>\n",
       "<tr><td>RTL420-5-Wdy-01</td><td>20201016</td><td>2</td><td></td></tr>\n",
       "<tr><td>RTL420-5-Wdy-01-OrgSkpNrhStnNrd</td><td>20201016</td><td>1</td><td></td></tr>\n",
       "</tbody></table>\n"
      ],
      "text/plain": [
       "LRV420-1-Wdy-01|20201002|1|\n",
       "RTL420-9-Wdy-01|20201002|1|\n",
       "LRV420-1-Wdy-01|20201009|1|\n",
       "RTL420-9-Wdy-01|20201009|1|\n",
       "BUS420-10-Wdy-02|20201012|2|Columbus Day\n",
       "BUS420-W-Wdy-02|20201012|1|Columbus Day\n",
       "ColumbusDay-VeteransDay-DayafterThanksgivingDay|20201012|1|Columbus Day\n",
       "FallWeekday|20201012|2|Columbus Day\n",
       "RTL420-5-Wdy-01|20201016|2|\n",
       "RTL420-5-Wdy-01-OrgSkpNrhStnNrd|20201016|1|"
      ]
     },
     "execution_count": 8,
     "metadata": {},
     "output_type": "execute_result"
    }
   ],
   "source": [
    "SELECT *\n",
    "FROM\n",
    "\tcalendar_dates\n",
    "LIMIT\n",
    "\t10;"
   ]
  },
  {
   "cell_type": "markdown",
   "metadata": {
    "editable": true,
    "slideshow": {
     "slide_type": ""
    },
    "tags": []
   },
   "source": [
    "Like `calendar_attributes`, the `service_id` in `calendar_dates` corresponds to a row in the `calendar` table. \n",
    "\n",
    "An `exception_type` of `1` indicates that we have added the service and its trips on the specified `date`.\n",
    "\n",
    "An `exception_type` of `2` indicates that we have removed the service and its trips on the specified `date`.\n",
    "\n",
    "As seen above, on October 16, 2020, we added service `RTL420-5-Wdy-01-OrgSkpNrhStnNrd` and removed service `RTL420-5-Wdy-01`."
   ]
  },
  {
   "cell_type": "markdown",
   "metadata": {
    "editable": true,
    "slideshow": {
     "slide_type": ""
    },
    "tags": []
   },
   "source": [
    "### Test Your Knowledge"
   ]
  },
  {
   "cell_type": "markdown",
   "metadata": {
    "editable": true,
    "slideshow": {
     "slide_type": ""
    },
    "tags": []
   },
   "source": [
    "#### What is the `service_id`, `service_description`, and `end_date` for the Saturday service which has the earliest end date?"
   ]
  },
  {
   "cell_type": "code",
   "execution_count": 9,
   "metadata": {
    "editable": true,
    "slideshow": {
     "slide_type": ""
    },
    "tags": []
   },
   "outputs": [
    {
     "data": {},
     "execution_count": 9,
     "metadata": {},
     "output_type": "execute_result"
    }
   ],
   "source": [
    "-- Your code here"
   ]
  },
  {
   "cell_type": "code",
   "execution_count": 10,
   "metadata": {
    "collapsed": true,
    "editable": false,
    "jupyter": {
     "outputs_hidden": true,
     "source_hidden": true
    },
    "slideshow": {
     "slide_type": ""
    },
    "tags": []
   },
   "outputs": [
    {
     "data": {
      "text/csv": [
       "LRV420-2-Sa-01-CldCrlClgCrr,Saturday schedule,20201003\n"
      ],
      "text/html": [
       "<table>\n",
       "<thead><tr><th scope=\"col\">service_id</th><th scope=\"col\">service_description</th><th scope=\"col\">end_date</th></tr></thead>\n",
       "<tbody>\n",
       "<tr><td>LRV420-2-Sa-01-CldCrlClgCrr</td><td>Saturday schedule</td><td>20201003</td></tr>\n",
       "</tbody></table>\n"
      ],
      "text/plain": [
       "LRV420-2-Sa-01-CldCrlClgCrr|Saturday schedule|20201003"
      ]
     },
     "execution_count": 10,
     "metadata": {},
     "output_type": "execute_result"
    }
   ],
   "source": [
    "-- Reveal solution\n",
    "SELECT\n",
    "\tcal.service_id,\n",
    "\tcal_attrs.service_description,\n",
    "\tcal.end_date\n",
    "FROM\n",
    "\tcalendar\n",
    "\t\tAS cal\n",
    "JOIN\n",
    "\tcalendar_attributes\n",
    "\t\tAS cal_attrs\n",
    "\tON\n",
    "\t\tcal.service_id\n",
    "\t\t\t= cal_attrs.service_id\n",
    "\n",
    "WHERE\n",
    "\tmonday\n",
    "\t\t= 0\n",
    "\tAND tuesday\n",
    "\t\t= 0\n",
    "\tAND wednesday\n",
    "\t\t= 0\n",
    "\tAND thursday\n",
    "\t\t= 0\n",
    "\tAND friday\n",
    "\t\t= 0\n",
    "\tAND saturday\n",
    "\t\t= 1\n",
    "\tAND sunday\n",
    "\t\t= 0\n",
    "\n",
    "ORDER BY\n",
    "\tend_date\n",
    "\n",
    "LIMIT\n",
    "\t1;"
   ]
  },
  {
   "cell_type": "markdown",
   "metadata": {
    "editable": true,
    "slideshow": {
     "slide_type": ""
    },
    "tags": []
   },
   "source": [
    "#### Which service has the most days added to the feed as exceptions?"
   ]
  },
  {
   "cell_type": "code",
   "execution_count": 11,
   "metadata": {
    "editable": true,
    "slideshow": {
     "slide_type": ""
    },
    "tags": []
   },
   "outputs": [
    {
     "data": {},
     "execution_count": 11,
     "metadata": {},
     "output_type": "execute_result"
    }
   ],
   "source": [
    "-- Your code here"
   ]
  },
  {
   "cell_type": "code",
   "execution_count": 12,
   "metadata": {
    "collapsed": true,
    "editable": false,
    "jupyter": {
     "outputs_hidden": true,
     "source_hidden": true
    },
    "slideshow": {
     "slide_type": ""
    },
    "tags": []
   },
   "outputs": [
    {
     "data": {
      "text/csv": [
       "RTL420-9-Wdy-01-BrrQncCnr,4\n"
      ],
      "text/html": [
       "<table>\n",
       "<thead><tr><th scope=\"col\">service_id</th><th scope=\"col\">added_days</th></tr></thead>\n",
       "<tbody>\n",
       "<tr><td>RTL420-9-Wdy-01-BrrQncCnr</td><td>4</td></tr>\n",
       "</tbody></table>\n"
      ],
      "text/plain": [
       "RTL420-9-Wdy-01-BrrQncCnr|4"
      ]
     },
     "execution_count": 12,
     "metadata": {},
     "output_type": "execute_result"
    }
   ],
   "source": [
    "-- Reveal solution\n",
    "SELECT\n",
    "\tservice_id,\n",
    "\tCOUNT(*)\n",
    "\t\tAS added_days\n",
    "FROM\n",
    "\tcalendar_dates\n",
    "WHERE\n",
    "\texception_type\n",
    "\t\t= 1\n",
    "\n",
    "GROUP BY\n",
    "\tservice_id\n",
    "\n",
    "ORDER BY\n",
    "\tadded_days\n",
    "\t\tDESC\n",
    "\n",
    "LIMIT\n",
    "\t1;"
   ]
  },
  {
   "cell_type": "markdown",
   "metadata": {
    "editable": true,
    "slideshow": {
     "slide_type": ""
    },
    "tags": []
   },
   "source": [
    "So now that we can identify which services are running trips on a given date, how can we identify *which* trips for *which* routes are running?"
   ]
  },
  {
   "cell_type": "markdown",
   "metadata": {
    "editable": true,
    "slideshow": {
     "slide_type": ""
    },
    "tags": []
   },
   "source": [
    "## Routes\n",
    "*Data about individual routes*\n",
    "\n",
    "**GTFS Table:** [routes](feed/routes.txt)\n",
    "\n",
    "**MBTA V3 API Resource**: [Route](https://api-v3.mbta.com/docs/swagger/index.html#/Route/ApiWeb_RouteController_show)"
   ]
  },
  {
   "cell_type": "markdown",
   "metadata": {
    "editable": true,
    "slideshow": {
     "slide_type": ""
    },
    "tags": []
   },
   "source": [
    "First, let's take a look at the first few rows of the `routes` table."
   ]
  },
  {
   "cell_type": "code",
   "execution_count": 13,
   "metadata": {
    "editable": true,
    "slideshow": {
     "slide_type": ""
    },
    "tags": []
   },
   "outputs": [
    {
     "data": {
      "text/csv": [
       "Red,1,,Red Line,Rapid Transit,1,https://www.mbta.com/schedules/Red,DA291C,FFFFFF,10010,Rapid Transit,line-Red,\n",
       "Mattapan,1,,Mattapan Trolley,Rapid Transit,0,https://www.mbta.com/schedules/Mattapan,DA291C,FFFFFF,10011,Rapid Transit,line-Mattapan,\n",
       "Orange,1,,Orange Line,Rapid Transit,1,https://www.mbta.com/schedules/Orange,ED8B00,FFFFFF,10020,Rapid Transit,line-Orange,\n",
       "Green-B,1,B,Green Line B,Rapid Transit,0,https://www.mbta.com/schedules/Green-B,00843D,FFFFFF,10032,Rapid Transit,line-Green,\n",
       "Green-C,1,C,Green Line C,Rapid Transit,0,https://www.mbta.com/schedules/Green-C,00843D,FFFFFF,10033,Rapid Transit,line-Green,\n"
      ],
      "text/html": [
       "<table>\n",
       "<thead><tr><th scope=\"col\">route_id</th><th scope=\"col\">agency_id</th><th scope=\"col\">route_short_name</th><th scope=\"col\">route_long_name</th><th scope=\"col\">route_desc</th><th scope=\"col\">route_type</th><th scope=\"col\">route_url</th><th scope=\"col\">route_color</th><th scope=\"col\">route_text_color</th><th scope=\"col\">route_sort_order</th><th scope=\"col\">route_fare_class</th><th scope=\"col\">line_id</th><th scope=\"col\">listed_route</th></tr></thead>\n",
       "<tbody>\n",
       "<tr><td>Red</td><td>1</td><td></td><td>Red Line</td><td>Rapid Transit</td><td>1</td><td>https://www.mbta.com/schedules/Red</td><td>DA291C</td><td>FFFFFF</td><td>10010</td><td>Rapid Transit</td><td>line-Red</td><td></td></tr>\n",
       "<tr><td>Mattapan</td><td>1</td><td></td><td>Mattapan Trolley</td><td>Rapid Transit</td><td>0</td><td>https://www.mbta.com/schedules/Mattapan</td><td>DA291C</td><td>FFFFFF</td><td>10011</td><td>Rapid Transit</td><td>line-Mattapan</td><td></td></tr>\n",
       "<tr><td>Orange</td><td>1</td><td></td><td>Orange Line</td><td>Rapid Transit</td><td>1</td><td>https://www.mbta.com/schedules/Orange</td><td>ED8B00</td><td>FFFFFF</td><td>10020</td><td>Rapid Transit</td><td>line-Orange</td><td></td></tr>\n",
       "<tr><td>Green-B</td><td>1</td><td>B</td><td>Green Line B</td><td>Rapid Transit</td><td>0</td><td>https://www.mbta.com/schedules/Green-B</td><td>00843D</td><td>FFFFFF</td><td>10032</td><td>Rapid Transit</td><td>line-Green</td><td></td></tr>\n",
       "<tr><td>Green-C</td><td>1</td><td>C</td><td>Green Line C</td><td>Rapid Transit</td><td>0</td><td>https://www.mbta.com/schedules/Green-C</td><td>00843D</td><td>FFFFFF</td><td>10033</td><td>Rapid Transit</td><td>line-Green</td><td></td></tr>\n",
       "</tbody></table>\n"
      ],
      "text/plain": [
       "Red|1||Red Line|Rapid Transit|1|https://www.mbta.com/schedules/Red|DA291C|FFFFFF|10010|Rapid Transit|line-Red|\n",
       "Mattapan|1||Mattapan Trolley|Rapid Transit|0|https://www.mbta.com/schedules/Mattapan|DA291C|FFFFFF|10011|Rapid Transit|line-Mattapan|\n",
       "Orange|1||Orange Line|Rapid Transit|1|https://www.mbta.com/schedules/Orange|ED8B00|FFFFFF|10020|Rapid Transit|line-Orange|\n",
       "Green-B|1|B|Green Line B|Rapid Transit|0|https://www.mbta.com/schedules/Green-B|00843D|FFFFFF|10032|Rapid Transit|line-Green|\n",
       "Green-C|1|C|Green Line C|Rapid Transit|0|https://www.mbta.com/schedules/Green-C|00843D|FFFFFF|10033|Rapid Transit|line-Green|"
      ]
     },
     "execution_count": 13,
     "metadata": {},
     "output_type": "execute_result"
    }
   ],
   "source": [
    "SELECT *\n",
    "FROM\n",
    "\troutes\n",
    "LIMIT\n",
    "\t5;"
   ]
  },
  {
   "cell_type": "markdown",
   "metadata": {
    "editable": true,
    "slideshow": {
     "slide_type": ""
    },
    "tags": []
   },
   "source": [
    "`route_id` is a unique identifier for individual routes, which is referenced in other tables, much like `service_id` is referenced in `calendar_attributes` and `calendar_dates`.\n",
    "\n",
    "`route_desc` categorizes a route's level of service. Possible values for the MBTA implementation include:\n",
    "* `Commuter Rail`\n",
    "* `Rapid Transit`\n",
    "* `Local Bus`\n",
    "* `Key Bus`\n",
    "* `Supplemental Bus`\n",
    "* `Community Bus`\n",
    "* `Commuter Bus`\n",
    "* `Ferry`\n",
    "* `Rail Replacement Bus`\n",
    "\n",
    "Let's look at the entry for the `89` bus."
   ]
  },
  {
   "cell_type": "code",
   "execution_count": 14,
   "metadata": {
    "editable": true,
    "slideshow": {
     "slide_type": ""
    },
    "tags": []
   },
   "outputs": [
    {
     "data": {
      "text/csv": [
       "89,1,89,Clarendon Hill or Davis Station - Sullivan Square Station,Local Bus,3,https://www.mbta.com/schedules/89,FFC72C,000000,50890,Local Bus,line-89,\n"
      ],
      "text/html": [
       "<table>\n",
       "<thead><tr><th scope=\"col\">route_id</th><th scope=\"col\">agency_id</th><th scope=\"col\">route_short_name</th><th scope=\"col\">route_long_name</th><th scope=\"col\">route_desc</th><th scope=\"col\">route_type</th><th scope=\"col\">route_url</th><th scope=\"col\">route_color</th><th scope=\"col\">route_text_color</th><th scope=\"col\">route_sort_order</th><th scope=\"col\">route_fare_class</th><th scope=\"col\">line_id</th><th scope=\"col\">listed_route</th></tr></thead>\n",
       "<tbody>\n",
       "<tr><td>89</td><td>1</td><td>89</td><td>Clarendon Hill or Davis Station - Sullivan Square Station</td><td>Local Bus</td><td>3</td><td>https://www.mbta.com/schedules/89</td><td>FFC72C</td><td>000000</td><td>50890</td><td>Local Bus</td><td>line-89</td><td></td></tr>\n",
       "</tbody></table>\n"
      ],
      "text/plain": [
       "89|1|89|Clarendon Hill or Davis Station - Sullivan Square Station|Local Bus|3|https://www.mbta.com/schedules/89|FFC72C|000000|50890|Local Bus|line-89|"
      ]
     },
     "execution_count": 14,
     "metadata": {},
     "output_type": "execute_result"
    }
   ],
   "source": [
    "SELECT *\n",
    "FROM\n",
    "\troutes\n",
    "WHERE\n",
    "\troute_id\n",
    "\t\t= '89';"
   ]
  },
  {
   "cell_type": "markdown",
   "metadata": {
    "editable": true,
    "slideshow": {
     "slide_type": ""
    },
    "tags": []
   },
   "source": [
    "### Test Your Knowledge"
   ]
  },
  {
   "cell_type": "markdown",
   "metadata": {
    "editable": true,
    "slideshow": {
     "slide_type": ""
    },
    "tags": []
   },
   "source": [
    "#### How many routes are categorized as `Local Bus`?"
   ]
  },
  {
   "cell_type": "code",
   "execution_count": 15,
   "metadata": {
    "editable": true,
    "slideshow": {
     "slide_type": ""
    },
    "tags": []
   },
   "outputs": [
    {
     "data": {},
     "execution_count": 15,
     "metadata": {},
     "output_type": "execute_result"
    }
   ],
   "source": [
    "-- Your code here"
   ]
  },
  {
   "cell_type": "code",
   "execution_count": 16,
   "metadata": {
    "collapsed": true,
    "editable": false,
    "jupyter": {
     "outputs_hidden": true,
     "source_hidden": true
    },
    "scrolled": true,
    "slideshow": {
     "slide_type": ""
    },
    "tags": []
   },
   "outputs": [
    {
     "data": {
      "text/csv": [
       "126\n"
      ],
      "text/html": [
       "<table>\n",
       "<thead><tr><th scope=\"col\">COUNT(*)</th></tr></thead>\n",
       "<tbody>\n",
       "<tr><td>126</td></tr>\n",
       "</tbody></table>\n"
      ],
      "text/plain": [
       "126"
      ]
     },
     "execution_count": 16,
     "metadata": {},
     "output_type": "execute_result"
    }
   ],
   "source": [
    "-- Reveal solution\n",
    "SELECT\n",
    "\tCOUNT(*)\n",
    "FROM\n",
    "\troutes\n",
    "WHERE\n",
    "\troute_desc\n",
    "\t\t= 'Local Bus';"
   ]
  },
  {
   "cell_type": "markdown",
   "metadata": {
    "editable": true,
    "slideshow": {
     "slide_type": ""
    },
    "tags": []
   },
   "source": [
    "## Route Patterns\n",
    "*Subsets of a route, representing different possible patterns of where trips may serve*\n",
    "\n",
    "**GTFS Tables**: [route_patterns](feed/route_patterns.txt), [directions](feed/directions.txt)\n",
    "\n",
    "**MBTA V3 API Resource**: [RoutePattern](https://api-v3.mbta.com/docs/swagger/index.html#/RoutePattern/ApiWeb_RoutePatternController_show)"
   ]
  },
  {
   "cell_type": "markdown",
   "metadata": {
    "editable": true,
    "slideshow": {
     "slide_type": ""
    },
    "tags": []
   },
   "source": [
    "Each individual route has one entry in the `routes` table. But you may be wondering, how do we represent the different patterns a route may take? We know a trip on a route might vary by a direction (e.g. Inbound vs Outbound) or in the pattern of stops the trip might take, like the 89 bus.\n",
    "\n",
    "![](img/rp.png)\n",
    "\n",
    "How do we know which patterns exist for a given route, and which pattern a given trip follows? The simplest way is to identify a given trip's `route_pattern`."
   ]
  },
  {
   "cell_type": "markdown",
   "metadata": {
    "editable": true,
    "slideshow": {
     "slide_type": ""
    },
    "tags": []
   },
   "source": [
    "### `route_patterns`\n",
    "Let's take a look at the `route_patterns` for the 89 bus."
   ]
  },
  {
   "cell_type": "code",
   "execution_count": 17,
   "metadata": {
    "editable": true,
    "slideshow": {
     "slide_type": ""
    },
    "tags": []
   },
   "outputs": [
    {
     "data": {
      "text/csv": [
       "89-2-0,89,0,Sullivan Square Station - Davis Station,,1,50890000,45771950\n",
       "89-_-0,89,0,Sullivan Square Station - Clarendon Hill,Weekdays only,2,50890003,45771946\n",
       "89-2-1,89,1,Davis Station - Sullivan Square Station,,1,50890100,45771952\n",
       "89-_-1,89,1,Clarendon Hill - Sullivan Square Station,Weekdays only,2,50890103,45771947\n"
      ],
      "text/html": [
       "<table>\n",
       "<thead><tr><th scope=\"col\">route_pattern_id</th><th scope=\"col\">route_id</th><th scope=\"col\">direction_id</th><th scope=\"col\">route_pattern_name</th><th scope=\"col\">route_pattern_time_desc</th><th scope=\"col\">route_pattern_typicality</th><th scope=\"col\">route_pattern_sort_order</th><th scope=\"col\">representative_trip_id</th></tr></thead>\n",
       "<tbody>\n",
       "<tr><td>89-2-0</td><td>89</td><td>0</td><td>Sullivan Square Station - Davis Station</td><td></td><td>1</td><td>50890000</td><td>45771950</td></tr>\n",
       "<tr><td>89-_-0</td><td>89</td><td>0</td><td>Sullivan Square Station - Clarendon Hill</td><td>Weekdays only</td><td>2</td><td>50890003</td><td>45771946</td></tr>\n",
       "<tr><td>89-2-1</td><td>89</td><td>1</td><td>Davis Station - Sullivan Square Station</td><td></td><td>1</td><td>50890100</td><td>45771952</td></tr>\n",
       "<tr><td>89-_-1</td><td>89</td><td>1</td><td>Clarendon Hill - Sullivan Square Station</td><td>Weekdays only</td><td>2</td><td>50890103</td><td>45771947</td></tr>\n",
       "</tbody></table>\n"
      ],
      "text/plain": [
       "89-2-0|89|0|Sullivan Square Station - Davis Station||1|50890000|45771950\n",
       "89-_-0|89|0|Sullivan Square Station - Clarendon Hill|Weekdays only|2|50890003|45771946\n",
       "89-2-1|89|1|Davis Station - Sullivan Square Station||1|50890100|45771952\n",
       "89-_-1|89|1|Clarendon Hill - Sullivan Square Station|Weekdays only|2|50890103|45771947"
      ]
     },
     "execution_count": 17,
     "metadata": {},
     "output_type": "execute_result"
    }
   ],
   "source": [
    "SELECT *\n",
    "FROM\n",
    "\troute_patterns\n",
    "WHERE\n",
    "\troute_id\n",
    "\t\t= '89';"
   ]
  },
  {
   "cell_type": "markdown",
   "metadata": {
    "editable": true,
    "slideshow": {
     "slide_type": ""
    },
    "tags": []
   },
   "source": [
    "Here, you can see four distinct patterns for the Orange Line:\n",
    "* `89-2-0` for the Sullivan Sq to Davis Station pattern\n",
    "* `89-_-0` for the Sullivan Sq to Clarendon Hill pattern\n",
    "* `89-2-1` for the Davis Square Station to Sullivan Sq pattern\n",
    "* `89-_-1` for the Clarendon Hill to Sullivan Sq pattern\n",
    "\n",
    "You can also see that each pattern has a `direction_id`, either 0 or 1, representing the direction of traveled on a trip. While you could infer trip's the final destination given the `route_pattern_name`, (or a given trip's `trip_headsign`), a pattern's `direction_id` refers to an additional passenger-facing name documented in the `directions` table."
   ]
  },
  {
   "cell_type": "markdown",
   "metadata": {
    "editable": true,
    "slideshow": {
     "slide_type": ""
    },
    "tags": []
   },
   "source": [
    "### `directions`"
   ]
  },
  {
   "cell_type": "markdown",
   "metadata": {
    "editable": true,
    "slideshow": {
     "slide_type": ""
    },
    "tags": []
   },
   "source": [
    "Let's take a look at the directions for the 89 bus."
   ]
  },
  {
   "cell_type": "code",
   "execution_count": 18,
   "metadata": {
    "editable": true,
    "slideshow": {
     "slide_type": ""
    },
    "tags": []
   },
   "outputs": [
    {
     "data": {
      "text/csv": [
       "89,0,Outbound,Clarendon Hill or Davis Station\n",
       "89,1,Inbound,Sullivan Square Station\n"
      ],
      "text/html": [
       "<table>\n",
       "<thead><tr><th scope=\"col\">route_id</th><th scope=\"col\">direction_id</th><th scope=\"col\">direction</th><th scope=\"col\">direction_destination</th></tr></thead>\n",
       "<tbody>\n",
       "<tr><td>89</td><td>0</td><td>Outbound</td><td>Clarendon Hill or Davis Station</td></tr>\n",
       "<tr><td>89</td><td>1</td><td>Inbound</td><td>Sullivan Square Station</td></tr>\n",
       "</tbody></table>\n"
      ],
      "text/plain": [
       "89|0|Outbound|Clarendon Hill or Davis Station\n",
       "89|1|Inbound|Sullivan Square Station"
      ]
     },
     "execution_count": 18,
     "metadata": {},
     "output_type": "execute_result"
    }
   ],
   "source": [
    "SELECT *\n",
    "FROM\n",
    "\tdirections\n",
    "WHERE\n",
    "\troute_id\n",
    "\t\t= '89';"
   ]
  },
  {
   "cell_type": "markdown",
   "metadata": {
    "editable": true,
    "slideshow": {
     "slide_type": ""
    },
    "tags": []
   },
   "source": [
    "Here, we can see that the `89-2-0` and `89-_-0` patterns could also be refered to as \"Outbound\" and the `89-2-1` and `89-_-1` patterns could also be refered to as \"Inbound.\"\n",
    "\n",
    "With the combination of `service_id`, `route_id`, `route_pattern_id`, and `direction_id`, we can tell which routes are running which trips on a given date."
   ]
  },
  {
   "cell_type": "markdown",
   "metadata": {
    "editable": true,
    "slideshow": {
     "slide_type": ""
    },
    "tags": []
   },
   "source": [
    "### Test Your Knowledge"
   ]
  },
  {
   "cell_type": "markdown",
   "metadata": {
    "editable": true,
    "slideshow": {
     "slide_type": ""
    },
    "tags": []
   },
   "source": [
    "#### Which routes have exactly two patterns?"
   ]
  },
  {
   "cell_type": "code",
   "execution_count": 19,
   "metadata": {
    "editable": true,
    "slideshow": {
     "slide_type": ""
    },
    "tags": []
   },
   "outputs": [
    {
     "data": {},
     "execution_count": 19,
     "metadata": {},
     "output_type": "execute_result"
    }
   ],
   "source": [
    "-- Your code here"
   ]
  },
  {
   "cell_type": "code",
   "execution_count": 20,
   "metadata": {
    "collapsed": true,
    "editable": false,
    "jupyter": {
     "outputs_hidden": true,
     "source_hidden": true
    },
    "scrolled": true,
    "slideshow": {
     "slide_type": ""
    },
    "tags": []
   },
   "outputs": [
    {
     "data": {
      "text/csv": [
       "1,2\n",
       "104,2\n",
       "105,2\n",
       "109,2\n",
       "114,2\n",
       "116117,2\n",
       "132,2\n",
       "137,2\n",
       "17,2\n",
       "18,2\n",
       "221,2\n",
       "226,2\n",
       "27,2\n",
       "31,2\n",
       "4050,2\n",
       "42,2\n",
       "424,2\n",
       "43,2\n",
       "441442,2\n",
       "50,2\n",
       "55,2\n",
       "554,2\n",
       "556,2\n",
       "558,2\n",
       "57A,2\n",
       "602,2\n",
       "61,2\n",
       "65,2\n",
       "67,2\n",
       "68,2\n",
       "716,2\n",
       "73,2\n",
       "74,2\n",
       "746,2\n",
       "747,2\n",
       "749,2\n",
       "75,2\n",
       "751,2\n",
       "77,2\n",
       "78,2\n",
       "80,2\n",
       "85,2\n",
       "86,2\n",
       "8993,2\n",
       "90,2\n",
       "91,2\n",
       "97,2\n",
       "Boat-F4,2\n",
       "CR-Fairmount,2\n",
       "Mattapan,2\n",
       "Shuttle-BraintreeQuincyCenter,2\n",
       "Shuttle-BrooklineHillsKenmore,2\n",
       "Shuttle-ClevelandCircleCoolidgeCorner,2\n",
       "Shuttle-FenwayNewtonHighlands,2\n",
       "Shuttle-ForgeParkWalpole,2\n",
       "Shuttle-KenmoreReservoir,2\n",
       "Shuttle-NewtonHighlandsKenmore,2\n",
       "Shuttle-NewtonHighlandsRiverside,2\n",
       "Shuttle-OakGroveWellington,2\n"
      ],
      "text/html": [
       "<table>\n",
       "<thead><tr><th scope=\"col\">route_id</th><th scope=\"col\">n_patterns</th></tr></thead>\n",
       "<tbody>\n",
       "<tr><td>1</td><td>2</td></tr>\n",
       "<tr><td>104</td><td>2</td></tr>\n",
       "<tr><td>105</td><td>2</td></tr>\n",
       "<tr><td>109</td><td>2</td></tr>\n",
       "<tr><td>114</td><td>2</td></tr>\n",
       "<tr><td>116117</td><td>2</td></tr>\n",
       "<tr><td>132</td><td>2</td></tr>\n",
       "<tr><td>137</td><td>2</td></tr>\n",
       "<tr><td>17</td><td>2</td></tr>\n",
       "<tr><td>18</td><td>2</td></tr>\n",
       "<tr><td>221</td><td>2</td></tr>\n",
       "<tr><td>226</td><td>2</td></tr>\n",
       "<tr><td>27</td><td>2</td></tr>\n",
       "<tr><td>31</td><td>2</td></tr>\n",
       "<tr><td>4050</td><td>2</td></tr>\n",
       "<tr><td>42</td><td>2</td></tr>\n",
       "<tr><td>424</td><td>2</td></tr>\n",
       "<tr><td>43</td><td>2</td></tr>\n",
       "<tr><td>441442</td><td>2</td></tr>\n",
       "<tr><td>50</td><td>2</td></tr>\n",
       "<tr><td>55</td><td>2</td></tr>\n",
       "<tr><td>554</td><td>2</td></tr>\n",
       "<tr><td>556</td><td>2</td></tr>\n",
       "<tr><td>558</td><td>2</td></tr>\n",
       "<tr><td>57A</td><td>2</td></tr>\n",
       "<tr><td>602</td><td>2</td></tr>\n",
       "<tr><td>61</td><td>2</td></tr>\n",
       "<tr><td>65</td><td>2</td></tr>\n",
       "<tr><td>67</td><td>2</td></tr>\n",
       "<tr><td>68</td><td>2</td></tr>\n",
       "<tr><td>716</td><td>2</td></tr>\n",
       "<tr><td>73</td><td>2</td></tr>\n",
       "<tr><td>74</td><td>2</td></tr>\n",
       "<tr><td>746</td><td>2</td></tr>\n",
       "<tr><td>747</td><td>2</td></tr>\n",
       "<tr><td>749</td><td>2</td></tr>\n",
       "<tr><td>75</td><td>2</td></tr>\n",
       "<tr><td>751</td><td>2</td></tr>\n",
       "<tr><td>77</td><td>2</td></tr>\n",
       "<tr><td>78</td><td>2</td></tr>\n",
       "<tr><td>80</td><td>2</td></tr>\n",
       "<tr><td>85</td><td>2</td></tr>\n",
       "<tr><td>86</td><td>2</td></tr>\n",
       "<tr><td>8993</td><td>2</td></tr>\n",
       "<tr><td>90</td><td>2</td></tr>\n",
       "<tr><td>91</td><td>2</td></tr>\n",
       "<tr><td>97</td><td>2</td></tr>\n",
       "<tr><td>Boat-F4</td><td>2</td></tr>\n",
       "<tr><td>CR-Fairmount</td><td>2</td></tr>\n",
       "<tr><td>Mattapan</td><td>2</td></tr>\n",
       "<tr><td>Shuttle-BraintreeQuincyCenter</td><td>2</td></tr>\n",
       "<tr><td>Shuttle-BrooklineHillsKenmore</td><td>2</td></tr>\n",
       "<tr><td>Shuttle-ClevelandCircleCoolidgeCorner</td><td>2</td></tr>\n",
       "<tr><td>Shuttle-FenwayNewtonHighlands</td><td>2</td></tr>\n",
       "<tr><td>Shuttle-ForgeParkWalpole</td><td>2</td></tr>\n",
       "<tr><td>Shuttle-KenmoreReservoir</td><td>2</td></tr>\n",
       "<tr><td>Shuttle-NewtonHighlandsKenmore</td><td>2</td></tr>\n",
       "<tr><td>Shuttle-NewtonHighlandsRiverside</td><td>2</td></tr>\n",
       "<tr><td>Shuttle-OakGroveWellington</td><td>2</td></tr>\n",
       "</tbody></table>\n"
      ],
      "text/plain": [
       "1|2\n",
       "104|2\n",
       "105|2\n",
       "109|2\n",
       "114|2\n",
       "116117|2\n",
       "132|2\n",
       "137|2\n",
       "17|2\n",
       "18|2\n",
       "221|2\n",
       "226|2\n",
       "27|2\n",
       "31|2\n",
       "4050|2\n",
       "42|2\n",
       "424|2\n",
       "43|2\n",
       "441442|2\n",
       "50|2\n",
       "55|2\n",
       "554|2\n",
       "556|2\n",
       "558|2\n",
       "57A|2\n",
       "602|2\n",
       "61|2\n",
       "65|2\n",
       "67|2\n",
       "68|2\n",
       "716|2\n",
       "73|2\n",
       "74|2\n",
       "746|2\n",
       "747|2\n",
       "749|2\n",
       "75|2\n",
       "751|2\n",
       "77|2\n",
       "78|2\n",
       "80|2\n",
       "85|2\n",
       "86|2\n",
       "8993|2\n",
       "90|2\n",
       "91|2\n",
       "97|2\n",
       "Boat-F4|2\n",
       "CR-Fairmount|2\n",
       "Mattapan|2\n",
       "Shuttle-BraintreeQuincyCenter|2\n",
       "Shuttle-BrooklineHillsKenmore|2\n",
       "Shuttle-ClevelandCircleCoolidgeCorner|2\n",
       "Shuttle-FenwayNewtonHighlands|2\n",
       "Shuttle-ForgeParkWalpole|2\n",
       "Shuttle-KenmoreReservoir|2\n",
       "Shuttle-NewtonHighlandsKenmore|2\n",
       "Shuttle-NewtonHighlandsRiverside|2\n",
       "Shuttle-OakGroveWellington|2"
      ]
     },
     "execution_count": 20,
     "metadata": {},
     "output_type": "execute_result"
    }
   ],
   "source": [
    "-- Reveal solution\n",
    "SELECT\n",
    "\troute_id,\n",
    "\tCOUNT(*)\n",
    "\t\tAS n_patterns\n",
    "FROM\n",
    "\troute_patterns\n",
    "GROUP BY\n",
    "\troute_id\n",
    "HAVING\n",
    "\tn_patterns\n",
    "\t\t= 2;"
   ]
  },
  {
   "cell_type": "markdown",
   "metadata": {
    "editable": true,
    "slideshow": {
     "slide_type": ""
    },
    "tags": []
   },
   "source": [
    "## Trips\n",
    "*The journey of a particular vehicle through a set of stops*\n",
    "\n",
    "**GTFS Table**: [trips](feed/trips.txt)\n",
    "\n",
    "**MBTA V3 API Resource**: [`Trip`](https://api-v3.mbta.com/docs/swagger/index.html#/Trip/ApiWeb_TripController_show)"
   ]
  },
  {
   "cell_type": "markdown",
   "metadata": {
    "editable": true,
    "slideshow": {
     "slide_type": ""
    },
    "tags": []
   },
   "source": [
    "The `trips` table contains data for each individual trip in a GTFS feed. Let's look at the first few rows."
   ]
  },
  {
   "cell_type": "code",
   "execution_count": 21,
   "metadata": {
    "editable": true,
    "slideshow": {
     "slide_type": ""
    },
    "tags": []
   },
   "outputs": [
    {
     "data": {
      "text/csv": [
       "1,ColumbusDay-VeteransDay-DayafterThanksgivingDay,45692465,Harvard,,0,C01-9,010085,1,,1-_-0,1\n",
       "1,ColumbusDay-VeteransDay-DayafterThanksgivingDay,45692467,Harvard,,0,C01-9,010085,1,,1-_-0,1\n",
       "1,ColumbusDay-VeteransDay-DayafterThanksgivingDay,45692469,Harvard,,0,C01-14,010085,1,,1-_-0,1\n"
      ],
      "text/html": [
       "<table>\n",
       "<thead><tr><th scope=\"col\">route_id</th><th scope=\"col\">service_id</th><th scope=\"col\">trip_id</th><th scope=\"col\">trip_headsign</th><th scope=\"col\">trip_short_name</th><th scope=\"col\">direction_id</th><th scope=\"col\">block_id</th><th scope=\"col\">shape_id</th><th scope=\"col\">wheelchair_accessible</th><th scope=\"col\">trip_route_type</th><th scope=\"col\">route_pattern_id</th><th scope=\"col\">bikes_allowed</th></tr></thead>\n",
       "<tbody>\n",
       "<tr><td>1</td><td>ColumbusDay-VeteransDay-DayafterThanksgivingDay</td><td>45692465</td><td>Harvard</td><td></td><td>0</td><td>C01-9</td><td>010085</td><td>1</td><td></td><td>1-_-0</td><td>1</td></tr>\n",
       "<tr><td>1</td><td>ColumbusDay-VeteransDay-DayafterThanksgivingDay</td><td>45692467</td><td>Harvard</td><td></td><td>0</td><td>C01-9</td><td>010085</td><td>1</td><td></td><td>1-_-0</td><td>1</td></tr>\n",
       "<tr><td>1</td><td>ColumbusDay-VeteransDay-DayafterThanksgivingDay</td><td>45692469</td><td>Harvard</td><td></td><td>0</td><td>C01-14</td><td>010085</td><td>1</td><td></td><td>1-_-0</td><td>1</td></tr>\n",
       "</tbody></table>\n"
      ],
      "text/plain": [
       "1|ColumbusDay-VeteransDay-DayafterThanksgivingDay|45692465|Harvard||0|C01-9|010085|1||1-_-0|1\n",
       "1|ColumbusDay-VeteransDay-DayafterThanksgivingDay|45692467|Harvard||0|C01-9|010085|1||1-_-0|1\n",
       "1|ColumbusDay-VeteransDay-DayafterThanksgivingDay|45692469|Harvard||0|C01-14|010085|1||1-_-0|1"
      ]
     },
     "execution_count": 21,
     "metadata": {},
     "output_type": "execute_result"
    }
   ],
   "source": [
    "SELECT *\n",
    "FROM\n",
    "\ttrips\n",
    "LIMIT\n",
    "\t3;"
   ]
  },
  {
   "cell_type": "markdown",
   "metadata": {
    "editable": true,
    "slideshow": {
     "slide_type": ""
    },
    "tags": []
   },
   "source": [
    "Once again, we see a `service_id` column corresponding to a row in the `calendar` table.\n",
    "\n",
    "Additionally, we see:\n",
    "* `trip_id`: a unique identifier for the trip\n",
    "* `route_id`: a unique identifier for a route in the `routes` table, which contains data about each route\n",
    "* `route_pattern_id`: a unique identifier for a pattern in the `route_patterns` table, which contains data about each combination of stops a route may take\n",
    "\n",
    "You may also notice there is no date field. That is because in GTFS, a `trip` is not an individual trip as a rider would perceive it (i.e. “the Inbound 89 trip that occurs at 8:39am on October 27th, 2020”), but a trip that occurs once on every date defined for a given service. \n",
    "\n",
    "Let's take a look at all of the services which include trips by the 89 bus."
   ]
  },
  {
   "cell_type": "code",
   "execution_count": 22,
   "metadata": {
    "editable": true,
    "slideshow": {
     "slide_type": ""
    },
    "tags": []
   },
   "outputs": [
    {
     "data": {
      "text/csv": [
       "ColumbusDay-VeteransDay-DayafterThanksgivingDay\n",
       "FallSaturday\n",
       "FallSunday\n",
       "FallWeekday\n",
       "ThanksgivingDay\n"
      ],
      "text/html": [
       "<table>\n",
       "<thead><tr><th scope=\"col\">service_id</th></tr></thead>\n",
       "<tbody>\n",
       "<tr><td>ColumbusDay-VeteransDay-DayafterThanksgivingDay</td></tr>\n",
       "<tr><td>FallSaturday</td></tr>\n",
       "<tr><td>FallSunday</td></tr>\n",
       "<tr><td>FallWeekday</td></tr>\n",
       "<tr><td>ThanksgivingDay</td></tr>\n",
       "</tbody></table>\n"
      ],
      "text/plain": [
       "ColumbusDay-VeteransDay-DayafterThanksgivingDay\n",
       "FallSaturday\n",
       "FallSunday\n",
       "FallWeekday\n",
       "ThanksgivingDay"
      ]
     },
     "execution_count": 22,
     "metadata": {},
     "output_type": "execute_result"
    }
   ],
   "source": [
    "SELECT DISTINCT\n",
    "\tservice_id\n",
    "FROM\n",
    "\ttrips\n",
    "WHERE\n",
    "\troute_id\n",
    "\t\t= '89';"
   ]
  },
  {
   "cell_type": "markdown",
   "metadata": {
    "editable": true,
    "slideshow": {
     "slide_type": ""
    },
    "tags": []
   },
   "source": [
    "As a reminder, these services can include many trips from many different routes."
   ]
  },
  {
   "cell_type": "code",
   "execution_count": 23,
   "metadata": {
    "editable": true,
    "slideshow": {
     "slide_type": ""
    },
    "tags": []
   },
   "outputs": [
    {
     "data": {
      "text/csv": [
       "154\n"
      ],
      "text/html": [
       "<table>\n",
       "<thead><tr><th scope=\"col\">COUNT(*)</th></tr></thead>\n",
       "<tbody>\n",
       "<tr><td>154</td></tr>\n",
       "</tbody></table>\n"
      ],
      "text/plain": [
       "154"
      ]
     },
     "execution_count": 23,
     "metadata": {},
     "output_type": "execute_result"
    }
   ],
   "source": [
    "SELECT\n",
    "\tCOUNT(*)\n",
    "FROM (\n",
    "\tSELECT DISTINCT\n",
    "\t\troute_id\n",
    "\tFROM\n",
    "\t\ttrips\n",
    "\tWHERE\n",
    "\t\tservice_id\n",
    "\t\t\t== 'FallWeekday'\n",
    ");"
   ]
  },
  {
   "cell_type": "markdown",
   "metadata": {
    "editable": true,
    "slideshow": {
     "slide_type": ""
    },
    "tags": []
   },
   "source": [
    "Now, let's take a look at all of the trips for the 89 bus on the `FallWeekday` service."
   ]
  },
  {
   "cell_type": "code",
   "execution_count": 24,
   "metadata": {
    "editable": true,
    "slideshow": {
     "slide_type": ""
    },
    "tags": []
   },
   "outputs": [
    {
     "data": {
      "text/csv": [
       "89,FallWeekday,45771950,Davis,,0,G89-6,890135,1,,89-2-0,1\n",
       "89,FallWeekday,45771953,Davis,,0,G89-3,890135,1,,89-2-0,1\n",
       "89,FallWeekday,45771954,Davis,,0,G89-3,890135,1,,89-2-0,1\n",
       "89,FallWeekday,45771958,Davis,,0,G89-6,890135,1,,89-2-0,1\n",
       "89,FallWeekday,45771960,Davis,,0,G89-3,890135,1,,89-2-0,1\n",
       "89,FallWeekday,45771964,Davis,,0,G89-6,890135,1,,89-2-0,1\n",
       "89,FallWeekday,45771966,Davis,,0,G89-2,890135,1,,89-2-0,1\n",
       "89,FallWeekday,45771977,Davis,,0,G89-6,890135,1,,89-2-0,1\n",
       "89,FallWeekday,45771979,Davis,,0,G89-2,890135,1,,89-2-0,1\n",
       "89,FallWeekday,45771982,Davis,,0,G89-14,890135,1,,89-2-0,1\n",
       "89,FallWeekday,45771983,Davis,,0,G89-15,890135,1,,89-2-0,1\n",
       "89,FallWeekday,45771986,Davis,,0,G89-14,890135,1,,89-2-0,1\n",
       "89,FallWeekday,45771987,Davis,,0,G89-15,890135,1,,89-2-0,1\n",
       "89,FallWeekday,45771988,Davis,,0,G89-5,890135,1,,89-2-0,1\n",
       "89,FallWeekday,45771990,Davis,,0,G89-5,890135,1,,89-2-0,1\n",
       "89,FallWeekday,45771993,Davis,,0,G89-5,890135,1,,89-2-0,1\n",
       "89,FallWeekday,45771995,Davis,,0,G89-5,890135,1,,89-2-0,1\n",
       "89,FallWeekday,45771998,Davis,,0,G89-14,890135,1,,89-2-0,1\n",
       "89,FallWeekday,45771999,Davis,,0,G89-15,890135,1,,89-2-0,1\n",
       "89,FallWeekday,45772002,Davis,,0,G89-14,890135,1,,89-2-0,1\n",
       "89,FallWeekday,45772004,Davis,,0,G89-15,890135,1,,89-2-0,1\n",
       "89,FallWeekday,45772013,Davis,,0,G101-76,890135,1,,89-2-0,1\n",
       "89,FallWeekday,45772015,Davis,,0,G89-7,890135,1,,89-2-0,1\n",
       "89,FallWeekday,45772018,Davis,,0,G89-10,890135,1,,89-2-0,1\n",
       "89,FallWeekday,45772021,Davis,,0,G89-12,890135,1,,89-2-0,1\n",
       "89,FallWeekday,45772023,Davis,,0,G89-7,890135,1,,89-2-0,1\n",
       "89,FallWeekday,45772026,Davis,,0,G101-69,890135,1,,89-2-0,1\n",
       "89,FallWeekday,45772027,Davis,,0,G89-10,890135,1,,89-2-0,1\n",
       "89,FallWeekday,45772032,Davis,,0,G89-12,890135,1,,89-2-0,1\n",
       "89,FallWeekday,45772034,Davis,,0,G89-8,890135,1,,89-2-0,1\n",
       "89,FallWeekday,45772038,Davis,,0,G101-69,890135,1,,89-2-0,1\n",
       "89,FallWeekday,45772039,Davis,,0,G89-10,890135,1,,89-2-0,1\n",
       "89,FallWeekday,45772042,Davis,,0,G89-11,890135,1,,89-2-0,1\n",
       "89,FallWeekday,45772046,Davis,,0,G89-8,890135,1,,89-2-0,1\n",
       "89,FallWeekday,45772049,Davis,,0,G89-11,890135,1,,89-2-0,1\n",
       "89,FallWeekday,45772052,Davis,,0,G110-129,890135,1,,89-2-0,1\n",
       "89,FallWeekday,45772054,Davis,,0,G89-11,890135,1,,89-2-0,1\n",
       "89,FallWeekday,45772056,Davis,,0,G110-129,890135,1,,89-2-0,1\n",
       "89,FallWeekday,45772058,Davis,,0,G89-11,890135,1,,89-2-0,1\n",
       "89,FallWeekday,45772060,Davis,,0,G89-11,890135,1,,89-2-0,1\n",
       "89,FallWeekday,45772062,Davis,,0,G89-11,890135,1,,89-2-0,1\n",
       "89,FallWeekday,45772064,Davis,,0,G89-13,890135,1,,89-2-0,1\n",
       "89,FallWeekday,45772066,Davis,,0,G89-13,890135,1,,89-2-0,1\n",
       "89,FallWeekday,45772068,Davis,,0,G89-13,890135,1,,89-2-0,1\n",
       "89,FallWeekday,45772070,Davis,,0,G89-13,890135,1,,89-2-0,1\n",
       "89,FallWeekday,45772072,Davis,,0,G89-13,890135,1,,89-2-0,1\n",
       "89,FallWeekday,45771946,Clarendon Hill,,0,G89-1,890137,1,,89-_-0,1\n",
       "89,FallWeekday,45771948,Clarendon Hill,,0,G89-1,890137,1,,89-_-0,1\n",
       "89,FallWeekday,45771951,Clarendon Hill,,0,G89-1,890137,1,,89-_-0,1\n",
       "89,FallWeekday,45771959,Clarendon Hill,,0,G89-1,890137,1,,89-_-0,1\n",
       "89,FallWeekday,45771965,Clarendon Hill,,0,G89-1,890137,1,,89-_-0,1\n",
       "89,FallWeekday,45771970,Clarendon Hill,,0,G89-4,890137,1,,89-_-0,1\n",
       "89,FallWeekday,45771972,Clarendon Hill,,0,G89-4,890137,1,,89-_-0,1\n",
       "89,FallWeekday,45771974,Clarendon Hill,,0,G89-4,890137,1,,89-_-0,1\n",
       "89,FallWeekday,45771976,Clarendon Hill,,0,G89-4,890137,1,,89-_-0,1\n",
       "89,FallWeekday,45772006,Clarendon Hill,,0,G101-76,890137,1,,89-_-0,1\n",
       "89,FallWeekday,45772007,Clarendon Hill,,0,G89-16,890137,1,,89-_-0,1\n",
       "89,FallWeekday,45772010,Clarendon Hill,,0,G101-76,890137,1,,89-_-0,1\n",
       "89,FallWeekday,45772011,Clarendon Hill,,0,G89-16,890137,1,,89-_-0,1\n",
       "89,FallWeekday,45772017,Clarendon Hill,,0,G89-9,890137,1,,89-_-0,1\n",
       "89,FallWeekday,45772024,Clarendon Hill,,0,G89-9,890137,1,,89-_-0,1\n",
       "89,FallWeekday,45772029,Clarendon Hill,,0,G89-11,890137,1,,89-_-0,1\n",
       "89,FallWeekday,45772035,Clarendon Hill,,0,G89-9,890137,1,,89-_-0,1\n",
       "89,FallWeekday,45772043,Clarendon Hill,,0,G89-12,890137,1,,89-_-0,1\n",
       "89,FallWeekday,45771952,Sullivan,,1,G89-3,890131,1,,89-2-1,1\n",
       "89,FallWeekday,45771955,Sullivan,,1,G89-6,890131,1,,89-2-1,1\n",
       "89,FallWeekday,45771957,Sullivan,,1,G89-3,890131,1,,89-2-1,1\n",
       "89,FallWeekday,45771961,Sullivan,,1,G89-6,890131,1,,89-2-1,1\n",
       "89,FallWeekday,45771963,Sullivan,,1,G89-3,890131,1,,89-2-1,1\n",
       "89,FallWeekday,45771967,Sullivan,,1,G89-6,890131,1,,89-2-1,1\n",
       "89,FallWeekday,45771969,Sullivan,,1,G89-2,890131,1,,89-2-1,1\n",
       "89,FallWeekday,45771980,Sullivan,,1,G89-6,890131,1,,89-2-1,1\n",
       "89,FallWeekday,45771981,Sullivan,,1,G89-2,890131,1,,89-2-1,1\n",
       "89,FallWeekday,45771984,Sullivan,,1,G89-14,890131,1,,89-2-1,1\n",
       "89,FallWeekday,45771985,Sullivan,,1,G89-15,890131,1,,89-2-1,1\n",
       "89,FallWeekday,45771989,Sullivan,,1,G89-14,890131,1,,89-2-1,1\n",
       "89,FallWeekday,45771991,Sullivan,,1,G89-5,890131,1,,89-2-1,1\n",
       "89,FallWeekday,45771992,Sullivan,,1,G89-5,890131,1,,89-2-1,1\n",
       "89,FallWeekday,45771994,Sullivan,,1,G89-5,890131,1,,89-2-1,1\n",
       "89,FallWeekday,45771996,Sullivan,,1,G89-5,890131,1,,89-2-1,1\n",
       "89,FallWeekday,45771997,Sullivan,,1,G89-15,890131,1,,89-2-1,1\n",
       "89,FallWeekday,45772000,Sullivan,,1,G89-14,890131,1,,89-2-1,1\n",
       "89,FallWeekday,45772001,Sullivan,,1,G89-15,890131,1,,89-2-1,1\n",
       "89,FallWeekday,45772003,Sullivan,,1,G89-14,890131,1,,89-2-1,1\n",
       "89,FallWeekday,45772005,Sullivan,,1,G89-15,890131,1,,89-2-1,1\n",
       "89,FallWeekday,45772016,Sullivan,,1,G101-76,890131,1,,89-2-1,1\n",
       "89,FallWeekday,45772019,Sullivan,,1,G89-7,890131,1,,89-2-1,1\n",
       "89,FallWeekday,45772022,Sullivan,,1,G89-10,890131,1,,89-2-1,1\n",
       "89,FallWeekday,45772025,Sullivan,,1,G89-12,890131,1,,89-2-1,1\n",
       "89,FallWeekday,45772028,Sullivan,,1,G89-7,890131,1,,89-2-1,1\n",
       "89,FallWeekday,45772031,Sullivan,,1,G101-69,890131,1,,89-2-1,1\n",
       "89,FallWeekday,45772033,Sullivan,,1,G89-10,890131,1,,89-2-1,1\n",
       "89,FallWeekday,45772037,Sullivan,,1,G89-12,890131,1,,89-2-1,1\n",
       "89,FallWeekday,45772040,Sullivan,,1,G89-8,890131,1,,89-2-1,1\n",
       "89,FallWeekday,45772044,Sullivan,,1,G101-69,890131,1,,89-2-1,1\n",
       "89,FallWeekday,45772045,Sullivan,,1,G89-10,890131,1,,89-2-1,1\n",
       "89,FallWeekday,45772047,Sullivan,,1,G89-11,890131,1,,89-2-1,1\n",
       "89,FallWeekday,45772050,Sullivan,,1,G89-8,890131,1,,89-2-1,1\n",
       "89,FallWeekday,45772051,Sullivan,,1,G89-11,890131,1,,89-2-1,1\n",
       "89,FallWeekday,45772053,Sullivan,,1,G110-129,890131,1,,89-2-1,1\n",
       "89,FallWeekday,45772055,Sullivan,,1,G89-11,890131,1,,89-2-1,1\n",
       "89,FallWeekday,45772057,Sullivan,,1,G110-129,890131,1,,89-2-1,1\n",
       "89,FallWeekday,45772059,Sullivan,,1,G89-11,890131,1,,89-2-1,1\n",
       "89,FallWeekday,45772061,Sullivan,,1,G89-11,890131,1,,89-2-1,1\n",
       "89,FallWeekday,45772063,Sullivan,,1,G89-11,890131,1,,89-2-1,1\n",
       "89,FallWeekday,45772065,Sullivan,,1,G89-13,890131,1,,89-2-1,1\n",
       "89,FallWeekday,45772067,Sullivan,,1,G89-13,890131,1,,89-2-1,1\n",
       "89,FallWeekday,45772069,Sullivan,,1,G89-13,890131,1,,89-2-1,1\n",
       "89,FallWeekday,45772071,Sullivan,,1,G89-13,890131,1,,89-2-1,1\n",
       "89,FallWeekday,45772073,Sullivan,,1,G89-13,890131,1,,89-2-1,1\n",
       "89,FallWeekday,45771947,Sullivan,,1,G89-1,890136,1,,89-_-1,1\n",
       "89,FallWeekday,45771949,Sullivan,,1,G89-1,890136,1,,89-_-1,1\n",
       "89,FallWeekday,45771956,Sullivan,,1,G89-1,890136,1,,89-_-1,1\n",
       "89,FallWeekday,45771962,Sullivan,,1,G89-1,890136,1,,89-_-1,1\n",
       "89,FallWeekday,45771968,Sullivan,,1,G89-1,890136,1,,89-_-1,1\n",
       "89,FallWeekday,45771971,Sullivan,,1,G89-4,890136,1,,89-_-1,1\n",
       "89,FallWeekday,45771973,Sullivan,,1,G89-4,890136,1,,89-_-1,1\n",
       "89,FallWeekday,45771975,Sullivan,,1,G89-4,890136,1,,89-_-1,1\n",
       "89,FallWeekday,45771978,Sullivan,,1,G89-4,890136,1,,89-_-1,1\n",
       "89,FallWeekday,45772008,Sullivan,,1,G101-76,890136,1,,89-_-1,1\n",
       "89,FallWeekday,45772009,Sullivan,,1,G89-16,890136,1,,89-_-1,1\n",
       "89,FallWeekday,45772012,Sullivan,,1,G101-76,890136,1,,89-_-1,1\n",
       "89,FallWeekday,45772014,Sullivan,,1,G89-16,890136,1,,89-_-1,1\n",
       "89,FallWeekday,45772020,Sullivan,,1,G89-9,890136,1,,89-_-1,1\n",
       "89,FallWeekday,45772030,Sullivan,,1,G89-9,890136,1,,89-_-1,1\n",
       "89,FallWeekday,45772036,Sullivan,,1,G89-11,890136,1,,89-_-1,1\n",
       "89,FallWeekday,45772041,Sullivan,,1,G89-9,890136,1,,89-_-1,1\n",
       "89,FallWeekday,45772048,Sullivan,,1,G89-12,890136,1,,89-_-1,1\n"
      ],
      "text/html": [
       "<table>\n",
       "<thead><tr><th scope=\"col\">route_id</th><th scope=\"col\">service_id</th><th scope=\"col\">trip_id</th><th scope=\"col\">trip_headsign</th><th scope=\"col\">trip_short_name</th><th scope=\"col\">direction_id</th><th scope=\"col\">block_id</th><th scope=\"col\">shape_id</th><th scope=\"col\">wheelchair_accessible</th><th scope=\"col\">trip_route_type</th><th scope=\"col\">route_pattern_id</th><th scope=\"col\">bikes_allowed</th></tr></thead>\n",
       "<tbody>\n",
       "<tr><td>89</td><td>FallWeekday</td><td>45771950</td><td>Davis</td><td></td><td>0</td><td>G89-6</td><td>890135</td><td>1</td><td></td><td>89-2-0</td><td>1</td></tr>\n",
       "<tr><td>89</td><td>FallWeekday</td><td>45771953</td><td>Davis</td><td></td><td>0</td><td>G89-3</td><td>890135</td><td>1</td><td></td><td>89-2-0</td><td>1</td></tr>\n",
       "<tr><td>89</td><td>FallWeekday</td><td>45771954</td><td>Davis</td><td></td><td>0</td><td>G89-3</td><td>890135</td><td>1</td><td></td><td>89-2-0</td><td>1</td></tr>\n",
       "<tr><td>89</td><td>FallWeekday</td><td>45771958</td><td>Davis</td><td></td><td>0</td><td>G89-6</td><td>890135</td><td>1</td><td></td><td>89-2-0</td><td>1</td></tr>\n",
       "<tr><td>89</td><td>FallWeekday</td><td>45771960</td><td>Davis</td><td></td><td>0</td><td>G89-3</td><td>890135</td><td>1</td><td></td><td>89-2-0</td><td>1</td></tr>\n",
       "<tr><td>89</td><td>FallWeekday</td><td>45771964</td><td>Davis</td><td></td><td>0</td><td>G89-6</td><td>890135</td><td>1</td><td></td><td>89-2-0</td><td>1</td></tr>\n",
       "<tr><td>89</td><td>FallWeekday</td><td>45771966</td><td>Davis</td><td></td><td>0</td><td>G89-2</td><td>890135</td><td>1</td><td></td><td>89-2-0</td><td>1</td></tr>\n",
       "<tr><td>89</td><td>FallWeekday</td><td>45771977</td><td>Davis</td><td></td><td>0</td><td>G89-6</td><td>890135</td><td>1</td><td></td><td>89-2-0</td><td>1</td></tr>\n",
       "<tr><td>89</td><td>FallWeekday</td><td>45771979</td><td>Davis</td><td></td><td>0</td><td>G89-2</td><td>890135</td><td>1</td><td></td><td>89-2-0</td><td>1</td></tr>\n",
       "<tr><td>89</td><td>FallWeekday</td><td>45771982</td><td>Davis</td><td></td><td>0</td><td>G89-14</td><td>890135</td><td>1</td><td></td><td>89-2-0</td><td>1</td></tr>\n",
       "<tr><td>89</td><td>FallWeekday</td><td>45771983</td><td>Davis</td><td></td><td>0</td><td>G89-15</td><td>890135</td><td>1</td><td></td><td>89-2-0</td><td>1</td></tr>\n",
       "<tr><td>89</td><td>FallWeekday</td><td>45771986</td><td>Davis</td><td></td><td>0</td><td>G89-14</td><td>890135</td><td>1</td><td></td><td>89-2-0</td><td>1</td></tr>\n",
       "<tr><td>89</td><td>FallWeekday</td><td>45771987</td><td>Davis</td><td></td><td>0</td><td>G89-15</td><td>890135</td><td>1</td><td></td><td>89-2-0</td><td>1</td></tr>\n",
       "<tr><td>89</td><td>FallWeekday</td><td>45771988</td><td>Davis</td><td></td><td>0</td><td>G89-5</td><td>890135</td><td>1</td><td></td><td>89-2-0</td><td>1</td></tr>\n",
       "<tr><td>89</td><td>FallWeekday</td><td>45771990</td><td>Davis</td><td></td><td>0</td><td>G89-5</td><td>890135</td><td>1</td><td></td><td>89-2-0</td><td>1</td></tr>\n",
       "<tr><td>89</td><td>FallWeekday</td><td>45771993</td><td>Davis</td><td></td><td>0</td><td>G89-5</td><td>890135</td><td>1</td><td></td><td>89-2-0</td><td>1</td></tr>\n",
       "<tr><td>89</td><td>FallWeekday</td><td>45771995</td><td>Davis</td><td></td><td>0</td><td>G89-5</td><td>890135</td><td>1</td><td></td><td>89-2-0</td><td>1</td></tr>\n",
       "<tr><td>89</td><td>FallWeekday</td><td>45771998</td><td>Davis</td><td></td><td>0</td><td>G89-14</td><td>890135</td><td>1</td><td></td><td>89-2-0</td><td>1</td></tr>\n",
       "<tr><td>89</td><td>FallWeekday</td><td>45771999</td><td>Davis</td><td></td><td>0</td><td>G89-15</td><td>890135</td><td>1</td><td></td><td>89-2-0</td><td>1</td></tr>\n",
       "<tr><td>89</td><td>FallWeekday</td><td>45772002</td><td>Davis</td><td></td><td>0</td><td>G89-14</td><td>890135</td><td>1</td><td></td><td>89-2-0</td><td>1</td></tr>\n",
       "<tr><td>89</td><td>FallWeekday</td><td>45772004</td><td>Davis</td><td></td><td>0</td><td>G89-15</td><td>890135</td><td>1</td><td></td><td>89-2-0</td><td>1</td></tr>\n",
       "<tr><td>89</td><td>FallWeekday</td><td>45772013</td><td>Davis</td><td></td><td>0</td><td>G101-76</td><td>890135</td><td>1</td><td></td><td>89-2-0</td><td>1</td></tr>\n",
       "<tr><td>89</td><td>FallWeekday</td><td>45772015</td><td>Davis</td><td></td><td>0</td><td>G89-7</td><td>890135</td><td>1</td><td></td><td>89-2-0</td><td>1</td></tr>\n",
       "<tr><td>89</td><td>FallWeekday</td><td>45772018</td><td>Davis</td><td></td><td>0</td><td>G89-10</td><td>890135</td><td>1</td><td></td><td>89-2-0</td><td>1</td></tr>\n",
       "<tr><td>89</td><td>FallWeekday</td><td>45772021</td><td>Davis</td><td></td><td>0</td><td>G89-12</td><td>890135</td><td>1</td><td></td><td>89-2-0</td><td>1</td></tr>\n",
       "<tr><td>89</td><td>FallWeekday</td><td>45772023</td><td>Davis</td><td></td><td>0</td><td>G89-7</td><td>890135</td><td>1</td><td></td><td>89-2-0</td><td>1</td></tr>\n",
       "<tr><td>89</td><td>FallWeekday</td><td>45772026</td><td>Davis</td><td></td><td>0</td><td>G101-69</td><td>890135</td><td>1</td><td></td><td>89-2-0</td><td>1</td></tr>\n",
       "<tr><td>89</td><td>FallWeekday</td><td>45772027</td><td>Davis</td><td></td><td>0</td><td>G89-10</td><td>890135</td><td>1</td><td></td><td>89-2-0</td><td>1</td></tr>\n",
       "<tr><td>89</td><td>FallWeekday</td><td>45772032</td><td>Davis</td><td></td><td>0</td><td>G89-12</td><td>890135</td><td>1</td><td></td><td>89-2-0</td><td>1</td></tr>\n",
       "<tr><td>89</td><td>FallWeekday</td><td>45772034</td><td>Davis</td><td></td><td>0</td><td>G89-8</td><td>890135</td><td>1</td><td></td><td>89-2-0</td><td>1</td></tr>\n",
       "<tr><td>89</td><td>FallWeekday</td><td>45772038</td><td>Davis</td><td></td><td>0</td><td>G101-69</td><td>890135</td><td>1</td><td></td><td>89-2-0</td><td>1</td></tr>\n",
       "<tr><td>89</td><td>FallWeekday</td><td>45772039</td><td>Davis</td><td></td><td>0</td><td>G89-10</td><td>890135</td><td>1</td><td></td><td>89-2-0</td><td>1</td></tr>\n",
       "<tr><td>89</td><td>FallWeekday</td><td>45772042</td><td>Davis</td><td></td><td>0</td><td>G89-11</td><td>890135</td><td>1</td><td></td><td>89-2-0</td><td>1</td></tr>\n",
       "<tr><td>89</td><td>FallWeekday</td><td>45772046</td><td>Davis</td><td></td><td>0</td><td>G89-8</td><td>890135</td><td>1</td><td></td><td>89-2-0</td><td>1</td></tr>\n",
       "<tr><td>89</td><td>FallWeekday</td><td>45772049</td><td>Davis</td><td></td><td>0</td><td>G89-11</td><td>890135</td><td>1</td><td></td><td>89-2-0</td><td>1</td></tr>\n",
       "<tr><td>89</td><td>FallWeekday</td><td>45772052</td><td>Davis</td><td></td><td>0</td><td>G110-129</td><td>890135</td><td>1</td><td></td><td>89-2-0</td><td>1</td></tr>\n",
       "<tr><td>89</td><td>FallWeekday</td><td>45772054</td><td>Davis</td><td></td><td>0</td><td>G89-11</td><td>890135</td><td>1</td><td></td><td>89-2-0</td><td>1</td></tr>\n",
       "<tr><td>89</td><td>FallWeekday</td><td>45772056</td><td>Davis</td><td></td><td>0</td><td>G110-129</td><td>890135</td><td>1</td><td></td><td>89-2-0</td><td>1</td></tr>\n",
       "<tr><td>89</td><td>FallWeekday</td><td>45772058</td><td>Davis</td><td></td><td>0</td><td>G89-11</td><td>890135</td><td>1</td><td></td><td>89-2-0</td><td>1</td></tr>\n",
       "<tr><td>89</td><td>FallWeekday</td><td>45772060</td><td>Davis</td><td></td><td>0</td><td>G89-11</td><td>890135</td><td>1</td><td></td><td>89-2-0</td><td>1</td></tr>\n",
       "<tr><td>89</td><td>FallWeekday</td><td>45772062</td><td>Davis</td><td></td><td>0</td><td>G89-11</td><td>890135</td><td>1</td><td></td><td>89-2-0</td><td>1</td></tr>\n",
       "<tr><td>89</td><td>FallWeekday</td><td>45772064</td><td>Davis</td><td></td><td>0</td><td>G89-13</td><td>890135</td><td>1</td><td></td><td>89-2-0</td><td>1</td></tr>\n",
       "<tr><td>89</td><td>FallWeekday</td><td>45772066</td><td>Davis</td><td></td><td>0</td><td>G89-13</td><td>890135</td><td>1</td><td></td><td>89-2-0</td><td>1</td></tr>\n",
       "<tr><td>89</td><td>FallWeekday</td><td>45772068</td><td>Davis</td><td></td><td>0</td><td>G89-13</td><td>890135</td><td>1</td><td></td><td>89-2-0</td><td>1</td></tr>\n",
       "<tr><td>89</td><td>FallWeekday</td><td>45772070</td><td>Davis</td><td></td><td>0</td><td>G89-13</td><td>890135</td><td>1</td><td></td><td>89-2-0</td><td>1</td></tr>\n",
       "<tr><td>89</td><td>FallWeekday</td><td>45772072</td><td>Davis</td><td></td><td>0</td><td>G89-13</td><td>890135</td><td>1</td><td></td><td>89-2-0</td><td>1</td></tr>\n",
       "<tr><td>89</td><td>FallWeekday</td><td>45771946</td><td>Clarendon Hill</td><td></td><td>0</td><td>G89-1</td><td>890137</td><td>1</td><td></td><td>89-_-0</td><td>1</td></tr>\n",
       "<tr><td>89</td><td>FallWeekday</td><td>45771948</td><td>Clarendon Hill</td><td></td><td>0</td><td>G89-1</td><td>890137</td><td>1</td><td></td><td>89-_-0</td><td>1</td></tr>\n",
       "<tr><td>89</td><td>FallWeekday</td><td>45771951</td><td>Clarendon Hill</td><td></td><td>0</td><td>G89-1</td><td>890137</td><td>1</td><td></td><td>89-_-0</td><td>1</td></tr>\n",
       "<tr><td>89</td><td>FallWeekday</td><td>45771959</td><td>Clarendon Hill</td><td></td><td>0</td><td>G89-1</td><td>890137</td><td>1</td><td></td><td>89-_-0</td><td>1</td></tr>\n",
       "<tr><td>89</td><td>FallWeekday</td><td>45771965</td><td>Clarendon Hill</td><td></td><td>0</td><td>G89-1</td><td>890137</td><td>1</td><td></td><td>89-_-0</td><td>1</td></tr>\n",
       "<tr><td>89</td><td>FallWeekday</td><td>45771970</td><td>Clarendon Hill</td><td></td><td>0</td><td>G89-4</td><td>890137</td><td>1</td><td></td><td>89-_-0</td><td>1</td></tr>\n",
       "<tr><td>89</td><td>FallWeekday</td><td>45771972</td><td>Clarendon Hill</td><td></td><td>0</td><td>G89-4</td><td>890137</td><td>1</td><td></td><td>89-_-0</td><td>1</td></tr>\n",
       "<tr><td>89</td><td>FallWeekday</td><td>45771974</td><td>Clarendon Hill</td><td></td><td>0</td><td>G89-4</td><td>890137</td><td>1</td><td></td><td>89-_-0</td><td>1</td></tr>\n",
       "<tr><td>89</td><td>FallWeekday</td><td>45771976</td><td>Clarendon Hill</td><td></td><td>0</td><td>G89-4</td><td>890137</td><td>1</td><td></td><td>89-_-0</td><td>1</td></tr>\n",
       "<tr><td>89</td><td>FallWeekday</td><td>45772006</td><td>Clarendon Hill</td><td></td><td>0</td><td>G101-76</td><td>890137</td><td>1</td><td></td><td>89-_-0</td><td>1</td></tr>\n",
       "<tr><td>89</td><td>FallWeekday</td><td>45772007</td><td>Clarendon Hill</td><td></td><td>0</td><td>G89-16</td><td>890137</td><td>1</td><td></td><td>89-_-0</td><td>1</td></tr>\n",
       "<tr><td>89</td><td>FallWeekday</td><td>45772010</td><td>Clarendon Hill</td><td></td><td>0</td><td>G101-76</td><td>890137</td><td>1</td><td></td><td>89-_-0</td><td>1</td></tr>\n",
       "<tr><td>89</td><td>FallWeekday</td><td>45772011</td><td>Clarendon Hill</td><td></td><td>0</td><td>G89-16</td><td>890137</td><td>1</td><td></td><td>89-_-0</td><td>1</td></tr>\n",
       "<tr><td>89</td><td>FallWeekday</td><td>45772017</td><td>Clarendon Hill</td><td></td><td>0</td><td>G89-9</td><td>890137</td><td>1</td><td></td><td>89-_-0</td><td>1</td></tr>\n",
       "<tr><td>89</td><td>FallWeekday</td><td>45772024</td><td>Clarendon Hill</td><td></td><td>0</td><td>G89-9</td><td>890137</td><td>1</td><td></td><td>89-_-0</td><td>1</td></tr>\n",
       "<tr><td>89</td><td>FallWeekday</td><td>45772029</td><td>Clarendon Hill</td><td></td><td>0</td><td>G89-11</td><td>890137</td><td>1</td><td></td><td>89-_-0</td><td>1</td></tr>\n",
       "<tr><td>89</td><td>FallWeekday</td><td>45772035</td><td>Clarendon Hill</td><td></td><td>0</td><td>G89-9</td><td>890137</td><td>1</td><td></td><td>89-_-0</td><td>1</td></tr>\n",
       "<tr><td>89</td><td>FallWeekday</td><td>45772043</td><td>Clarendon Hill</td><td></td><td>0</td><td>G89-12</td><td>890137</td><td>1</td><td></td><td>89-_-0</td><td>1</td></tr>\n",
       "<tr><td>89</td><td>FallWeekday</td><td>45771952</td><td>Sullivan</td><td></td><td>1</td><td>G89-3</td><td>890131</td><td>1</td><td></td><td>89-2-1</td><td>1</td></tr>\n",
       "<tr><td>89</td><td>FallWeekday</td><td>45771955</td><td>Sullivan</td><td></td><td>1</td><td>G89-6</td><td>890131</td><td>1</td><td></td><td>89-2-1</td><td>1</td></tr>\n",
       "<tr><td>89</td><td>FallWeekday</td><td>45771957</td><td>Sullivan</td><td></td><td>1</td><td>G89-3</td><td>890131</td><td>1</td><td></td><td>89-2-1</td><td>1</td></tr>\n",
       "<tr><td>89</td><td>FallWeekday</td><td>45771961</td><td>Sullivan</td><td></td><td>1</td><td>G89-6</td><td>890131</td><td>1</td><td></td><td>89-2-1</td><td>1</td></tr>\n",
       "<tr><td>89</td><td>FallWeekday</td><td>45771963</td><td>Sullivan</td><td></td><td>1</td><td>G89-3</td><td>890131</td><td>1</td><td></td><td>89-2-1</td><td>1</td></tr>\n",
       "<tr><td>89</td><td>FallWeekday</td><td>45771967</td><td>Sullivan</td><td></td><td>1</td><td>G89-6</td><td>890131</td><td>1</td><td></td><td>89-2-1</td><td>1</td></tr>\n",
       "<tr><td>89</td><td>FallWeekday</td><td>45771969</td><td>Sullivan</td><td></td><td>1</td><td>G89-2</td><td>890131</td><td>1</td><td></td><td>89-2-1</td><td>1</td></tr>\n",
       "<tr><td>89</td><td>FallWeekday</td><td>45771980</td><td>Sullivan</td><td></td><td>1</td><td>G89-6</td><td>890131</td><td>1</td><td></td><td>89-2-1</td><td>1</td></tr>\n",
       "<tr><td>89</td><td>FallWeekday</td><td>45771981</td><td>Sullivan</td><td></td><td>1</td><td>G89-2</td><td>890131</td><td>1</td><td></td><td>89-2-1</td><td>1</td></tr>\n",
       "<tr><td>89</td><td>FallWeekday</td><td>45771984</td><td>Sullivan</td><td></td><td>1</td><td>G89-14</td><td>890131</td><td>1</td><td></td><td>89-2-1</td><td>1</td></tr>\n",
       "<tr><td>89</td><td>FallWeekday</td><td>45771985</td><td>Sullivan</td><td></td><td>1</td><td>G89-15</td><td>890131</td><td>1</td><td></td><td>89-2-1</td><td>1</td></tr>\n",
       "<tr><td>89</td><td>FallWeekday</td><td>45771989</td><td>Sullivan</td><td></td><td>1</td><td>G89-14</td><td>890131</td><td>1</td><td></td><td>89-2-1</td><td>1</td></tr>\n",
       "<tr><td>89</td><td>FallWeekday</td><td>45771991</td><td>Sullivan</td><td></td><td>1</td><td>G89-5</td><td>890131</td><td>1</td><td></td><td>89-2-1</td><td>1</td></tr>\n",
       "<tr><td>89</td><td>FallWeekday</td><td>45771992</td><td>Sullivan</td><td></td><td>1</td><td>G89-5</td><td>890131</td><td>1</td><td></td><td>89-2-1</td><td>1</td></tr>\n",
       "<tr><td>89</td><td>FallWeekday</td><td>45771994</td><td>Sullivan</td><td></td><td>1</td><td>G89-5</td><td>890131</td><td>1</td><td></td><td>89-2-1</td><td>1</td></tr>\n",
       "<tr><td>89</td><td>FallWeekday</td><td>45771996</td><td>Sullivan</td><td></td><td>1</td><td>G89-5</td><td>890131</td><td>1</td><td></td><td>89-2-1</td><td>1</td></tr>\n",
       "<tr><td>89</td><td>FallWeekday</td><td>45771997</td><td>Sullivan</td><td></td><td>1</td><td>G89-15</td><td>890131</td><td>1</td><td></td><td>89-2-1</td><td>1</td></tr>\n",
       "<tr><td>89</td><td>FallWeekday</td><td>45772000</td><td>Sullivan</td><td></td><td>1</td><td>G89-14</td><td>890131</td><td>1</td><td></td><td>89-2-1</td><td>1</td></tr>\n",
       "<tr><td>89</td><td>FallWeekday</td><td>45772001</td><td>Sullivan</td><td></td><td>1</td><td>G89-15</td><td>890131</td><td>1</td><td></td><td>89-2-1</td><td>1</td></tr>\n",
       "<tr><td>89</td><td>FallWeekday</td><td>45772003</td><td>Sullivan</td><td></td><td>1</td><td>G89-14</td><td>890131</td><td>1</td><td></td><td>89-2-1</td><td>1</td></tr>\n",
       "<tr><td>89</td><td>FallWeekday</td><td>45772005</td><td>Sullivan</td><td></td><td>1</td><td>G89-15</td><td>890131</td><td>1</td><td></td><td>89-2-1</td><td>1</td></tr>\n",
       "<tr><td>89</td><td>FallWeekday</td><td>45772016</td><td>Sullivan</td><td></td><td>1</td><td>G101-76</td><td>890131</td><td>1</td><td></td><td>89-2-1</td><td>1</td></tr>\n",
       "<tr><td>89</td><td>FallWeekday</td><td>45772019</td><td>Sullivan</td><td></td><td>1</td><td>G89-7</td><td>890131</td><td>1</td><td></td><td>89-2-1</td><td>1</td></tr>\n",
       "<tr><td>89</td><td>FallWeekday</td><td>45772022</td><td>Sullivan</td><td></td><td>1</td><td>G89-10</td><td>890131</td><td>1</td><td></td><td>89-2-1</td><td>1</td></tr>\n",
       "<tr><td>89</td><td>FallWeekday</td><td>45772025</td><td>Sullivan</td><td></td><td>1</td><td>G89-12</td><td>890131</td><td>1</td><td></td><td>89-2-1</td><td>1</td></tr>\n",
       "<tr><td>89</td><td>FallWeekday</td><td>45772028</td><td>Sullivan</td><td></td><td>1</td><td>G89-7</td><td>890131</td><td>1</td><td></td><td>89-2-1</td><td>1</td></tr>\n",
       "<tr><td>89</td><td>FallWeekday</td><td>45772031</td><td>Sullivan</td><td></td><td>1</td><td>G101-69</td><td>890131</td><td>1</td><td></td><td>89-2-1</td><td>1</td></tr>\n",
       "<tr><td>89</td><td>FallWeekday</td><td>45772033</td><td>Sullivan</td><td></td><td>1</td><td>G89-10</td><td>890131</td><td>1</td><td></td><td>89-2-1</td><td>1</td></tr>\n",
       "<tr><td>89</td><td>FallWeekday</td><td>45772037</td><td>Sullivan</td><td></td><td>1</td><td>G89-12</td><td>890131</td><td>1</td><td></td><td>89-2-1</td><td>1</td></tr>\n",
       "<tr><td>89</td><td>FallWeekday</td><td>45772040</td><td>Sullivan</td><td></td><td>1</td><td>G89-8</td><td>890131</td><td>1</td><td></td><td>89-2-1</td><td>1</td></tr>\n",
       "<tr><td>89</td><td>FallWeekday</td><td>45772044</td><td>Sullivan</td><td></td><td>1</td><td>G101-69</td><td>890131</td><td>1</td><td></td><td>89-2-1</td><td>1</td></tr>\n",
       "<tr><td>89</td><td>FallWeekday</td><td>45772045</td><td>Sullivan</td><td></td><td>1</td><td>G89-10</td><td>890131</td><td>1</td><td></td><td>89-2-1</td><td>1</td></tr>\n",
       "<tr><td>89</td><td>FallWeekday</td><td>45772047</td><td>Sullivan</td><td></td><td>1</td><td>G89-11</td><td>890131</td><td>1</td><td></td><td>89-2-1</td><td>1</td></tr>\n",
       "<tr><td>89</td><td>FallWeekday</td><td>45772050</td><td>Sullivan</td><td></td><td>1</td><td>G89-8</td><td>890131</td><td>1</td><td></td><td>89-2-1</td><td>1</td></tr>\n",
       "<tr><td>89</td><td>FallWeekday</td><td>45772051</td><td>Sullivan</td><td></td><td>1</td><td>G89-11</td><td>890131</td><td>1</td><td></td><td>89-2-1</td><td>1</td></tr>\n",
       "<tr><td>89</td><td>FallWeekday</td><td>45772053</td><td>Sullivan</td><td></td><td>1</td><td>G110-129</td><td>890131</td><td>1</td><td></td><td>89-2-1</td><td>1</td></tr>\n",
       "<tr><td>89</td><td>FallWeekday</td><td>45772055</td><td>Sullivan</td><td></td><td>1</td><td>G89-11</td><td>890131</td><td>1</td><td></td><td>89-2-1</td><td>1</td></tr>\n",
       "<tr><td>89</td><td>FallWeekday</td><td>45772057</td><td>Sullivan</td><td></td><td>1</td><td>G110-129</td><td>890131</td><td>1</td><td></td><td>89-2-1</td><td>1</td></tr>\n",
       "<tr><td>89</td><td>FallWeekday</td><td>45772059</td><td>Sullivan</td><td></td><td>1</td><td>G89-11</td><td>890131</td><td>1</td><td></td><td>89-2-1</td><td>1</td></tr>\n",
       "<tr><td>89</td><td>FallWeekday</td><td>45772061</td><td>Sullivan</td><td></td><td>1</td><td>G89-11</td><td>890131</td><td>1</td><td></td><td>89-2-1</td><td>1</td></tr>\n",
       "<tr><td>89</td><td>FallWeekday</td><td>45772063</td><td>Sullivan</td><td></td><td>1</td><td>G89-11</td><td>890131</td><td>1</td><td></td><td>89-2-1</td><td>1</td></tr>\n",
       "<tr><td>89</td><td>FallWeekday</td><td>45772065</td><td>Sullivan</td><td></td><td>1</td><td>G89-13</td><td>890131</td><td>1</td><td></td><td>89-2-1</td><td>1</td></tr>\n",
       "<tr><td>89</td><td>FallWeekday</td><td>45772067</td><td>Sullivan</td><td></td><td>1</td><td>G89-13</td><td>890131</td><td>1</td><td></td><td>89-2-1</td><td>1</td></tr>\n",
       "<tr><td>89</td><td>FallWeekday</td><td>45772069</td><td>Sullivan</td><td></td><td>1</td><td>G89-13</td><td>890131</td><td>1</td><td></td><td>89-2-1</td><td>1</td></tr>\n",
       "<tr><td>89</td><td>FallWeekday</td><td>45772071</td><td>Sullivan</td><td></td><td>1</td><td>G89-13</td><td>890131</td><td>1</td><td></td><td>89-2-1</td><td>1</td></tr>\n",
       "<tr><td>89</td><td>FallWeekday</td><td>45772073</td><td>Sullivan</td><td></td><td>1</td><td>G89-13</td><td>890131</td><td>1</td><td></td><td>89-2-1</td><td>1</td></tr>\n",
       "<tr><td>89</td><td>FallWeekday</td><td>45771947</td><td>Sullivan</td><td></td><td>1</td><td>G89-1</td><td>890136</td><td>1</td><td></td><td>89-_-1</td><td>1</td></tr>\n",
       "<tr><td>89</td><td>FallWeekday</td><td>45771949</td><td>Sullivan</td><td></td><td>1</td><td>G89-1</td><td>890136</td><td>1</td><td></td><td>89-_-1</td><td>1</td></tr>\n",
       "<tr><td>89</td><td>FallWeekday</td><td>45771956</td><td>Sullivan</td><td></td><td>1</td><td>G89-1</td><td>890136</td><td>1</td><td></td><td>89-_-1</td><td>1</td></tr>\n",
       "<tr><td>89</td><td>FallWeekday</td><td>45771962</td><td>Sullivan</td><td></td><td>1</td><td>G89-1</td><td>890136</td><td>1</td><td></td><td>89-_-1</td><td>1</td></tr>\n",
       "<tr><td>89</td><td>FallWeekday</td><td>45771968</td><td>Sullivan</td><td></td><td>1</td><td>G89-1</td><td>890136</td><td>1</td><td></td><td>89-_-1</td><td>1</td></tr>\n",
       "<tr><td>89</td><td>FallWeekday</td><td>45771971</td><td>Sullivan</td><td></td><td>1</td><td>G89-4</td><td>890136</td><td>1</td><td></td><td>89-_-1</td><td>1</td></tr>\n",
       "<tr><td>89</td><td>FallWeekday</td><td>45771973</td><td>Sullivan</td><td></td><td>1</td><td>G89-4</td><td>890136</td><td>1</td><td></td><td>89-_-1</td><td>1</td></tr>\n",
       "<tr><td>89</td><td>FallWeekday</td><td>45771975</td><td>Sullivan</td><td></td><td>1</td><td>G89-4</td><td>890136</td><td>1</td><td></td><td>89-_-1</td><td>1</td></tr>\n",
       "<tr><td>89</td><td>FallWeekday</td><td>45771978</td><td>Sullivan</td><td></td><td>1</td><td>G89-4</td><td>890136</td><td>1</td><td></td><td>89-_-1</td><td>1</td></tr>\n",
       "<tr><td>89</td><td>FallWeekday</td><td>45772008</td><td>Sullivan</td><td></td><td>1</td><td>G101-76</td><td>890136</td><td>1</td><td></td><td>89-_-1</td><td>1</td></tr>\n",
       "<tr><td>89</td><td>FallWeekday</td><td>45772009</td><td>Sullivan</td><td></td><td>1</td><td>G89-16</td><td>890136</td><td>1</td><td></td><td>89-_-1</td><td>1</td></tr>\n",
       "<tr><td>89</td><td>FallWeekday</td><td>45772012</td><td>Sullivan</td><td></td><td>1</td><td>G101-76</td><td>890136</td><td>1</td><td></td><td>89-_-1</td><td>1</td></tr>\n",
       "<tr><td>89</td><td>FallWeekday</td><td>45772014</td><td>Sullivan</td><td></td><td>1</td><td>G89-16</td><td>890136</td><td>1</td><td></td><td>89-_-1</td><td>1</td></tr>\n",
       "<tr><td>89</td><td>FallWeekday</td><td>45772020</td><td>Sullivan</td><td></td><td>1</td><td>G89-9</td><td>890136</td><td>1</td><td></td><td>89-_-1</td><td>1</td></tr>\n",
       "<tr><td>89</td><td>FallWeekday</td><td>45772030</td><td>Sullivan</td><td></td><td>1</td><td>G89-9</td><td>890136</td><td>1</td><td></td><td>89-_-1</td><td>1</td></tr>\n",
       "<tr><td>89</td><td>FallWeekday</td><td>45772036</td><td>Sullivan</td><td></td><td>1</td><td>G89-11</td><td>890136</td><td>1</td><td></td><td>89-_-1</td><td>1</td></tr>\n",
       "<tr><td>89</td><td>FallWeekday</td><td>45772041</td><td>Sullivan</td><td></td><td>1</td><td>G89-9</td><td>890136</td><td>1</td><td></td><td>89-_-1</td><td>1</td></tr>\n",
       "<tr><td>89</td><td>FallWeekday</td><td>45772048</td><td>Sullivan</td><td></td><td>1</td><td>G89-12</td><td>890136</td><td>1</td><td></td><td>89-_-1</td><td>1</td></tr>\n",
       "</tbody></table>\n"
      ],
      "text/plain": [
       "89|FallWeekday|45771950|Davis||0|G89-6|890135|1||89-2-0|1\n",
       "89|FallWeekday|45771953|Davis||0|G89-3|890135|1||89-2-0|1\n",
       "89|FallWeekday|45771954|Davis||0|G89-3|890135|1||89-2-0|1\n",
       "89|FallWeekday|45771958|Davis||0|G89-6|890135|1||89-2-0|1\n",
       "89|FallWeekday|45771960|Davis||0|G89-3|890135|1||89-2-0|1\n",
       "89|FallWeekday|45771964|Davis||0|G89-6|890135|1||89-2-0|1\n",
       "89|FallWeekday|45771966|Davis||0|G89-2|890135|1||89-2-0|1\n",
       "89|FallWeekday|45771977|Davis||0|G89-6|890135|1||89-2-0|1\n",
       "89|FallWeekday|45771979|Davis||0|G89-2|890135|1||89-2-0|1\n",
       "89|FallWeekday|45771982|Davis||0|G89-14|890135|1||89-2-0|1\n",
       "89|FallWeekday|45771983|Davis||0|G89-15|890135|1||89-2-0|1\n",
       "89|FallWeekday|45771986|Davis||0|G89-14|890135|1||89-2-0|1\n",
       "89|FallWeekday|45771987|Davis||0|G89-15|890135|1||89-2-0|1\n",
       "89|FallWeekday|45771988|Davis||0|G89-5|890135|1||89-2-0|1\n",
       "89|FallWeekday|45771990|Davis||0|G89-5|890135|1||89-2-0|1\n",
       "89|FallWeekday|45771993|Davis||0|G89-5|890135|1||89-2-0|1\n",
       "89|FallWeekday|45771995|Davis||0|G89-5|890135|1||89-2-0|1\n",
       "89|FallWeekday|45771998|Davis||0|G89-14|890135|1||89-2-0|1\n",
       "89|FallWeekday|45771999|Davis||0|G89-15|890135|1||89-2-0|1\n",
       "89|FallWeekday|45772002|Davis||0|G89-14|890135|1||89-2-0|1\n",
       "89|FallWeekday|45772004|Davis||0|G89-15|890135|1||89-2-0|1\n",
       "89|FallWeekday|45772013|Davis||0|G101-76|890135|1||89-2-0|1\n",
       "89|FallWeekday|45772015|Davis||0|G89-7|890135|1||89-2-0|1\n",
       "89|FallWeekday|45772018|Davis||0|G89-10|890135|1||89-2-0|1\n",
       "89|FallWeekday|45772021|Davis||0|G89-12|890135|1||89-2-0|1\n",
       "89|FallWeekday|45772023|Davis||0|G89-7|890135|1||89-2-0|1\n",
       "89|FallWeekday|45772026|Davis||0|G101-69|890135|1||89-2-0|1\n",
       "89|FallWeekday|45772027|Davis||0|G89-10|890135|1||89-2-0|1\n",
       "89|FallWeekday|45772032|Davis||0|G89-12|890135|1||89-2-0|1\n",
       "89|FallWeekday|45772034|Davis||0|G89-8|890135|1||89-2-0|1\n",
       "89|FallWeekday|45772038|Davis||0|G101-69|890135|1||89-2-0|1\n",
       "89|FallWeekday|45772039|Davis||0|G89-10|890135|1||89-2-0|1\n",
       "89|FallWeekday|45772042|Davis||0|G89-11|890135|1||89-2-0|1\n",
       "89|FallWeekday|45772046|Davis||0|G89-8|890135|1||89-2-0|1\n",
       "89|FallWeekday|45772049|Davis||0|G89-11|890135|1||89-2-0|1\n",
       "89|FallWeekday|45772052|Davis||0|G110-129|890135|1||89-2-0|1\n",
       "89|FallWeekday|45772054|Davis||0|G89-11|890135|1||89-2-0|1\n",
       "89|FallWeekday|45772056|Davis||0|G110-129|890135|1||89-2-0|1\n",
       "89|FallWeekday|45772058|Davis||0|G89-11|890135|1||89-2-0|1\n",
       "89|FallWeekday|45772060|Davis||0|G89-11|890135|1||89-2-0|1\n",
       "89|FallWeekday|45772062|Davis||0|G89-11|890135|1||89-2-0|1\n",
       "89|FallWeekday|45772064|Davis||0|G89-13|890135|1||89-2-0|1\n",
       "89|FallWeekday|45772066|Davis||0|G89-13|890135|1||89-2-0|1\n",
       "89|FallWeekday|45772068|Davis||0|G89-13|890135|1||89-2-0|1\n",
       "89|FallWeekday|45772070|Davis||0|G89-13|890135|1||89-2-0|1\n",
       "89|FallWeekday|45772072|Davis||0|G89-13|890135|1||89-2-0|1\n",
       "89|FallWeekday|45771946|Clarendon Hill||0|G89-1|890137|1||89-_-0|1\n",
       "89|FallWeekday|45771948|Clarendon Hill||0|G89-1|890137|1||89-_-0|1\n",
       "89|FallWeekday|45771951|Clarendon Hill||0|G89-1|890137|1||89-_-0|1\n",
       "89|FallWeekday|45771959|Clarendon Hill||0|G89-1|890137|1||89-_-0|1\n",
       "89|FallWeekday|45771965|Clarendon Hill||0|G89-1|890137|1||89-_-0|1\n",
       "89|FallWeekday|45771970|Clarendon Hill||0|G89-4|890137|1||89-_-0|1\n",
       "89|FallWeekday|45771972|Clarendon Hill||0|G89-4|890137|1||89-_-0|1\n",
       "89|FallWeekday|45771974|Clarendon Hill||0|G89-4|890137|1||89-_-0|1\n",
       "89|FallWeekday|45771976|Clarendon Hill||0|G89-4|890137|1||89-_-0|1\n",
       "89|FallWeekday|45772006|Clarendon Hill||0|G101-76|890137|1||89-_-0|1\n",
       "89|FallWeekday|45772007|Clarendon Hill||0|G89-16|890137|1||89-_-0|1\n",
       "89|FallWeekday|45772010|Clarendon Hill||0|G101-76|890137|1||89-_-0|1\n",
       "89|FallWeekday|45772011|Clarendon Hill||0|G89-16|890137|1||89-_-0|1\n",
       "89|FallWeekday|45772017|Clarendon Hill||0|G89-9|890137|1||89-_-0|1\n",
       "89|FallWeekday|45772024|Clarendon Hill||0|G89-9|890137|1||89-_-0|1\n",
       "89|FallWeekday|45772029|Clarendon Hill||0|G89-11|890137|1||89-_-0|1\n",
       "89|FallWeekday|45772035|Clarendon Hill||0|G89-9|890137|1||89-_-0|1\n",
       "89|FallWeekday|45772043|Clarendon Hill||0|G89-12|890137|1||89-_-0|1\n",
       "89|FallWeekday|45771952|Sullivan||1|G89-3|890131|1||89-2-1|1\n",
       "89|FallWeekday|45771955|Sullivan||1|G89-6|890131|1||89-2-1|1\n",
       "89|FallWeekday|45771957|Sullivan||1|G89-3|890131|1||89-2-1|1\n",
       "89|FallWeekday|45771961|Sullivan||1|G89-6|890131|1||89-2-1|1\n",
       "89|FallWeekday|45771963|Sullivan||1|G89-3|890131|1||89-2-1|1\n",
       "89|FallWeekday|45771967|Sullivan||1|G89-6|890131|1||89-2-1|1\n",
       "89|FallWeekday|45771969|Sullivan||1|G89-2|890131|1||89-2-1|1\n",
       "89|FallWeekday|45771980|Sullivan||1|G89-6|890131|1||89-2-1|1\n",
       "89|FallWeekday|45771981|Sullivan||1|G89-2|890131|1||89-2-1|1\n",
       "89|FallWeekday|45771984|Sullivan||1|G89-14|890131|1||89-2-1|1\n",
       "89|FallWeekday|45771985|Sullivan||1|G89-15|890131|1||89-2-1|1\n",
       "89|FallWeekday|45771989|Sullivan||1|G89-14|890131|1||89-2-1|1\n",
       "89|FallWeekday|45771991|Sullivan||1|G89-5|890131|1||89-2-1|1\n",
       "89|FallWeekday|45771992|Sullivan||1|G89-5|890131|1||89-2-1|1\n",
       "89|FallWeekday|45771994|Sullivan||1|G89-5|890131|1||89-2-1|1\n",
       "89|FallWeekday|45771996|Sullivan||1|G89-5|890131|1||89-2-1|1\n",
       "89|FallWeekday|45771997|Sullivan||1|G89-15|890131|1||89-2-1|1\n",
       "89|FallWeekday|45772000|Sullivan||1|G89-14|890131|1||89-2-1|1\n",
       "89|FallWeekday|45772001|Sullivan||1|G89-15|890131|1||89-2-1|1\n",
       "89|FallWeekday|45772003|Sullivan||1|G89-14|890131|1||89-2-1|1\n",
       "89|FallWeekday|45772005|Sullivan||1|G89-15|890131|1||89-2-1|1\n",
       "89|FallWeekday|45772016|Sullivan||1|G101-76|890131|1||89-2-1|1\n",
       "89|FallWeekday|45772019|Sullivan||1|G89-7|890131|1||89-2-1|1\n",
       "89|FallWeekday|45772022|Sullivan||1|G89-10|890131|1||89-2-1|1\n",
       "89|FallWeekday|45772025|Sullivan||1|G89-12|890131|1||89-2-1|1\n",
       "89|FallWeekday|45772028|Sullivan||1|G89-7|890131|1||89-2-1|1\n",
       "89|FallWeekday|45772031|Sullivan||1|G101-69|890131|1||89-2-1|1\n",
       "89|FallWeekday|45772033|Sullivan||1|G89-10|890131|1||89-2-1|1\n",
       "89|FallWeekday|45772037|Sullivan||1|G89-12|890131|1||89-2-1|1\n",
       "89|FallWeekday|45772040|Sullivan||1|G89-8|890131|1||89-2-1|1\n",
       "89|FallWeekday|45772044|Sullivan||1|G101-69|890131|1||89-2-1|1\n",
       "89|FallWeekday|45772045|Sullivan||1|G89-10|890131|1||89-2-1|1\n",
       "89|FallWeekday|45772047|Sullivan||1|G89-11|890131|1||89-2-1|1\n",
       "89|FallWeekday|45772050|Sullivan||1|G89-8|890131|1||89-2-1|1\n",
       "89|FallWeekday|45772051|Sullivan||1|G89-11|890131|1||89-2-1|1\n",
       "89|FallWeekday|45772053|Sullivan||1|G110-129|890131|1||89-2-1|1\n",
       "89|FallWeekday|45772055|Sullivan||1|G89-11|890131|1||89-2-1|1\n",
       "89|FallWeekday|45772057|Sullivan||1|G110-129|890131|1||89-2-1|1\n",
       "89|FallWeekday|45772059|Sullivan||1|G89-11|890131|1||89-2-1|1\n",
       "89|FallWeekday|45772061|Sullivan||1|G89-11|890131|1||89-2-1|1\n",
       "89|FallWeekday|45772063|Sullivan||1|G89-11|890131|1||89-2-1|1\n",
       "89|FallWeekday|45772065|Sullivan||1|G89-13|890131|1||89-2-1|1\n",
       "89|FallWeekday|45772067|Sullivan||1|G89-13|890131|1||89-2-1|1\n",
       "89|FallWeekday|45772069|Sullivan||1|G89-13|890131|1||89-2-1|1\n",
       "89|FallWeekday|45772071|Sullivan||1|G89-13|890131|1||89-2-1|1\n",
       "89|FallWeekday|45772073|Sullivan||1|G89-13|890131|1||89-2-1|1\n",
       "89|FallWeekday|45771947|Sullivan||1|G89-1|890136|1||89-_-1|1\n",
       "89|FallWeekday|45771949|Sullivan||1|G89-1|890136|1||89-_-1|1\n",
       "89|FallWeekday|45771956|Sullivan||1|G89-1|890136|1||89-_-1|1\n",
       "89|FallWeekday|45771962|Sullivan||1|G89-1|890136|1||89-_-1|1\n",
       "89|FallWeekday|45771968|Sullivan||1|G89-1|890136|1||89-_-1|1\n",
       "89|FallWeekday|45771971|Sullivan||1|G89-4|890136|1||89-_-1|1\n",
       "89|FallWeekday|45771973|Sullivan||1|G89-4|890136|1||89-_-1|1\n",
       "89|FallWeekday|45771975|Sullivan||1|G89-4|890136|1||89-_-1|1\n",
       "89|FallWeekday|45771978|Sullivan||1|G89-4|890136|1||89-_-1|1\n",
       "89|FallWeekday|45772008|Sullivan||1|G101-76|890136|1||89-_-1|1\n",
       "89|FallWeekday|45772009|Sullivan||1|G89-16|890136|1||89-_-1|1\n",
       "89|FallWeekday|45772012|Sullivan||1|G101-76|890136|1||89-_-1|1\n",
       "89|FallWeekday|45772014|Sullivan||1|G89-16|890136|1||89-_-1|1\n",
       "89|FallWeekday|45772020|Sullivan||1|G89-9|890136|1||89-_-1|1\n",
       "89|FallWeekday|45772030|Sullivan||1|G89-9|890136|1||89-_-1|1\n",
       "89|FallWeekday|45772036|Sullivan||1|G89-11|890136|1||89-_-1|1\n",
       "89|FallWeekday|45772041|Sullivan||1|G89-9|890136|1||89-_-1|1\n",
       "89|FallWeekday|45772048|Sullivan||1|G89-12|890136|1||89-_-1|1"
      ]
     },
     "execution_count": 24,
     "metadata": {},
     "output_type": "execute_result"
    }
   ],
   "source": [
    "SELECT *\n",
    "FROM\n",
    "\ttrips\n",
    "WHERE\n",
    "\tservice_id\n",
    "\t\t== 'FallWeekday'\n",
    "\tAND route_id\n",
    "\t\t= '89';"
   ]
  },
  {
   "cell_type": "markdown",
   "metadata": {
    "editable": true,
    "slideshow": {
     "slide_type": ""
    },
    "tags": []
   },
   "source": [
    "Finally, let's look at only trips on the Sullivan Sq to Davis Square pattern (recall this is `89-2-0` as seen above)."
   ]
  },
  {
   "cell_type": "code",
   "execution_count": 25,
   "metadata": {
    "editable": true,
    "slideshow": {
     "slide_type": ""
    },
    "tags": []
   },
   "outputs": [
    {
     "data": {
      "text/csv": [
       "89,FallWeekday,45771950,Davis,,0,G89-6,890135,1,,89-2-0,1\n",
       "89,FallWeekday,45771953,Davis,,0,G89-3,890135,1,,89-2-0,1\n",
       "89,FallWeekday,45771954,Davis,,0,G89-3,890135,1,,89-2-0,1\n",
       "89,FallWeekday,45771958,Davis,,0,G89-6,890135,1,,89-2-0,1\n",
       "89,FallWeekday,45771960,Davis,,0,G89-3,890135,1,,89-2-0,1\n",
       "89,FallWeekday,45771964,Davis,,0,G89-6,890135,1,,89-2-0,1\n",
       "89,FallWeekday,45771966,Davis,,0,G89-2,890135,1,,89-2-0,1\n",
       "89,FallWeekday,45771977,Davis,,0,G89-6,890135,1,,89-2-0,1\n",
       "89,FallWeekday,45771979,Davis,,0,G89-2,890135,1,,89-2-0,1\n",
       "89,FallWeekday,45771982,Davis,,0,G89-14,890135,1,,89-2-0,1\n",
       "89,FallWeekday,45771983,Davis,,0,G89-15,890135,1,,89-2-0,1\n",
       "89,FallWeekday,45771986,Davis,,0,G89-14,890135,1,,89-2-0,1\n",
       "89,FallWeekday,45771987,Davis,,0,G89-15,890135,1,,89-2-0,1\n",
       "89,FallWeekday,45771988,Davis,,0,G89-5,890135,1,,89-2-0,1\n",
       "89,FallWeekday,45771990,Davis,,0,G89-5,890135,1,,89-2-0,1\n",
       "89,FallWeekday,45771993,Davis,,0,G89-5,890135,1,,89-2-0,1\n",
       "89,FallWeekday,45771995,Davis,,0,G89-5,890135,1,,89-2-0,1\n",
       "89,FallWeekday,45771998,Davis,,0,G89-14,890135,1,,89-2-0,1\n",
       "89,FallWeekday,45771999,Davis,,0,G89-15,890135,1,,89-2-0,1\n",
       "89,FallWeekday,45772002,Davis,,0,G89-14,890135,1,,89-2-0,1\n",
       "89,FallWeekday,45772004,Davis,,0,G89-15,890135,1,,89-2-0,1\n",
       "89,FallWeekday,45772013,Davis,,0,G101-76,890135,1,,89-2-0,1\n",
       "89,FallWeekday,45772015,Davis,,0,G89-7,890135,1,,89-2-0,1\n",
       "89,FallWeekday,45772018,Davis,,0,G89-10,890135,1,,89-2-0,1\n",
       "89,FallWeekday,45772021,Davis,,0,G89-12,890135,1,,89-2-0,1\n",
       "89,FallWeekday,45772023,Davis,,0,G89-7,890135,1,,89-2-0,1\n",
       "89,FallWeekday,45772026,Davis,,0,G101-69,890135,1,,89-2-0,1\n",
       "89,FallWeekday,45772027,Davis,,0,G89-10,890135,1,,89-2-0,1\n",
       "89,FallWeekday,45772032,Davis,,0,G89-12,890135,1,,89-2-0,1\n",
       "89,FallWeekday,45772034,Davis,,0,G89-8,890135,1,,89-2-0,1\n",
       "89,FallWeekday,45772038,Davis,,0,G101-69,890135,1,,89-2-0,1\n",
       "89,FallWeekday,45772039,Davis,,0,G89-10,890135,1,,89-2-0,1\n",
       "89,FallWeekday,45772042,Davis,,0,G89-11,890135,1,,89-2-0,1\n",
       "89,FallWeekday,45772046,Davis,,0,G89-8,890135,1,,89-2-0,1\n",
       "89,FallWeekday,45772049,Davis,,0,G89-11,890135,1,,89-2-0,1\n",
       "89,FallWeekday,45772052,Davis,,0,G110-129,890135,1,,89-2-0,1\n",
       "89,FallWeekday,45772054,Davis,,0,G89-11,890135,1,,89-2-0,1\n",
       "89,FallWeekday,45772056,Davis,,0,G110-129,890135,1,,89-2-0,1\n",
       "89,FallWeekday,45772058,Davis,,0,G89-11,890135,1,,89-2-0,1\n",
       "89,FallWeekday,45772060,Davis,,0,G89-11,890135,1,,89-2-0,1\n",
       "89,FallWeekday,45772062,Davis,,0,G89-11,890135,1,,89-2-0,1\n",
       "89,FallWeekday,45772064,Davis,,0,G89-13,890135,1,,89-2-0,1\n",
       "89,FallWeekday,45772066,Davis,,0,G89-13,890135,1,,89-2-0,1\n",
       "89,FallWeekday,45772068,Davis,,0,G89-13,890135,1,,89-2-0,1\n",
       "89,FallWeekday,45772070,Davis,,0,G89-13,890135,1,,89-2-0,1\n",
       "89,FallWeekday,45772072,Davis,,0,G89-13,890135,1,,89-2-0,1\n"
      ],
      "text/html": [
       "<table>\n",
       "<thead><tr><th scope=\"col\">route_id</th><th scope=\"col\">service_id</th><th scope=\"col\">trip_id</th><th scope=\"col\">trip_headsign</th><th scope=\"col\">trip_short_name</th><th scope=\"col\">direction_id</th><th scope=\"col\">block_id</th><th scope=\"col\">shape_id</th><th scope=\"col\">wheelchair_accessible</th><th scope=\"col\">trip_route_type</th><th scope=\"col\">route_pattern_id</th><th scope=\"col\">bikes_allowed</th></tr></thead>\n",
       "<tbody>\n",
       "<tr><td>89</td><td>FallWeekday</td><td>45771950</td><td>Davis</td><td></td><td>0</td><td>G89-6</td><td>890135</td><td>1</td><td></td><td>89-2-0</td><td>1</td></tr>\n",
       "<tr><td>89</td><td>FallWeekday</td><td>45771953</td><td>Davis</td><td></td><td>0</td><td>G89-3</td><td>890135</td><td>1</td><td></td><td>89-2-0</td><td>1</td></tr>\n",
       "<tr><td>89</td><td>FallWeekday</td><td>45771954</td><td>Davis</td><td></td><td>0</td><td>G89-3</td><td>890135</td><td>1</td><td></td><td>89-2-0</td><td>1</td></tr>\n",
       "<tr><td>89</td><td>FallWeekday</td><td>45771958</td><td>Davis</td><td></td><td>0</td><td>G89-6</td><td>890135</td><td>1</td><td></td><td>89-2-0</td><td>1</td></tr>\n",
       "<tr><td>89</td><td>FallWeekday</td><td>45771960</td><td>Davis</td><td></td><td>0</td><td>G89-3</td><td>890135</td><td>1</td><td></td><td>89-2-0</td><td>1</td></tr>\n",
       "<tr><td>89</td><td>FallWeekday</td><td>45771964</td><td>Davis</td><td></td><td>0</td><td>G89-6</td><td>890135</td><td>1</td><td></td><td>89-2-0</td><td>1</td></tr>\n",
       "<tr><td>89</td><td>FallWeekday</td><td>45771966</td><td>Davis</td><td></td><td>0</td><td>G89-2</td><td>890135</td><td>1</td><td></td><td>89-2-0</td><td>1</td></tr>\n",
       "<tr><td>89</td><td>FallWeekday</td><td>45771977</td><td>Davis</td><td></td><td>0</td><td>G89-6</td><td>890135</td><td>1</td><td></td><td>89-2-0</td><td>1</td></tr>\n",
       "<tr><td>89</td><td>FallWeekday</td><td>45771979</td><td>Davis</td><td></td><td>0</td><td>G89-2</td><td>890135</td><td>1</td><td></td><td>89-2-0</td><td>1</td></tr>\n",
       "<tr><td>89</td><td>FallWeekday</td><td>45771982</td><td>Davis</td><td></td><td>0</td><td>G89-14</td><td>890135</td><td>1</td><td></td><td>89-2-0</td><td>1</td></tr>\n",
       "<tr><td>89</td><td>FallWeekday</td><td>45771983</td><td>Davis</td><td></td><td>0</td><td>G89-15</td><td>890135</td><td>1</td><td></td><td>89-2-0</td><td>1</td></tr>\n",
       "<tr><td>89</td><td>FallWeekday</td><td>45771986</td><td>Davis</td><td></td><td>0</td><td>G89-14</td><td>890135</td><td>1</td><td></td><td>89-2-0</td><td>1</td></tr>\n",
       "<tr><td>89</td><td>FallWeekday</td><td>45771987</td><td>Davis</td><td></td><td>0</td><td>G89-15</td><td>890135</td><td>1</td><td></td><td>89-2-0</td><td>1</td></tr>\n",
       "<tr><td>89</td><td>FallWeekday</td><td>45771988</td><td>Davis</td><td></td><td>0</td><td>G89-5</td><td>890135</td><td>1</td><td></td><td>89-2-0</td><td>1</td></tr>\n",
       "<tr><td>89</td><td>FallWeekday</td><td>45771990</td><td>Davis</td><td></td><td>0</td><td>G89-5</td><td>890135</td><td>1</td><td></td><td>89-2-0</td><td>1</td></tr>\n",
       "<tr><td>89</td><td>FallWeekday</td><td>45771993</td><td>Davis</td><td></td><td>0</td><td>G89-5</td><td>890135</td><td>1</td><td></td><td>89-2-0</td><td>1</td></tr>\n",
       "<tr><td>89</td><td>FallWeekday</td><td>45771995</td><td>Davis</td><td></td><td>0</td><td>G89-5</td><td>890135</td><td>1</td><td></td><td>89-2-0</td><td>1</td></tr>\n",
       "<tr><td>89</td><td>FallWeekday</td><td>45771998</td><td>Davis</td><td></td><td>0</td><td>G89-14</td><td>890135</td><td>1</td><td></td><td>89-2-0</td><td>1</td></tr>\n",
       "<tr><td>89</td><td>FallWeekday</td><td>45771999</td><td>Davis</td><td></td><td>0</td><td>G89-15</td><td>890135</td><td>1</td><td></td><td>89-2-0</td><td>1</td></tr>\n",
       "<tr><td>89</td><td>FallWeekday</td><td>45772002</td><td>Davis</td><td></td><td>0</td><td>G89-14</td><td>890135</td><td>1</td><td></td><td>89-2-0</td><td>1</td></tr>\n",
       "<tr><td>89</td><td>FallWeekday</td><td>45772004</td><td>Davis</td><td></td><td>0</td><td>G89-15</td><td>890135</td><td>1</td><td></td><td>89-2-0</td><td>1</td></tr>\n",
       "<tr><td>89</td><td>FallWeekday</td><td>45772013</td><td>Davis</td><td></td><td>0</td><td>G101-76</td><td>890135</td><td>1</td><td></td><td>89-2-0</td><td>1</td></tr>\n",
       "<tr><td>89</td><td>FallWeekday</td><td>45772015</td><td>Davis</td><td></td><td>0</td><td>G89-7</td><td>890135</td><td>1</td><td></td><td>89-2-0</td><td>1</td></tr>\n",
       "<tr><td>89</td><td>FallWeekday</td><td>45772018</td><td>Davis</td><td></td><td>0</td><td>G89-10</td><td>890135</td><td>1</td><td></td><td>89-2-0</td><td>1</td></tr>\n",
       "<tr><td>89</td><td>FallWeekday</td><td>45772021</td><td>Davis</td><td></td><td>0</td><td>G89-12</td><td>890135</td><td>1</td><td></td><td>89-2-0</td><td>1</td></tr>\n",
       "<tr><td>89</td><td>FallWeekday</td><td>45772023</td><td>Davis</td><td></td><td>0</td><td>G89-7</td><td>890135</td><td>1</td><td></td><td>89-2-0</td><td>1</td></tr>\n",
       "<tr><td>89</td><td>FallWeekday</td><td>45772026</td><td>Davis</td><td></td><td>0</td><td>G101-69</td><td>890135</td><td>1</td><td></td><td>89-2-0</td><td>1</td></tr>\n",
       "<tr><td>89</td><td>FallWeekday</td><td>45772027</td><td>Davis</td><td></td><td>0</td><td>G89-10</td><td>890135</td><td>1</td><td></td><td>89-2-0</td><td>1</td></tr>\n",
       "<tr><td>89</td><td>FallWeekday</td><td>45772032</td><td>Davis</td><td></td><td>0</td><td>G89-12</td><td>890135</td><td>1</td><td></td><td>89-2-0</td><td>1</td></tr>\n",
       "<tr><td>89</td><td>FallWeekday</td><td>45772034</td><td>Davis</td><td></td><td>0</td><td>G89-8</td><td>890135</td><td>1</td><td></td><td>89-2-0</td><td>1</td></tr>\n",
       "<tr><td>89</td><td>FallWeekday</td><td>45772038</td><td>Davis</td><td></td><td>0</td><td>G101-69</td><td>890135</td><td>1</td><td></td><td>89-2-0</td><td>1</td></tr>\n",
       "<tr><td>89</td><td>FallWeekday</td><td>45772039</td><td>Davis</td><td></td><td>0</td><td>G89-10</td><td>890135</td><td>1</td><td></td><td>89-2-0</td><td>1</td></tr>\n",
       "<tr><td>89</td><td>FallWeekday</td><td>45772042</td><td>Davis</td><td></td><td>0</td><td>G89-11</td><td>890135</td><td>1</td><td></td><td>89-2-0</td><td>1</td></tr>\n",
       "<tr><td>89</td><td>FallWeekday</td><td>45772046</td><td>Davis</td><td></td><td>0</td><td>G89-8</td><td>890135</td><td>1</td><td></td><td>89-2-0</td><td>1</td></tr>\n",
       "<tr><td>89</td><td>FallWeekday</td><td>45772049</td><td>Davis</td><td></td><td>0</td><td>G89-11</td><td>890135</td><td>1</td><td></td><td>89-2-0</td><td>1</td></tr>\n",
       "<tr><td>89</td><td>FallWeekday</td><td>45772052</td><td>Davis</td><td></td><td>0</td><td>G110-129</td><td>890135</td><td>1</td><td></td><td>89-2-0</td><td>1</td></tr>\n",
       "<tr><td>89</td><td>FallWeekday</td><td>45772054</td><td>Davis</td><td></td><td>0</td><td>G89-11</td><td>890135</td><td>1</td><td></td><td>89-2-0</td><td>1</td></tr>\n",
       "<tr><td>89</td><td>FallWeekday</td><td>45772056</td><td>Davis</td><td></td><td>0</td><td>G110-129</td><td>890135</td><td>1</td><td></td><td>89-2-0</td><td>1</td></tr>\n",
       "<tr><td>89</td><td>FallWeekday</td><td>45772058</td><td>Davis</td><td></td><td>0</td><td>G89-11</td><td>890135</td><td>1</td><td></td><td>89-2-0</td><td>1</td></tr>\n",
       "<tr><td>89</td><td>FallWeekday</td><td>45772060</td><td>Davis</td><td></td><td>0</td><td>G89-11</td><td>890135</td><td>1</td><td></td><td>89-2-0</td><td>1</td></tr>\n",
       "<tr><td>89</td><td>FallWeekday</td><td>45772062</td><td>Davis</td><td></td><td>0</td><td>G89-11</td><td>890135</td><td>1</td><td></td><td>89-2-0</td><td>1</td></tr>\n",
       "<tr><td>89</td><td>FallWeekday</td><td>45772064</td><td>Davis</td><td></td><td>0</td><td>G89-13</td><td>890135</td><td>1</td><td></td><td>89-2-0</td><td>1</td></tr>\n",
       "<tr><td>89</td><td>FallWeekday</td><td>45772066</td><td>Davis</td><td></td><td>0</td><td>G89-13</td><td>890135</td><td>1</td><td></td><td>89-2-0</td><td>1</td></tr>\n",
       "<tr><td>89</td><td>FallWeekday</td><td>45772068</td><td>Davis</td><td></td><td>0</td><td>G89-13</td><td>890135</td><td>1</td><td></td><td>89-2-0</td><td>1</td></tr>\n",
       "<tr><td>89</td><td>FallWeekday</td><td>45772070</td><td>Davis</td><td></td><td>0</td><td>G89-13</td><td>890135</td><td>1</td><td></td><td>89-2-0</td><td>1</td></tr>\n",
       "<tr><td>89</td><td>FallWeekday</td><td>45772072</td><td>Davis</td><td></td><td>0</td><td>G89-13</td><td>890135</td><td>1</td><td></td><td>89-2-0</td><td>1</td></tr>\n",
       "</tbody></table>\n"
      ],
      "text/plain": [
       "89|FallWeekday|45771950|Davis||0|G89-6|890135|1||89-2-0|1\n",
       "89|FallWeekday|45771953|Davis||0|G89-3|890135|1||89-2-0|1\n",
       "89|FallWeekday|45771954|Davis||0|G89-3|890135|1||89-2-0|1\n",
       "89|FallWeekday|45771958|Davis||0|G89-6|890135|1||89-2-0|1\n",
       "89|FallWeekday|45771960|Davis||0|G89-3|890135|1||89-2-0|1\n",
       "89|FallWeekday|45771964|Davis||0|G89-6|890135|1||89-2-0|1\n",
       "89|FallWeekday|45771966|Davis||0|G89-2|890135|1||89-2-0|1\n",
       "89|FallWeekday|45771977|Davis||0|G89-6|890135|1||89-2-0|1\n",
       "89|FallWeekday|45771979|Davis||0|G89-2|890135|1||89-2-0|1\n",
       "89|FallWeekday|45771982|Davis||0|G89-14|890135|1||89-2-0|1\n",
       "89|FallWeekday|45771983|Davis||0|G89-15|890135|1||89-2-0|1\n",
       "89|FallWeekday|45771986|Davis||0|G89-14|890135|1||89-2-0|1\n",
       "89|FallWeekday|45771987|Davis||0|G89-15|890135|1||89-2-0|1\n",
       "89|FallWeekday|45771988|Davis||0|G89-5|890135|1||89-2-0|1\n",
       "89|FallWeekday|45771990|Davis||0|G89-5|890135|1||89-2-0|1\n",
       "89|FallWeekday|45771993|Davis||0|G89-5|890135|1||89-2-0|1\n",
       "89|FallWeekday|45771995|Davis||0|G89-5|890135|1||89-2-0|1\n",
       "89|FallWeekday|45771998|Davis||0|G89-14|890135|1||89-2-0|1\n",
       "89|FallWeekday|45771999|Davis||0|G89-15|890135|1||89-2-0|1\n",
       "89|FallWeekday|45772002|Davis||0|G89-14|890135|1||89-2-0|1\n",
       "89|FallWeekday|45772004|Davis||0|G89-15|890135|1||89-2-0|1\n",
       "89|FallWeekday|45772013|Davis||0|G101-76|890135|1||89-2-0|1\n",
       "89|FallWeekday|45772015|Davis||0|G89-7|890135|1||89-2-0|1\n",
       "89|FallWeekday|45772018|Davis||0|G89-10|890135|1||89-2-0|1\n",
       "89|FallWeekday|45772021|Davis||0|G89-12|890135|1||89-2-0|1\n",
       "89|FallWeekday|45772023|Davis||0|G89-7|890135|1||89-2-0|1\n",
       "89|FallWeekday|45772026|Davis||0|G101-69|890135|1||89-2-0|1\n",
       "89|FallWeekday|45772027|Davis||0|G89-10|890135|1||89-2-0|1\n",
       "89|FallWeekday|45772032|Davis||0|G89-12|890135|1||89-2-0|1\n",
       "89|FallWeekday|45772034|Davis||0|G89-8|890135|1||89-2-0|1\n",
       "89|FallWeekday|45772038|Davis||0|G101-69|890135|1||89-2-0|1\n",
       "89|FallWeekday|45772039|Davis||0|G89-10|890135|1||89-2-0|1\n",
       "89|FallWeekday|45772042|Davis||0|G89-11|890135|1||89-2-0|1\n",
       "89|FallWeekday|45772046|Davis||0|G89-8|890135|1||89-2-0|1\n",
       "89|FallWeekday|45772049|Davis||0|G89-11|890135|1||89-2-0|1\n",
       "89|FallWeekday|45772052|Davis||0|G110-129|890135|1||89-2-0|1\n",
       "89|FallWeekday|45772054|Davis||0|G89-11|890135|1||89-2-0|1\n",
       "89|FallWeekday|45772056|Davis||0|G110-129|890135|1||89-2-0|1\n",
       "89|FallWeekday|45772058|Davis||0|G89-11|890135|1||89-2-0|1\n",
       "89|FallWeekday|45772060|Davis||0|G89-11|890135|1||89-2-0|1\n",
       "89|FallWeekday|45772062|Davis||0|G89-11|890135|1||89-2-0|1\n",
       "89|FallWeekday|45772064|Davis||0|G89-13|890135|1||89-2-0|1\n",
       "89|FallWeekday|45772066|Davis||0|G89-13|890135|1||89-2-0|1\n",
       "89|FallWeekday|45772068|Davis||0|G89-13|890135|1||89-2-0|1\n",
       "89|FallWeekday|45772070|Davis||0|G89-13|890135|1||89-2-0|1\n",
       "89|FallWeekday|45772072|Davis||0|G89-13|890135|1||89-2-0|1"
      ]
     },
     "execution_count": 25,
     "metadata": {},
     "output_type": "execute_result"
    }
   ],
   "source": [
    "SELECT *\n",
    "FROM\n",
    "\ttrips\n",
    "WHERE\n",
    "\tservice_id\n",
    "\t\t== 'FallWeekday'\n",
    "\tAND route_pattern_id\n",
    "\t\t= '89-2-0';"
   ]
  },
  {
   "cell_type": "markdown",
   "metadata": {
    "editable": true,
    "slideshow": {
     "slide_type": ""
    },
    "tags": []
   },
   "source": [
    "### Test Your Knowledge"
   ]
  },
  {
   "cell_type": "markdown",
   "metadata": {
    "editable": true,
    "slideshow": {
     "slide_type": ""
    },
    "tags": []
   },
   "source": [
    "#### For each service running ***89*** trips, how many trips are on the `Sullivan Sq to Clarendon Hill` pattern?"
   ]
  },
  {
   "cell_type": "code",
   "execution_count": 26,
   "metadata": {
    "editable": true,
    "slideshow": {
     "slide_type": ""
    },
    "tags": []
   },
   "outputs": [
    {
     "data": {},
     "execution_count": 26,
     "metadata": {},
     "output_type": "execute_result"
    }
   ],
   "source": [
    "-- Your code here"
   ]
  },
  {
   "cell_type": "code",
   "execution_count": 27,
   "metadata": {
    "collapsed": true,
    "editable": false,
    "jupyter": {
     "outputs_hidden": true,
     "source_hidden": true
    },
    "scrolled": true,
    "slideshow": {
     "slide_type": ""
    },
    "tags": []
   },
   "outputs": [
    {
     "data": {
      "text/csv": [
       "ColumbusDay-VeteransDay-DayafterThanksgivingDay,18\n",
       "FallWeekday,18\n"
      ],
      "text/html": [
       "<table>\n",
       "<thead><tr><th scope=\"col\">service_id</th><th scope=\"col\">n_trips</th></tr></thead>\n",
       "<tbody>\n",
       "<tr><td>ColumbusDay-VeteransDay-DayafterThanksgivingDay</td><td>18</td></tr>\n",
       "<tr><td>FallWeekday</td><td>18</td></tr>\n",
       "</tbody></table>\n"
      ],
      "text/plain": [
       "ColumbusDay-VeteransDay-DayafterThanksgivingDay|18\n",
       "FallWeekday|18"
      ]
     },
     "execution_count": 27,
     "metadata": {},
     "output_type": "execute_result"
    }
   ],
   "source": [
    "-- Reveal solution\n",
    "SELECT\n",
    "\tservice_id,\n",
    "\tCOUNT(*)\n",
    "\t\tAS n_trips\n",
    "FROM\n",
    "\tTRIPS\n",
    "WHERE\n",
    "\troute_pattern_id\n",
    "\t\t= '89-_-0'\n",
    "GROUP BY\n",
    "\tservice_id;"
   ]
  },
  {
   "cell_type": "markdown",
   "metadata": {
    "editable": true,
    "slideshow": {
     "slide_type": ""
    },
    "tags": []
   },
   "source": [
    "## Schedules\n",
    "*When a vehicle should arrive and depart a given stop for a given trip*\n",
    "\n",
    "**GTFS Table**: [`stop_times`](feed/stop_times.txt)\n",
    "\n",
    "**MBTA V3 API Resource**: [`Schedule`](https://api-v3.mbta.com/docs/swagger/index.html#/Schedule/ApiWeb_ScheduleController_index)"
   ]
  },
  {
   "cell_type": "markdown",
   "metadata": {
    "editable": true,
    "slideshow": {
     "slide_type": ""
    },
    "tags": []
   },
   "source": [
    "The `stop_times` table includes a row for every scheduled stop on every scheduled trip in a GTFS Feed. If that sounds like a lot of rows, it is! This is by far the largest table in the feed. Here, we can see there are `2,019,434` `stop_times` in this version of the feed."
   ]
  },
  {
   "cell_type": "code",
   "execution_count": 28,
   "metadata": {
    "editable": true,
    "slideshow": {
     "slide_type": ""
    },
    "tags": []
   },
   "outputs": [
    {
     "data": {
      "text/csv": [
       "2019434\n"
      ],
      "text/html": [
       "<table>\n",
       "<thead><tr><th scope=\"col\">COUNT(*)</th></tr></thead>\n",
       "<tbody>\n",
       "<tr><td>2019434</td></tr>\n",
       "</tbody></table>\n"
      ],
      "text/plain": [
       "2019434"
      ]
     },
     "execution_count": 28,
     "metadata": {},
     "output_type": "execute_result"
    }
   ],
   "source": [
    "SELECT\n",
    "\tCOUNT(*)\n",
    "FROM\n",
    "\tstop_times;"
   ]
  },
  {
   "cell_type": "markdown",
   "metadata": {
    "editable": true,
    "slideshow": {
     "slide_type": ""
    },
    "tags": []
   },
   "source": [
    "Let's take a look at the first few rows."
   ]
  },
  {
   "cell_type": "code",
   "execution_count": 29,
   "metadata": {
    "editable": true,
    "slideshow": {
     "slide_type": ""
    },
    "tags": []
   },
   "outputs": [
    {
     "data": {
      "text/csv": [
       "45295219,05:16:00,05:16:00,70061,1,,0,1,0,alfcl,,\n",
       "45295219,05:18:00,05:18:00,70063,10,,0,0,0,davis,,\n",
       "45295219,05:20:00,05:20:00,70065,20,,0,0,0,portr,,\n",
       "45295219,05:23:00,05:23:00,70067,30,,0,0,0,harsq,,\n",
       "45295219,05:27:00,05:27:00,70069,40,,0,0,0,cntsq,,\n",
       "45295219,05:29:00,05:29:00,70071,50,,0,0,0,knncl,,\n",
       "45295219,05:31:00,05:31:00,70073,60,,0,0,0,chmnl,,\n",
       "45295219,05:33:00,05:33:00,70075,70,,0,0,0,pktrm,,\n",
       "45295219,05:34:00,05:34:00,70077,80,,0,0,0,dwnxg,,\n",
       "45295219,05:36:00,05:36:00,70079,90,,0,0,0,sstat,,\n"
      ],
      "text/html": [
       "<table>\n",
       "<thead><tr><th scope=\"col\">trip_id</th><th scope=\"col\">arrival_time</th><th scope=\"col\">departure_time</th><th scope=\"col\">stop_id</th><th scope=\"col\">stop_sequence</th><th scope=\"col\">stop_headsign</th><th scope=\"col\">pickup_type</th><th scope=\"col\">drop_off_type</th><th scope=\"col\">timepoint</th><th scope=\"col\">checkpoint_id</th><th scope=\"col\">continuous_pickup</th><th scope=\"col\">continuous_drop_off</th></tr></thead>\n",
       "<tbody>\n",
       "<tr><td>45295219</td><td>05:16:00</td><td>05:16:00</td><td>70061</td><td>1</td><td></td><td>0</td><td>1</td><td>0</td><td>alfcl</td><td></td><td></td></tr>\n",
       "<tr><td>45295219</td><td>05:18:00</td><td>05:18:00</td><td>70063</td><td>10</td><td></td><td>0</td><td>0</td><td>0</td><td>davis</td><td></td><td></td></tr>\n",
       "<tr><td>45295219</td><td>05:20:00</td><td>05:20:00</td><td>70065</td><td>20</td><td></td><td>0</td><td>0</td><td>0</td><td>portr</td><td></td><td></td></tr>\n",
       "<tr><td>45295219</td><td>05:23:00</td><td>05:23:00</td><td>70067</td><td>30</td><td></td><td>0</td><td>0</td><td>0</td><td>harsq</td><td></td><td></td></tr>\n",
       "<tr><td>45295219</td><td>05:27:00</td><td>05:27:00</td><td>70069</td><td>40</td><td></td><td>0</td><td>0</td><td>0</td><td>cntsq</td><td></td><td></td></tr>\n",
       "<tr><td>45295219</td><td>05:29:00</td><td>05:29:00</td><td>70071</td><td>50</td><td></td><td>0</td><td>0</td><td>0</td><td>knncl</td><td></td><td></td></tr>\n",
       "<tr><td>45295219</td><td>05:31:00</td><td>05:31:00</td><td>70073</td><td>60</td><td></td><td>0</td><td>0</td><td>0</td><td>chmnl</td><td></td><td></td></tr>\n",
       "<tr><td>45295219</td><td>05:33:00</td><td>05:33:00</td><td>70075</td><td>70</td><td></td><td>0</td><td>0</td><td>0</td><td>pktrm</td><td></td><td></td></tr>\n",
       "<tr><td>45295219</td><td>05:34:00</td><td>05:34:00</td><td>70077</td><td>80</td><td></td><td>0</td><td>0</td><td>0</td><td>dwnxg</td><td></td><td></td></tr>\n",
       "<tr><td>45295219</td><td>05:36:00</td><td>05:36:00</td><td>70079</td><td>90</td><td></td><td>0</td><td>0</td><td>0</td><td>sstat</td><td></td><td></td></tr>\n",
       "</tbody></table>\n"
      ],
      "text/plain": [
       "45295219|05:16:00|05:16:00|70061|1||0|1|0|alfcl||\n",
       "45295219|05:18:00|05:18:00|70063|10||0|0|0|davis||\n",
       "45295219|05:20:00|05:20:00|70065|20||0|0|0|portr||\n",
       "45295219|05:23:00|05:23:00|70067|30||0|0|0|harsq||\n",
       "45295219|05:27:00|05:27:00|70069|40||0|0|0|cntsq||\n",
       "45295219|05:29:00|05:29:00|70071|50||0|0|0|knncl||\n",
       "45295219|05:31:00|05:31:00|70073|60||0|0|0|chmnl||\n",
       "45295219|05:33:00|05:33:00|70075|70||0|0|0|pktrm||\n",
       "45295219|05:34:00|05:34:00|70077|80||0|0|0|dwnxg||\n",
       "45295219|05:36:00|05:36:00|70079|90||0|0|0|sstat||"
      ]
     },
     "execution_count": 29,
     "metadata": {},
     "output_type": "execute_result"
    }
   ],
   "source": [
    "SELECT *\n",
    "FROM\n",
    "\tstop_times\n",
    "LIMIT\n",
    "\t10;"
   ]
  },
  {
   "cell_type": "markdown",
   "metadata": {
    "editable": true,
    "slideshow": {
     "slide_type": ""
    },
    "tags": []
   },
   "source": [
    "Each `trip_id` corresponds to a row in the `trips` table, and there should be one row for every stop that trip makes.\n",
    "\n",
    "The `arrival_time` and `departure_time` indicate when a vehicle should arrive and depart the stop identified by `stop_id` (more on stops later).\n",
    "\n",
    "The `stop_sequence` field indicates the order of stops for a particular trip. The values must increase along the trip but do not need to be consecutive.\n",
    "\n",
    "So if we have a given `trip_id`, we can see all of the stops in order for that trip."
   ]
  },
  {
   "cell_type": "code",
   "execution_count": 30,
   "metadata": {
    "editable": true,
    "slideshow": {
     "slide_type": ""
    },
    "tags": []
   },
   "outputs": [
    {
     "data": {
      "text/csv": [
       "45295219,05:16:00,05:16:00,70061,1,,0,1,0,alfcl,,\n",
       "45295219,05:18:00,05:18:00,70063,10,,0,0,0,davis,,\n",
       "45295219,05:20:00,05:20:00,70065,20,,0,0,0,portr,,\n",
       "45295219,05:23:00,05:23:00,70067,30,,0,0,0,harsq,,\n",
       "45295219,05:27:00,05:27:00,70069,40,,0,0,0,cntsq,,\n",
       "45295219,05:29:00,05:29:00,70071,50,,0,0,0,knncl,,\n",
       "45295219,05:31:00,05:31:00,70073,60,,0,0,0,chmnl,,\n",
       "45295219,05:33:00,05:33:00,70075,70,,0,0,0,pktrm,,\n",
       "45295219,05:34:00,05:34:00,70077,80,,0,0,0,dwnxg,,\n",
       "45295219,05:36:00,05:36:00,70079,90,,0,0,0,sstat,,\n",
       "45295219,05:38:00,05:38:00,70081,100,,0,0,0,brdwy,,\n",
       "45295219,05:40:00,05:40:00,70083,110,,0,0,0,andrw,,\n",
       "45295219,05:43:00,05:43:00,70085,130,,0,0,0,jfk,,\n",
       "45295219,05:45:00,05:45:00,70087,140,,0,0,0,shmnl,,\n",
       "45295219,05:49:00,05:49:00,70089,150,,0,0,0,fldcr,,\n",
       "45295219,05:51:00,05:51:00,70091,160,,0,0,0,smmnl,,\n",
       "45295219,05:53:00,05:53:00,70093,170,,1,0,0,asmnl,,\n"
      ],
      "text/html": [
       "<table>\n",
       "<thead><tr><th scope=\"col\">trip_id</th><th scope=\"col\">arrival_time</th><th scope=\"col\">departure_time</th><th scope=\"col\">stop_id</th><th scope=\"col\">stop_sequence</th><th scope=\"col\">stop_headsign</th><th scope=\"col\">pickup_type</th><th scope=\"col\">drop_off_type</th><th scope=\"col\">timepoint</th><th scope=\"col\">checkpoint_id</th><th scope=\"col\">continuous_pickup</th><th scope=\"col\">continuous_drop_off</th></tr></thead>\n",
       "<tbody>\n",
       "<tr><td>45295219</td><td>05:16:00</td><td>05:16:00</td><td>70061</td><td>1</td><td></td><td>0</td><td>1</td><td>0</td><td>alfcl</td><td></td><td></td></tr>\n",
       "<tr><td>45295219</td><td>05:18:00</td><td>05:18:00</td><td>70063</td><td>10</td><td></td><td>0</td><td>0</td><td>0</td><td>davis</td><td></td><td></td></tr>\n",
       "<tr><td>45295219</td><td>05:20:00</td><td>05:20:00</td><td>70065</td><td>20</td><td></td><td>0</td><td>0</td><td>0</td><td>portr</td><td></td><td></td></tr>\n",
       "<tr><td>45295219</td><td>05:23:00</td><td>05:23:00</td><td>70067</td><td>30</td><td></td><td>0</td><td>0</td><td>0</td><td>harsq</td><td></td><td></td></tr>\n",
       "<tr><td>45295219</td><td>05:27:00</td><td>05:27:00</td><td>70069</td><td>40</td><td></td><td>0</td><td>0</td><td>0</td><td>cntsq</td><td></td><td></td></tr>\n",
       "<tr><td>45295219</td><td>05:29:00</td><td>05:29:00</td><td>70071</td><td>50</td><td></td><td>0</td><td>0</td><td>0</td><td>knncl</td><td></td><td></td></tr>\n",
       "<tr><td>45295219</td><td>05:31:00</td><td>05:31:00</td><td>70073</td><td>60</td><td></td><td>0</td><td>0</td><td>0</td><td>chmnl</td><td></td><td></td></tr>\n",
       "<tr><td>45295219</td><td>05:33:00</td><td>05:33:00</td><td>70075</td><td>70</td><td></td><td>0</td><td>0</td><td>0</td><td>pktrm</td><td></td><td></td></tr>\n",
       "<tr><td>45295219</td><td>05:34:00</td><td>05:34:00</td><td>70077</td><td>80</td><td></td><td>0</td><td>0</td><td>0</td><td>dwnxg</td><td></td><td></td></tr>\n",
       "<tr><td>45295219</td><td>05:36:00</td><td>05:36:00</td><td>70079</td><td>90</td><td></td><td>0</td><td>0</td><td>0</td><td>sstat</td><td></td><td></td></tr>\n",
       "<tr><td>45295219</td><td>05:38:00</td><td>05:38:00</td><td>70081</td><td>100</td><td></td><td>0</td><td>0</td><td>0</td><td>brdwy</td><td></td><td></td></tr>\n",
       "<tr><td>45295219</td><td>05:40:00</td><td>05:40:00</td><td>70083</td><td>110</td><td></td><td>0</td><td>0</td><td>0</td><td>andrw</td><td></td><td></td></tr>\n",
       "<tr><td>45295219</td><td>05:43:00</td><td>05:43:00</td><td>70085</td><td>130</td><td></td><td>0</td><td>0</td><td>0</td><td>jfk</td><td></td><td></td></tr>\n",
       "<tr><td>45295219</td><td>05:45:00</td><td>05:45:00</td><td>70087</td><td>140</td><td></td><td>0</td><td>0</td><td>0</td><td>shmnl</td><td></td><td></td></tr>\n",
       "<tr><td>45295219</td><td>05:49:00</td><td>05:49:00</td><td>70089</td><td>150</td><td></td><td>0</td><td>0</td><td>0</td><td>fldcr</td><td></td><td></td></tr>\n",
       "<tr><td>45295219</td><td>05:51:00</td><td>05:51:00</td><td>70091</td><td>160</td><td></td><td>0</td><td>0</td><td>0</td><td>smmnl</td><td></td><td></td></tr>\n",
       "<tr><td>45295219</td><td>05:53:00</td><td>05:53:00</td><td>70093</td><td>170</td><td></td><td>1</td><td>0</td><td>0</td><td>asmnl</td><td></td><td></td></tr>\n",
       "</tbody></table>\n"
      ],
      "text/plain": [
       "45295219|05:16:00|05:16:00|70061|1||0|1|0|alfcl||\n",
       "45295219|05:18:00|05:18:00|70063|10||0|0|0|davis||\n",
       "45295219|05:20:00|05:20:00|70065|20||0|0|0|portr||\n",
       "45295219|05:23:00|05:23:00|70067|30||0|0|0|harsq||\n",
       "45295219|05:27:00|05:27:00|70069|40||0|0|0|cntsq||\n",
       "45295219|05:29:00|05:29:00|70071|50||0|0|0|knncl||\n",
       "45295219|05:31:00|05:31:00|70073|60||0|0|0|chmnl||\n",
       "45295219|05:33:00|05:33:00|70075|70||0|0|0|pktrm||\n",
       "45295219|05:34:00|05:34:00|70077|80||0|0|0|dwnxg||\n",
       "45295219|05:36:00|05:36:00|70079|90||0|0|0|sstat||\n",
       "45295219|05:38:00|05:38:00|70081|100||0|0|0|brdwy||\n",
       "45295219|05:40:00|05:40:00|70083|110||0|0|0|andrw||\n",
       "45295219|05:43:00|05:43:00|70085|130||0|0|0|jfk||\n",
       "45295219|05:45:00|05:45:00|70087|140||0|0|0|shmnl||\n",
       "45295219|05:49:00|05:49:00|70089|150||0|0|0|fldcr||\n",
       "45295219|05:51:00|05:51:00|70091|160||0|0|0|smmnl||\n",
       "45295219|05:53:00|05:53:00|70093|170||1|0|0|asmnl||"
      ]
     },
     "execution_count": 30,
     "metadata": {},
     "output_type": "execute_result"
    }
   ],
   "source": [
    "SELECT *\n",
    "FROM\n",
    "\tstop_times\n",
    "WHERE\n",
    "\ttrip_id\n",
    "\t\t= '45295219'\n",
    "ORDER BY\n",
    "\tstop_sequence;"
   ]
  },
  {
   "cell_type": "markdown",
   "metadata": {
    "editable": true,
    "slideshow": {
     "slide_type": ""
    },
    "tags": []
   },
   "source": [
    "Data about the physical stops referenced by `stop_id` can be found in the `stops` table."
   ]
  },
  {
   "cell_type": "markdown",
   "metadata": {
    "editable": true,
    "slideshow": {
     "slide_type": ""
    },
    "tags": []
   },
   "source": [
    "### Test Your Knowledge"
   ]
  },
  {
   "cell_type": "markdown",
   "metadata": {
    "editable": true,
    "slideshow": {
     "slide_type": ""
    },
    "tags": []
   },
   "source": [
    "#### At what time should the trip `45692465` arrive at its final stop?"
   ]
  },
  {
   "cell_type": "code",
   "execution_count": 31,
   "metadata": {
    "editable": true,
    "slideshow": {
     "slide_type": ""
    },
    "tags": []
   },
   "outputs": [
    {
     "data": {},
     "execution_count": 31,
     "metadata": {},
     "output_type": "execute_result"
    }
   ],
   "source": [
    "-- Your code here"
   ]
  },
  {
   "cell_type": "code",
   "execution_count": 32,
   "metadata": {
    "collapsed": true,
    "editable": false,
    "jupyter": {
     "outputs_hidden": true,
     "source_hidden": true
    },
    "scrolled": true,
    "slideshow": {
     "slide_type": ""
    },
    "tags": []
   },
   "outputs": [
    {
     "data": {
      "text/csv": [
       "05:00:00\n"
      ],
      "text/html": [
       "<table>\n",
       "<thead><tr><th scope=\"col\">arrival_time</th></tr></thead>\n",
       "<tbody>\n",
       "<tr><td>05:00:00</td></tr>\n",
       "</tbody></table>\n"
      ],
      "text/plain": [
       "05:00:00"
      ]
     },
     "execution_count": 32,
     "metadata": {},
     "output_type": "execute_result"
    }
   ],
   "source": [
    "-- Reveal solution\n",
    "SELECT\n",
    "\tarrival_time\n",
    "FROM\n",
    "\tstop_times\n",
    "WHERE\n",
    "\ttrip_id\n",
    "\t\t= '45692465'\n",
    "\tAND stop_sequence\n",
    "\t\t= (\n",
    "\t\t\tSELECT\n",
    "\t\t\t\tMAX(stop_sequence)\n",
    "\t\t\tFROM\n",
    "\t\t\t\tstop_times\n",
    "\t\t\tWHERE\n",
    "\t\t\t\ttrip_id\n",
    "\t\t\t\t\t= '45692465'\n",
    "\t\t\tGROUP BY\n",
    "\t\t\t\ttrip_id\n",
    "\t\t);"
   ]
  },
  {
   "cell_type": "markdown",
   "metadata": {
    "editable": true,
    "slideshow": {
     "slide_type": ""
    },
    "tags": []
   },
   "source": [
    "## Stops\n",
    "*Details for a specific stop*\n",
    "\n",
    "**GTFS Table**: [`stops`](feed/stops.txt)\n",
    "\n",
    "**MBTA V3 API Resource**: [`Stop`](https://api-v3.mbta.com/docs/swagger/index.html#/Stop/ApiWeb_StopController_show)"
   ]
  },
  {
   "cell_type": "markdown",
   "metadata": {
    "editable": true,
    "slideshow": {
     "slide_type": ""
    },
    "tags": []
   },
   "source": [
    "Let's take a look at the first few rows of the `stops` table."
   ]
  },
  {
   "cell_type": "code",
   "execution_count": 33,
   "metadata": {
    "editable": true,
    "slideshow": {
     "slide_type": ""
    },
    "tags": []
   },
   "outputs": [
    {
     "data": {
      "text/csv": [
       "1,1,Washington St opp Ruggles St,,,,42.330957,-71.082754,ExpressBus-Downtown,,https://www.mbta.com/stops/1,,0,,1,Boston,Washington Street,Ruggles Street,3\n",
       "10,10,Theo Glynn Way @ Newmarket Sq,,,,42.330555,-71.068787,LocalBus,,https://www.mbta.com/stops/10,,0,,1,Boston,Theodore Glynn Way,Newmarket Square,3\n",
       "10000,10000,Tremont St opp Temple Pl,,,,42.355692,-71.062911,LocalBus,,https://www.mbta.com/stops/10000,,0,,1,Boston,Tremont Street,Temple Place,3\n",
       "10003,10003,Albany St opp Randall St,,,,42.331591,-71.076237,LocalBus,,https://www.mbta.com/stops/10003,,0,,0,Boston,Albany Street,Randall Street,3\n",
       "10005,10005,Albany St opp E Concord St,,,,42.335017,-71.071280,LocalBus,,https://www.mbta.com/stops/10005,,0,,1,Boston,Albany Street,East Concord Street,3\n",
       "10006,10006,Albany St opp E Newton St,,,,42.335814,-71.070135,LocalBus,,https://www.mbta.com/stops/10006,,0,,1,Boston,Albany Street,East Newton Street,3\n",
       "10007,10007,540 Albany St opp Wareham St,,,,42.338372,-71.066556,LocalBus,,https://www.mbta.com/stops/10007,,0,,1,Boston,Albany Street,Wareham Street,3\n",
       "10008,10008,Albany St opp Randolph St,,,,42.339915,-71.064356,LocalBus,,https://www.mbta.com/stops/10008,,0,,0,Boston,Albany Street,,3\n",
       "10009,10009,High St @ Duck Lane,,,,42.214986,-70.915924,LocalBus,,https://www.mbta.com/stops/10009,,0,,0,Hingham,High Street,,3\n",
       "1001,1001,Newton St @ Arlington Rd,,,,42.307661,-71.169522,LocalBus,,https://www.mbta.com/stops/1001,,0,,0,Brookline,Newton Street,,3\n"
      ],
      "text/html": [
       "<table>\n",
       "<thead><tr><th scope=\"col\">stop_id</th><th scope=\"col\">stop_code</th><th scope=\"col\">stop_name</th><th scope=\"col\">stop_desc</th><th scope=\"col\">platform_code</th><th scope=\"col\">platform_name</th><th scope=\"col\">stop_lat</th><th scope=\"col\">stop_lon</th><th scope=\"col\">zone_id</th><th scope=\"col\">stop_address</th><th scope=\"col\">stop_url</th><th scope=\"col\">level_id</th><th scope=\"col\">location_type</th><th scope=\"col\">parent_station</th><th scope=\"col\">wheelchair_boarding</th><th scope=\"col\">municipality</th><th scope=\"col\">on_street</th><th scope=\"col\">at_street</th><th scope=\"col\">vehicle_type</th></tr></thead>\n",
       "<tbody>\n",
       "<tr><td>1</td><td>1</td><td>Washington St opp Ruggles St</td><td></td><td></td><td></td><td>42.330957</td><td>-71.082754</td><td>ExpressBus-Downtown</td><td></td><td>https://www.mbta.com/stops/1</td><td></td><td>0</td><td></td><td>1</td><td>Boston</td><td>Washington Street</td><td>Ruggles Street</td><td>3</td></tr>\n",
       "<tr><td>10</td><td>10</td><td>Theo Glynn Way @ Newmarket Sq</td><td></td><td></td><td></td><td>42.330555</td><td>-71.068787</td><td>LocalBus</td><td></td><td>https://www.mbta.com/stops/10</td><td></td><td>0</td><td></td><td>1</td><td>Boston</td><td>Theodore Glynn Way</td><td>Newmarket Square</td><td>3</td></tr>\n",
       "<tr><td>10000</td><td>10000</td><td>Tremont St opp Temple Pl</td><td></td><td></td><td></td><td>42.355692</td><td>-71.062911</td><td>LocalBus</td><td></td><td>https://www.mbta.com/stops/10000</td><td></td><td>0</td><td></td><td>1</td><td>Boston</td><td>Tremont Street</td><td>Temple Place</td><td>3</td></tr>\n",
       "<tr><td>10003</td><td>10003</td><td>Albany St opp Randall St</td><td></td><td></td><td></td><td>42.331591</td><td>-71.076237</td><td>LocalBus</td><td></td><td>https://www.mbta.com/stops/10003</td><td></td><td>0</td><td></td><td>0</td><td>Boston</td><td>Albany Street</td><td>Randall Street</td><td>3</td></tr>\n",
       "<tr><td>10005</td><td>10005</td><td>Albany St opp E Concord St</td><td></td><td></td><td></td><td>42.335017</td><td>-71.071280</td><td>LocalBus</td><td></td><td>https://www.mbta.com/stops/10005</td><td></td><td>0</td><td></td><td>1</td><td>Boston</td><td>Albany Street</td><td>East Concord Street</td><td>3</td></tr>\n",
       "<tr><td>10006</td><td>10006</td><td>Albany St opp E Newton St</td><td></td><td></td><td></td><td>42.335814</td><td>-71.070135</td><td>LocalBus</td><td></td><td>https://www.mbta.com/stops/10006</td><td></td><td>0</td><td></td><td>1</td><td>Boston</td><td>Albany Street</td><td>East Newton Street</td><td>3</td></tr>\n",
       "<tr><td>10007</td><td>10007</td><td>540 Albany St opp Wareham St</td><td></td><td></td><td></td><td>42.338372</td><td>-71.066556</td><td>LocalBus</td><td></td><td>https://www.mbta.com/stops/10007</td><td></td><td>0</td><td></td><td>1</td><td>Boston</td><td>Albany Street</td><td>Wareham Street</td><td>3</td></tr>\n",
       "<tr><td>10008</td><td>10008</td><td>Albany St opp Randolph St</td><td></td><td></td><td></td><td>42.339915</td><td>-71.064356</td><td>LocalBus</td><td></td><td>https://www.mbta.com/stops/10008</td><td></td><td>0</td><td></td><td>0</td><td>Boston</td><td>Albany Street</td><td></td><td>3</td></tr>\n",
       "<tr><td>10009</td><td>10009</td><td>High St @ Duck Lane</td><td></td><td></td><td></td><td>42.214986</td><td>-70.915924</td><td>LocalBus</td><td></td><td>https://www.mbta.com/stops/10009</td><td></td><td>0</td><td></td><td>0</td><td>Hingham</td><td>High Street</td><td></td><td>3</td></tr>\n",
       "<tr><td>1001</td><td>1001</td><td>Newton St @ Arlington Rd</td><td></td><td></td><td></td><td>42.307661</td><td>-71.169522</td><td>LocalBus</td><td></td><td>https://www.mbta.com/stops/1001</td><td></td><td>0</td><td></td><td>0</td><td>Brookline</td><td>Newton Street</td><td></td><td>3</td></tr>\n",
       "</tbody></table>\n"
      ],
      "text/plain": [
       "1|1|Washington St opp Ruggles St||||42.330957|-71.082754|ExpressBus-Downtown||https://www.mbta.com/stops/1||0||1|Boston|Washington Street|Ruggles Street|3\n",
       "10|10|Theo Glynn Way @ Newmarket Sq||||42.330555|-71.068787|LocalBus||https://www.mbta.com/stops/10||0||1|Boston|Theodore Glynn Way|Newmarket Square|3\n",
       "10000|10000|Tremont St opp Temple Pl||||42.355692|-71.062911|LocalBus||https://www.mbta.com/stops/10000||0||1|Boston|Tremont Street|Temple Place|3\n",
       "10003|10003|Albany St opp Randall St||||42.331591|-71.076237|LocalBus||https://www.mbta.com/stops/10003||0||0|Boston|Albany Street|Randall Street|3\n",
       "10005|10005|Albany St opp E Concord St||||42.335017|-71.071280|LocalBus||https://www.mbta.com/stops/10005||0||1|Boston|Albany Street|East Concord Street|3\n",
       "10006|10006|Albany St opp E Newton St||||42.335814|-71.070135|LocalBus||https://www.mbta.com/stops/10006||0||1|Boston|Albany Street|East Newton Street|3\n",
       "10007|10007|540 Albany St opp Wareham St||||42.338372|-71.066556|LocalBus||https://www.mbta.com/stops/10007||0||1|Boston|Albany Street|Wareham Street|3\n",
       "10008|10008|Albany St opp Randolph St||||42.339915|-71.064356|LocalBus||https://www.mbta.com/stops/10008||0||0|Boston|Albany Street||3\n",
       "10009|10009|High St @ Duck Lane||||42.214986|-70.915924|LocalBus||https://www.mbta.com/stops/10009||0||0|Hingham|High Street||3\n",
       "1001|1001|Newton St @ Arlington Rd||||42.307661|-71.169522|LocalBus||https://www.mbta.com/stops/1001||0||0|Brookline|Newton Street||3"
      ]
     },
     "execution_count": 33,
     "metadata": {},
     "output_type": "execute_result"
    }
   ],
   "source": [
    "SELECT *\n",
    "FROM\n",
    "\tstops\n",
    "LIMIT\n",
    "\t10;"
   ]
  },
  {
   "cell_type": "markdown",
   "metadata": {
    "editable": true,
    "slideshow": {
     "slide_type": ""
    },
    "tags": []
   },
   "source": [
    "This information can be joined with the `stop_times` table to construct a readable schedule for a given trip."
   ]
  },
  {
   "cell_type": "code",
   "execution_count": 34,
   "metadata": {
    "editable": true,
    "slideshow": {
     "slide_type": ""
    },
    "tags": []
   },
   "outputs": [
    {
     "data": {
      "text/csv": [
       "45771950,06:07:00,06:07:00,29011,1,Sullivan Square\n",
       "45771950,06:10:00,06:10:00,2718,2,Broadway @ Austin St\n",
       "45771950,06:10:00,06:10:00,2719,3,Broadway @ Indiana Ave\n",
       "45771950,06:11:00,06:11:00,2720,4,Broadway @ Michigan Ave\n",
       "45771950,06:11:00,06:11:00,2721,5,Broadway @ Cross St\n",
       "45771950,06:12:00,06:12:00,2722,6,Broadway @ Kensington Ave\n",
       "45771950,06:13:00,06:13:00,2723,7,Broadway @ Fellsway W\n",
       "45771950,06:14:00,06:14:00,2725,8,Broadway @ Temple St\n",
       "45771950,06:14:00,06:14:00,2726,9,Broadway @ Winter Hill Plaza\n",
       "45771950,06:15:00,06:15:00,2729,10,Broadway @ Main St\n",
       "45771950,06:16:00,06:16:00,2731,11,Broadway opp Glenwood Rd\n",
       "45771950,06:16:00,06:16:00,2733,12,Broadway @ Medford St - Magoun Sq\n",
       "45771950,06:16:00,06:16:00,2734,13,Broadway @ William St\n",
       "45771950,06:17:00,06:17:00,2735,14,Broadway @ Alfred St\n",
       "45771950,06:17:00,06:17:00,2736,15,Broadway @ Boston Ave - Ball Sq\n",
       "45771950,06:18:00,06:18:00,2737,16,Broadway @ Pearson Rd\n",
       "45771950,06:18:00,06:18:00,2738,17,Broadway @ Warner St - Powder House Sq\n",
       "45771950,06:19:00,06:19:00,5012,18,College Ave @ Broadway\n",
       "45771950,06:19:00,06:19:00,5013,19,College Ave @ Summit St\n",
       "45771950,06:20:00,06:20:00,5014,20,College Ave @ Chapel St\n",
       "45771950,06:20:00,06:20:00,5015,21,College Ave @ Highland Ave\n",
       "45771950,06:21:00,06:21:00,2582,22,Elm St @ Chester St\n",
       "45771950,06:22:00,06:22:00,2628,23,Grove St @ Highland Ave\n",
       "45771950,06:23:00,06:23:00,5104,24,Davis\n"
      ],
      "text/html": [
       "<table>\n",
       "<thead><tr><th scope=\"col\">trip_id</th><th scope=\"col\">arrival_time</th><th scope=\"col\">departure_time</th><th scope=\"col\">stop_id</th><th scope=\"col\">stop_sequence</th><th scope=\"col\">stop_name</th></tr></thead>\n",
       "<tbody>\n",
       "<tr><td>45771950</td><td>06:07:00</td><td>06:07:00</td><td>29011</td><td>1</td><td>Sullivan Square</td></tr>\n",
       "<tr><td>45771950</td><td>06:10:00</td><td>06:10:00</td><td>2718</td><td>2</td><td>Broadway @ Austin St</td></tr>\n",
       "<tr><td>45771950</td><td>06:10:00</td><td>06:10:00</td><td>2719</td><td>3</td><td>Broadway @ Indiana Ave</td></tr>\n",
       "<tr><td>45771950</td><td>06:11:00</td><td>06:11:00</td><td>2720</td><td>4</td><td>Broadway @ Michigan Ave</td></tr>\n",
       "<tr><td>45771950</td><td>06:11:00</td><td>06:11:00</td><td>2721</td><td>5</td><td>Broadway @ Cross St</td></tr>\n",
       "<tr><td>45771950</td><td>06:12:00</td><td>06:12:00</td><td>2722</td><td>6</td><td>Broadway @ Kensington Ave</td></tr>\n",
       "<tr><td>45771950</td><td>06:13:00</td><td>06:13:00</td><td>2723</td><td>7</td><td>Broadway @ Fellsway W</td></tr>\n",
       "<tr><td>45771950</td><td>06:14:00</td><td>06:14:00</td><td>2725</td><td>8</td><td>Broadway @ Temple St</td></tr>\n",
       "<tr><td>45771950</td><td>06:14:00</td><td>06:14:00</td><td>2726</td><td>9</td><td>Broadway @ Winter Hill Plaza</td></tr>\n",
       "<tr><td>45771950</td><td>06:15:00</td><td>06:15:00</td><td>2729</td><td>10</td><td>Broadway @ Main St</td></tr>\n",
       "<tr><td>45771950</td><td>06:16:00</td><td>06:16:00</td><td>2731</td><td>11</td><td>Broadway opp Glenwood Rd</td></tr>\n",
       "<tr><td>45771950</td><td>06:16:00</td><td>06:16:00</td><td>2733</td><td>12</td><td>Broadway @ Medford St - Magoun Sq</td></tr>\n",
       "<tr><td>45771950</td><td>06:16:00</td><td>06:16:00</td><td>2734</td><td>13</td><td>Broadway @ William St</td></tr>\n",
       "<tr><td>45771950</td><td>06:17:00</td><td>06:17:00</td><td>2735</td><td>14</td><td>Broadway @ Alfred St</td></tr>\n",
       "<tr><td>45771950</td><td>06:17:00</td><td>06:17:00</td><td>2736</td><td>15</td><td>Broadway @ Boston Ave - Ball Sq</td></tr>\n",
       "<tr><td>45771950</td><td>06:18:00</td><td>06:18:00</td><td>2737</td><td>16</td><td>Broadway @ Pearson Rd</td></tr>\n",
       "<tr><td>45771950</td><td>06:18:00</td><td>06:18:00</td><td>2738</td><td>17</td><td>Broadway @ Warner St - Powder House Sq</td></tr>\n",
       "<tr><td>45771950</td><td>06:19:00</td><td>06:19:00</td><td>5012</td><td>18</td><td>College Ave @ Broadway</td></tr>\n",
       "<tr><td>45771950</td><td>06:19:00</td><td>06:19:00</td><td>5013</td><td>19</td><td>College Ave @ Summit St</td></tr>\n",
       "<tr><td>45771950</td><td>06:20:00</td><td>06:20:00</td><td>5014</td><td>20</td><td>College Ave @ Chapel St</td></tr>\n",
       "<tr><td>45771950</td><td>06:20:00</td><td>06:20:00</td><td>5015</td><td>21</td><td>College Ave @ Highland Ave</td></tr>\n",
       "<tr><td>45771950</td><td>06:21:00</td><td>06:21:00</td><td>2582</td><td>22</td><td>Elm St @ Chester St</td></tr>\n",
       "<tr><td>45771950</td><td>06:22:00</td><td>06:22:00</td><td>2628</td><td>23</td><td>Grove St @ Highland Ave</td></tr>\n",
       "<tr><td>45771950</td><td>06:23:00</td><td>06:23:00</td><td>5104</td><td>24</td><td>Davis</td></tr>\n",
       "</tbody></table>\n"
      ],
      "text/plain": [
       "45771950|06:07:00|06:07:00|29011|1|Sullivan Square\n",
       "45771950|06:10:00|06:10:00|2718|2|Broadway @ Austin St\n",
       "45771950|06:10:00|06:10:00|2719|3|Broadway @ Indiana Ave\n",
       "45771950|06:11:00|06:11:00|2720|4|Broadway @ Michigan Ave\n",
       "45771950|06:11:00|06:11:00|2721|5|Broadway @ Cross St\n",
       "45771950|06:12:00|06:12:00|2722|6|Broadway @ Kensington Ave\n",
       "45771950|06:13:00|06:13:00|2723|7|Broadway @ Fellsway W\n",
       "45771950|06:14:00|06:14:00|2725|8|Broadway @ Temple St\n",
       "45771950|06:14:00|06:14:00|2726|9|Broadway @ Winter Hill Plaza\n",
       "45771950|06:15:00|06:15:00|2729|10|Broadway @ Main St\n",
       "45771950|06:16:00|06:16:00|2731|11|Broadway opp Glenwood Rd\n",
       "45771950|06:16:00|06:16:00|2733|12|Broadway @ Medford St - Magoun Sq\n",
       "45771950|06:16:00|06:16:00|2734|13|Broadway @ William St\n",
       "45771950|06:17:00|06:17:00|2735|14|Broadway @ Alfred St\n",
       "45771950|06:17:00|06:17:00|2736|15|Broadway @ Boston Ave - Ball Sq\n",
       "45771950|06:18:00|06:18:00|2737|16|Broadway @ Pearson Rd\n",
       "45771950|06:18:00|06:18:00|2738|17|Broadway @ Warner St - Powder House Sq\n",
       "45771950|06:19:00|06:19:00|5012|18|College Ave @ Broadway\n",
       "45771950|06:19:00|06:19:00|5013|19|College Ave @ Summit St\n",
       "45771950|06:20:00|06:20:00|5014|20|College Ave @ Chapel St\n",
       "45771950|06:20:00|06:20:00|5015|21|College Ave @ Highland Ave\n",
       "45771950|06:21:00|06:21:00|2582|22|Elm St @ Chester St\n",
       "45771950|06:22:00|06:22:00|2628|23|Grove St @ Highland Ave\n",
       "45771950|06:23:00|06:23:00|5104|24|Davis"
      ]
     },
     "execution_count": 34,
     "metadata": {},
     "output_type": "execute_result"
    }
   ],
   "source": [
    "SELECT\n",
    "\tstop_time.trip_id\n",
    "\t\tAS trip_id,\n",
    "\tstop_time.arrival_time\n",
    "\t\tAS arrival_time,\n",
    "\tstop_time.departure_time\n",
    "\t\tAS departure_time,\n",
    "\tstop_time.stop_id\n",
    "\t\tAS stop_id,\n",
    "\tstop_time.stop_sequence\n",
    "\t\tAS stop_sequence,\n",
    "\tstop.stop_name\n",
    "\t\tAS stop_name\n",
    "FROM\n",
    "\tstop_times\n",
    "\t\tAS stop_time\n",
    "JOIN\n",
    "\tstops\n",
    "\t\tAS stop\n",
    "\tON\n",
    "\t\tstop_time.stop_id\n",
    "\t\t\t= stop.stop_id\n",
    "WHERE\n",
    "\ttrip_id\n",
    "\t\t= '45771950'\n",
    "ORDER BY\n",
    "\tstop_sequence;"
   ]
  },
  {
   "cell_type": "markdown",
   "metadata": {
    "editable": true,
    "slideshow": {
     "slide_type": ""
    },
    "tags": []
   },
   "source": [
    "### Test Your Knowledge"
   ]
  },
  {
   "cell_type": "markdown",
   "metadata": {
    "editable": true,
    "slideshow": {
     "slide_type": ""
    },
    "tags": []
   },
   "source": [
    "#### Display the following fields for the last trip of the day for the ***89*** bus on the ***Sullivan Sq to Clarendon Hill*** pattern on ***Fall weekdays***:\n",
    "* `stop_id`\n",
    "* `stop_name`\n",
    "* `arrival_time`\n",
    "* `departure_time`"
   ]
  },
  {
   "cell_type": "code",
   "execution_count": 35,
   "metadata": {
    "editable": true,
    "slideshow": {
     "slide_type": ""
    },
    "tags": []
   },
   "outputs": [
    {
     "data": {},
     "execution_count": 35,
     "metadata": {},
     "output_type": "execute_result"
    }
   ],
   "source": [
    "-- Your code here"
   ]
  },
  {
   "cell_type": "code",
   "execution_count": 36,
   "metadata": {
    "collapsed": true,
    "editable": false,
    "jupyter": {
     "outputs_hidden": true,
     "source_hidden": true
    },
    "scrolled": true,
    "slideshow": {
     "slide_type": ""
    },
    "tags": []
   },
   "outputs": [
    {
     "data": {
      "text/csv": [
       "2637,Clarendon Hill Busway,19:02:00,19:02:00\n",
       "2575,Broadway @ Garrison Ave,19:03:00,19:03:00\n",
       "2576,Broadway @ Weston Ave,19:03:00,19:03:00\n",
       "2691,Broadway opp Packard Ave,19:04:00,19:04:00\n",
       "2692,Broadway @ Simpson Ave,19:05:00,19:05:00\n",
       "2693,Broadway @ Billingham St,19:06:00,19:06:00\n",
       "2694,Broadway @ College Ave,19:07:00,19:07:00\n",
       "2695,Broadway opp Warner St - Powder House Sq,19:07:00,19:07:00\n",
       "2696,Broadway @ Bay State Ave,19:07:00,19:07:00\n",
       "2697,Broadway @ Josephine Ave - Ball Sq,19:08:00,19:08:00\n",
       "2698,Broadway @ Cedar St,19:08:00,19:08:00\n",
       "2699,Broadway @ Hinckley St - Magoun Sq,19:09:00,19:09:00\n",
       "2700,Broadway @ Medford St - Magoun Sq,19:09:00,19:09:00\n",
       "2702,Broadway @ Bartlett St,19:10:00,19:10:00\n",
       "2703,Broadway opp Main St,19:10:00,19:10:00\n",
       "2704,Broadway @ Thurston St,19:11:00,19:11:00\n",
       "2706,Broadway @ Marshall St,19:11:00,19:11:00\n",
       "2707,Broadway @ Montgomery Ave,19:12:00,19:12:00\n",
       "2709,Broadway St @ MacArthur St,19:13:00,19:13:00\n",
       "2710,Broadway @ Cross St,19:13:00,19:13:00\n",
       "2711,Broadway @ Glen St,19:14:00,19:14:00\n",
       "2712,Broadway @ Franklin St,19:14:00,19:14:00\n",
       "2713,Broadway @ Lincoln St,19:15:00,19:15:00\n",
       "2714,Broadway @ Mt Vernon St,19:15:00,19:15:00\n",
       "29001,Sullivan Square,19:16:00,19:16:00\n"
      ],
      "text/html": [
       "<table>\n",
       "<thead><tr><th scope=\"col\">stop_id</th><th scope=\"col\">stop_name</th><th scope=\"col\">arrival_time</th><th scope=\"col\">departure_time</th></tr></thead>\n",
       "<tbody>\n",
       "<tr><td>2637</td><td>Clarendon Hill Busway</td><td>19:02:00</td><td>19:02:00</td></tr>\n",
       "<tr><td>2575</td><td>Broadway @ Garrison Ave</td><td>19:03:00</td><td>19:03:00</td></tr>\n",
       "<tr><td>2576</td><td>Broadway @ Weston Ave</td><td>19:03:00</td><td>19:03:00</td></tr>\n",
       "<tr><td>2691</td><td>Broadway opp Packard Ave</td><td>19:04:00</td><td>19:04:00</td></tr>\n",
       "<tr><td>2692</td><td>Broadway @ Simpson Ave</td><td>19:05:00</td><td>19:05:00</td></tr>\n",
       "<tr><td>2693</td><td>Broadway @ Billingham St</td><td>19:06:00</td><td>19:06:00</td></tr>\n",
       "<tr><td>2694</td><td>Broadway @ College Ave</td><td>19:07:00</td><td>19:07:00</td></tr>\n",
       "<tr><td>2695</td><td>Broadway opp Warner St - Powder House Sq</td><td>19:07:00</td><td>19:07:00</td></tr>\n",
       "<tr><td>2696</td><td>Broadway @ Bay State Ave</td><td>19:07:00</td><td>19:07:00</td></tr>\n",
       "<tr><td>2697</td><td>Broadway @ Josephine Ave - Ball Sq</td><td>19:08:00</td><td>19:08:00</td></tr>\n",
       "<tr><td>2698</td><td>Broadway @ Cedar St</td><td>19:08:00</td><td>19:08:00</td></tr>\n",
       "<tr><td>2699</td><td>Broadway @ Hinckley St - Magoun Sq</td><td>19:09:00</td><td>19:09:00</td></tr>\n",
       "<tr><td>2700</td><td>Broadway @ Medford St - Magoun Sq</td><td>19:09:00</td><td>19:09:00</td></tr>\n",
       "<tr><td>2702</td><td>Broadway @ Bartlett St</td><td>19:10:00</td><td>19:10:00</td></tr>\n",
       "<tr><td>2703</td><td>Broadway opp Main St</td><td>19:10:00</td><td>19:10:00</td></tr>\n",
       "<tr><td>2704</td><td>Broadway @ Thurston St</td><td>19:11:00</td><td>19:11:00</td></tr>\n",
       "<tr><td>2706</td><td>Broadway @ Marshall St</td><td>19:11:00</td><td>19:11:00</td></tr>\n",
       "<tr><td>2707</td><td>Broadway @ Montgomery Ave</td><td>19:12:00</td><td>19:12:00</td></tr>\n",
       "<tr><td>2709</td><td>Broadway St @ MacArthur St</td><td>19:13:00</td><td>19:13:00</td></tr>\n",
       "<tr><td>2710</td><td>Broadway @ Cross St</td><td>19:13:00</td><td>19:13:00</td></tr>\n",
       "<tr><td>2711</td><td>Broadway @ Glen St</td><td>19:14:00</td><td>19:14:00</td></tr>\n",
       "<tr><td>2712</td><td>Broadway @ Franklin St</td><td>19:14:00</td><td>19:14:00</td></tr>\n",
       "<tr><td>2713</td><td>Broadway @ Lincoln St</td><td>19:15:00</td><td>19:15:00</td></tr>\n",
       "<tr><td>2714</td><td>Broadway @ Mt Vernon St</td><td>19:15:00</td><td>19:15:00</td></tr>\n",
       "<tr><td>29001</td><td>Sullivan Square</td><td>19:16:00</td><td>19:16:00</td></tr>\n",
       "</tbody></table>\n"
      ],
      "text/plain": [
       "2637|Clarendon Hill Busway|19:02:00|19:02:00\n",
       "2575|Broadway @ Garrison Ave|19:03:00|19:03:00\n",
       "2576|Broadway @ Weston Ave|19:03:00|19:03:00\n",
       "2691|Broadway opp Packard Ave|19:04:00|19:04:00\n",
       "2692|Broadway @ Simpson Ave|19:05:00|19:05:00\n",
       "2693|Broadway @ Billingham St|19:06:00|19:06:00\n",
       "2694|Broadway @ College Ave|19:07:00|19:07:00\n",
       "2695|Broadway opp Warner St - Powder House Sq|19:07:00|19:07:00\n",
       "2696|Broadway @ Bay State Ave|19:07:00|19:07:00\n",
       "2697|Broadway @ Josephine Ave - Ball Sq|19:08:00|19:08:00\n",
       "2698|Broadway @ Cedar St|19:08:00|19:08:00\n",
       "2699|Broadway @ Hinckley St - Magoun Sq|19:09:00|19:09:00\n",
       "2700|Broadway @ Medford St - Magoun Sq|19:09:00|19:09:00\n",
       "2702|Broadway @ Bartlett St|19:10:00|19:10:00\n",
       "2703|Broadway opp Main St|19:10:00|19:10:00\n",
       "2704|Broadway @ Thurston St|19:11:00|19:11:00\n",
       "2706|Broadway @ Marshall St|19:11:00|19:11:00\n",
       "2707|Broadway @ Montgomery Ave|19:12:00|19:12:00\n",
       "2709|Broadway St @ MacArthur St|19:13:00|19:13:00\n",
       "2710|Broadway @ Cross St|19:13:00|19:13:00\n",
       "2711|Broadway @ Glen St|19:14:00|19:14:00\n",
       "2712|Broadway @ Franklin St|19:14:00|19:14:00\n",
       "2713|Broadway @ Lincoln St|19:15:00|19:15:00\n",
       "2714|Broadway @ Mt Vernon St|19:15:00|19:15:00\n",
       "29001|Sullivan Square|19:16:00|19:16:00"
      ]
     },
     "execution_count": 36,
     "metadata": {},
     "output_type": "execute_result"
    }
   ],
   "source": [
    "-- Reveal solution\n",
    "\n",
    "SELECT\n",
    "\tstop_time.stop_id\n",
    "\t\tAS stop_id,\n",
    "\tstop.stop_name\n",
    "\t\tAS stop_name,\n",
    "\tMAX(stop_time.arrival_time)\n",
    "\t\tAS arrival_time,\n",
    "\tMAX(stop_time.departure_time)\n",
    "\t\tAS departure_time\n",
    "FROM\n",
    "\tstop_times\n",
    "\t\tAS stop_time\n",
    "JOIN\n",
    "\tstops\n",
    "\t\tAS stop\n",
    "\tON\n",
    "\t\tstop_time.stop_id\n",
    "\t\t== stop.stop_id\n",
    "JOIN\n",
    "\ttrips\n",
    "\t\tAS trip\n",
    "\tON\n",
    "\t\tstop_time.trip_id\n",
    "\t\t== trip.trip_id\n",
    "\n",
    "WHERE\n",
    "\ttrip.route_id\n",
    "\t\t== '89'\n",
    "\tAND trip.service_id\n",
    "\t\t== 'FallWeekday'\n",
    "\tAND trip.route_pattern_id\n",
    "\t\t== '89-_-1'\n",
    "\n",
    "GROUP BY\n",
    "\tstop_time.stop_sequence,\n",
    "\tstop.stop_name\n",
    "\n",
    "ORDER BY\n",
    "\tstop_sequence"
   ]
  },
  {
   "cell_type": "markdown",
   "metadata": {
    "editable": true,
    "slideshow": {
     "slide_type": ""
    },
    "tags": []
   },
   "source": [
    "## What's next?"
   ]
  },
  {
   "cell_type": "markdown",
   "metadata": {
    "editable": true,
    "slideshow": {
     "slide_type": ""
    },
    "tags": []
   },
   "source": [
    "Open up a [new notebook](GTFS_Exploration.ipynb) and explore the current feed!"
   ]
  }
 ],
 "metadata": {
  "kernelspec": {
   "display_name": "SQLite",
   "language": "sql",
   "name": "default"
  },
  "language_info": {
   "file_extension": ".sql",
   "mimetype": "application/sql",
   "name": "sql",
   "version": "3.43.2"
  }
 },
 "nbformat": 4,
 "nbformat_minor": 4
}
