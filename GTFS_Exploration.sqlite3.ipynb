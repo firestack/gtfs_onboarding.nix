{
 "cells": [
  {
   "cell_type": "markdown",
   "id": "cfe6cb4c-7ecf-433c-9c86-40c8c236b48f",
   "metadata": {},
   "source": [
    "## Alter `stops` to include street names as individual columns"
   ]
  },
  {
   "cell_type": "code",
   "execution_count": 82,
   "id": "8b10ea16-63a9-4ae0-be60-afac8860ad59",
   "metadata": {},
   "outputs": [
    {
     "data": {},
     "execution_count": 82,
     "metadata": {},
     "output_type": "execute_result"
    }
   ],
   "source": [
    "ALTER TABLE\n",
    "\tstops\n",
    "\tDROP COLUMN\n",
    "\t\tstop_street;"
   ]
  },
  {
   "cell_type": "code",
   "execution_count": 83,
   "id": "b07d1599-1b74-4bba-9036-de235dadb691",
   "metadata": {},
   "outputs": [
    {
     "data": {},
     "execution_count": 83,
     "metadata": {},
     "output_type": "execute_result"
    }
   ],
   "source": [
    "ALTER TABLE\n",
    "\tstops\n",
    "\tADD COLUMN\n",
    "\t\tstop_street\n",
    "\t\tTEXT\n",
    "\t\tGENERATED\n",
    "\t\tALWAYS\n",
    "\t\tAS\n",
    "\t\t\t(CASE\n",
    "\t\t\t\tWHEN instr(stop_name, ' @ ') > 0\n",
    "\t\t\t\t\tTHEN substr(stop_name, 1, instr(stop_name, ' @ ')-1)\n",
    "\t\t\t\tELSE NULL\n",
    "\t\t\tEND)\n",
    "\t\tVIRTUAL;\n"
   ]
  },
  {
   "cell_type": "code",
   "execution_count": 80,
   "id": "36a57cc9-e4d7-410b-9ebc-5e688cab63cc",
   "metadata": {},
   "outputs": [
    {
     "data": {},
     "execution_count": 80,
     "metadata": {},
     "output_type": "execute_result"
    }
   ],
   "source": [
    "ALTER TABLE\n",
    "\tstops\n",
    "\tDROP COLUMN\n",
    "\t\tstop_cross_street;"
   ]
  },
  {
   "cell_type": "code",
   "execution_count": 81,
   "id": "30301178-d08e-4c19-b4eb-b3718e4c8dcf",
   "metadata": {},
   "outputs": [
    {
     "data": {},
     "execution_count": 81,
     "metadata": {},
     "output_type": "execute_result"
    }
   ],
   "source": [
    "ALTER TABLE\n",
    "\tstops\n",
    "\tADD COLUMN\n",
    "\t\tstop_cross_street\n",
    "\t\tTEXT\n",
    "\t\tGENERATED\n",
    "\t\tALWAYS\n",
    "\t\tAS\n",
    "\t\t\t(CASE\n",
    "\t\t\t\tWHEN instr(stop_name, ' @ ')=0\n",
    "\t\t\t\t\tTHEN NULL\n",
    "\t\t\t\tWHEN instr(stop_name, ' @ ') > 0\n",
    "\t\t\t\t\tTHEN substr(stop_name, instr(stop_name, ' @ ') + 3)\n",
    "\t\t\t\tELSE 0\n",
    "\t\t\tEND)\n",
    "\t\tVIRTUAL;"
   ]
  }
 ],
 "metadata": {
  "kernelspec": {
   "display_name": "SQLite",
   "language": "sql",
   "name": "default"
  },
  "language_info": {
   "file_extension": ".sql",
   "mimetype": "application/sql",
   "name": "sql",
   "version": "3.43.2"
  }
 },
 "nbformat": 4,
 "nbformat_minor": 5
}
