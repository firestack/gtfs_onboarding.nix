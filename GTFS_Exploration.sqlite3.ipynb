{
 "cells": [
  {
   "cell_type": "code",
   "execution_count": 1,
   "id": "c6f90554-df4b-4d12-a265-e5f3d7faba88",
   "metadata": {},
   "outputs": [
    {
     "data": {},
     "execution_count": 1,
     "metadata": {},
     "output_type": "execute_result"
    }
   ],
   "source": [
    ".open feed.db"
   ]
  },
  {
   "cell_type": "markdown",
   "id": "cfe6cb4c-7ecf-433c-9c86-40c8c236b48f",
   "metadata": {
    "jp-MarkdownHeadingCollapsed": true
   },
   "source": [
    "## Alter `stops` to include street names as individual columns"
   ]
  },
  {
   "cell_type": "code",
   "execution_count": 82,
   "id": "8b10ea16-63a9-4ae0-be60-afac8860ad59",
   "metadata": {},
   "outputs": [
    {
     "data": {},
     "execution_count": 82,
     "metadata": {},
     "output_type": "execute_result"
    }
   ],
   "source": [
    "ALTER TABLE\n",
    "\tstops\n",
    "\tDROP COLUMN\n",
    "\t\tstop_street;"
   ]
  },
  {
   "cell_type": "code",
   "execution_count": 83,
   "id": "b07d1599-1b74-4bba-9036-de235dadb691",
   "metadata": {},
   "outputs": [
    {
     "data": {},
     "execution_count": 83,
     "metadata": {},
     "output_type": "execute_result"
    }
   ],
   "source": [
    "ALTER TABLE\n",
    "\tstops\n",
    "\tADD COLUMN\n",
    "\t\tstop_street\n",
    "\t\tTEXT\n",
    "\t\tGENERATED\n",
    "\t\tALWAYS\n",
    "\t\tAS\n",
    "\t\t\t(CASE\n",
    "\t\t\t\tWHEN instr(stop_name, ' @ ') > 0\n",
    "\t\t\t\t\tTHEN substr(stop_name, 1, instr(stop_name, ' @ ')-1)\n",
    "\t\t\t\tELSE NULL\n",
    "\t\t\tEND)\n",
    "\t\tVIRTUAL;\n"
   ]
  },
  {
   "cell_type": "code",
   "execution_count": 80,
   "id": "36a57cc9-e4d7-410b-9ebc-5e688cab63cc",
   "metadata": {},
   "outputs": [
    {
     "data": {},
     "execution_count": 80,
     "metadata": {},
     "output_type": "execute_result"
    }
   ],
   "source": [
    "ALTER TABLE\n",
    "\tstops\n",
    "\tDROP COLUMN\n",
    "\t\tstop_cross_street;"
   ]
  },
  {
   "cell_type": "code",
   "execution_count": 81,
   "id": "30301178-d08e-4c19-b4eb-b3718e4c8dcf",
   "metadata": {},
   "outputs": [
    {
     "data": {},
     "execution_count": 81,
     "metadata": {},
     "output_type": "execute_result"
    }
   ],
   "source": [
    "ALTER TABLE\n",
    "\tstops\n",
    "\tADD COLUMN\n",
    "\t\tstop_cross_street\n",
    "\t\tTEXT\n",
    "\t\tGENERATED\n",
    "\t\tALWAYS\n",
    "\t\tAS\n",
    "\t\t\t(CASE\n",
    "\t\t\t\tWHEN instr(stop_name, ' @ ')=0\n",
    "\t\t\t\t\tTHEN NULL\n",
    "\t\t\t\tWHEN instr(stop_name, ' @ ') > 0\n",
    "\t\t\t\t\tTHEN substr(stop_name, instr(stop_name, ' @ ') + 3)\n",
    "\t\t\t\tELSE 0\n",
    "\t\t\tEND)\n",
    "\t\tVIRTUAL;"
   ]
  },
  {
   "cell_type": "markdown",
   "id": "441cb6c1-aa01-4706-888c-f252d492b07c",
   "metadata": {},
   "source": [
    "## Display the following fields for the last trip of the day for the ***89*** bus on the *Sullivan Sq to Clarendon Hill* pattern on ***Fall weekdays***"
   ]
  },
  {
   "cell_type": "code",
   "execution_count": 4,
   "id": "beb31e4c-f449-4f38-ba89-2a10c744497a",
   "metadata": {},
   "outputs": [
    {
     "data": {
      "text/csv": [
       "45295219,05:16:00,05:16:00,70061,1,,0,1,0,alfcl,,\n",
       "45295219,05:18:00,05:18:00,70063,10,,0,0,0,davis,,\n",
       "45295219,05:20:00,05:20:00,70065,20,,0,0,0,portr,,\n"
      ],
      "text/html": [
       "<table>\n",
       "<thead><tr><th scope=\"col\">trip_id</th><th scope=\"col\">arrival_time</th><th scope=\"col\">departure_time</th><th scope=\"col\">stop_id</th><th scope=\"col\">stop_sequence</th><th scope=\"col\">stop_headsign</th><th scope=\"col\">pickup_type</th><th scope=\"col\">drop_off_type</th><th scope=\"col\">timepoint</th><th scope=\"col\">checkpoint_id</th><th scope=\"col\">continuous_pickup</th><th scope=\"col\">continuous_drop_off</th></tr></thead>\n",
       "<tbody>\n",
       "<tr><td>45295219</td><td>05:16:00</td><td>05:16:00</td><td>70061</td><td>1</td><td></td><td>0</td><td>1</td><td>0</td><td>alfcl</td><td></td><td></td></tr>\n",
       "<tr><td>45295219</td><td>05:18:00</td><td>05:18:00</td><td>70063</td><td>10</td><td></td><td>0</td><td>0</td><td>0</td><td>davis</td><td></td><td></td></tr>\n",
       "<tr><td>45295219</td><td>05:20:00</td><td>05:20:00</td><td>70065</td><td>20</td><td></td><td>0</td><td>0</td><td>0</td><td>portr</td><td></td><td></td></tr>\n",
       "</tbody></table>\n"
      ],
      "text/plain": [
       "45295219|05:16:00|05:16:00|70061|1||0|1|0|alfcl||\n",
       "45295219|05:18:00|05:18:00|70063|10||0|0|0|davis||\n",
       "45295219|05:20:00|05:20:00|70065|20||0|0|0|portr||"
      ]
     },
     "execution_count": 4,
     "metadata": {},
     "output_type": "execute_result"
    }
   ],
   "source": [
    "SELECT *\n",
    "FROM\n",
    "\tstop_times\n",
    "LIMIT\n",
    "\t3;"
   ]
  },
  {
   "cell_type": "code",
   "execution_count": 5,
   "id": "67e06ae6-09f3-4be6-a514-35b4d4cd542e",
   "metadata": {},
   "outputs": [
    {
     "data": {
      "text/csv": [
       "1,1,Washington St opp Ruggles St,,,,42.330957,-71.082754,ExpressBus-Downtown,,https://www.mbta.com/stops/1,,0,,1,Boston,Washington Street,Ruggles Street,3,,\n",
       "10,10,Theo Glynn Way @ Newmarket Sq,,,,42.330555,-71.068787,LocalBus,,https://www.mbta.com/stops/10,,0,,1,Boston,Theodore Glynn Way,Newmarket Square,3,Theo Glynn Way,Newmarket Sq\n",
       "10000,10000,Tremont St opp Temple Pl,,,,42.355692,-71.062911,LocalBus,,https://www.mbta.com/stops/10000,,0,,1,Boston,Tremont Street,Temple Place,3,,\n"
      ],
      "text/html": [
       "<table>\n",
       "<thead><tr><th scope=\"col\">stop_id</th><th scope=\"col\">stop_code</th><th scope=\"col\">stop_name</th><th scope=\"col\">stop_desc</th><th scope=\"col\">platform_code</th><th scope=\"col\">platform_name</th><th scope=\"col\">stop_lat</th><th scope=\"col\">stop_lon</th><th scope=\"col\">zone_id</th><th scope=\"col\">stop_address</th><th scope=\"col\">stop_url</th><th scope=\"col\">level_id</th><th scope=\"col\">location_type</th><th scope=\"col\">parent_station</th><th scope=\"col\">wheelchair_boarding</th><th scope=\"col\">municipality</th><th scope=\"col\">on_street</th><th scope=\"col\">at_street</th><th scope=\"col\">vehicle_type</th><th scope=\"col\">stop_street</th><th scope=\"col\">stop_cross_street</th></tr></thead>\n",
       "<tbody>\n",
       "<tr><td>1</td><td>1</td><td>Washington St opp Ruggles St</td><td></td><td></td><td></td><td>42.330957</td><td>-71.082754</td><td>ExpressBus-Downtown</td><td></td><td>https://www.mbta.com/stops/1</td><td></td><td>0</td><td></td><td>1</td><td>Boston</td><td>Washington Street</td><td>Ruggles Street</td><td>3</td><td><code>NULL</code></td><td><code>NULL</code></td></tr>\n",
       "<tr><td>10</td><td>10</td><td>Theo Glynn Way @ Newmarket Sq</td><td></td><td></td><td></td><td>42.330555</td><td>-71.068787</td><td>LocalBus</td><td></td><td>https://www.mbta.com/stops/10</td><td></td><td>0</td><td></td><td>1</td><td>Boston</td><td>Theodore Glynn Way</td><td>Newmarket Square</td><td>3</td><td>Theo Glynn Way</td><td>Newmarket Sq</td></tr>\n",
       "<tr><td>10000</td><td>10000</td><td>Tremont St opp Temple Pl</td><td></td><td></td><td></td><td>42.355692</td><td>-71.062911</td><td>LocalBus</td><td></td><td>https://www.mbta.com/stops/10000</td><td></td><td>0</td><td></td><td>1</td><td>Boston</td><td>Tremont Street</td><td>Temple Place</td><td>3</td><td><code>NULL</code></td><td><code>NULL</code></td></tr>\n",
       "</tbody></table>\n"
      ],
      "text/plain": [
       "1|1|Washington St opp Ruggles St||||42.330957|-71.082754|ExpressBus-Downtown||https://www.mbta.com/stops/1||0||1|Boston|Washington Street|Ruggles Street|3||\n",
       "10|10|Theo Glynn Way @ Newmarket Sq||||42.330555|-71.068787|LocalBus||https://www.mbta.com/stops/10||0||1|Boston|Theodore Glynn Way|Newmarket Square|3|Theo Glynn Way|Newmarket Sq\n",
       "10000|10000|Tremont St opp Temple Pl||||42.355692|-71.062911|LocalBus||https://www.mbta.com/stops/10000||0||1|Boston|Tremont Street|Temple Place|3||"
      ]
     },
     "execution_count": 5,
     "metadata": {},
     "output_type": "execute_result"
    }
   ],
   "source": [
    "SELECT *\n",
    "FROM\n",
    "\tstops\n",
    "LIMIT\n",
    "\t3;"
   ]
  },
  {
   "cell_type": "code",
   "execution_count": 3,
   "id": "4067546c-ca51-4d7c-85ac-32b551e3548f",
   "metadata": {},
   "outputs": [
    {
     "data": {
      "text/csv": [
       "1,ColumbusDay-VeteransDay-DayafterThanksgivingDay,45692465,Harvard,,0,C01-9,010085,1,,1-_-0,1\n",
       "1,ColumbusDay-VeteransDay-DayafterThanksgivingDay,45692467,Harvard,,0,C01-9,010085,1,,1-_-0,1\n",
       "1,ColumbusDay-VeteransDay-DayafterThanksgivingDay,45692469,Harvard,,0,C01-14,010085,1,,1-_-0,1\n"
      ],
      "text/html": [
       "<table>\n",
       "<thead><tr><th scope=\"col\">route_id</th><th scope=\"col\">service_id</th><th scope=\"col\">trip_id</th><th scope=\"col\">trip_headsign</th><th scope=\"col\">trip_short_name</th><th scope=\"col\">direction_id</th><th scope=\"col\">block_id</th><th scope=\"col\">shape_id</th><th scope=\"col\">wheelchair_accessible</th><th scope=\"col\">trip_route_type</th><th scope=\"col\">route_pattern_id</th><th scope=\"col\">bikes_allowed</th></tr></thead>\n",
       "<tbody>\n",
       "<tr><td>1</td><td>ColumbusDay-VeteransDay-DayafterThanksgivingDay</td><td>45692465</td><td>Harvard</td><td></td><td>0</td><td>C01-9</td><td>010085</td><td>1</td><td></td><td>1-_-0</td><td>1</td></tr>\n",
       "<tr><td>1</td><td>ColumbusDay-VeteransDay-DayafterThanksgivingDay</td><td>45692467</td><td>Harvard</td><td></td><td>0</td><td>C01-9</td><td>010085</td><td>1</td><td></td><td>1-_-0</td><td>1</td></tr>\n",
       "<tr><td>1</td><td>ColumbusDay-VeteransDay-DayafterThanksgivingDay</td><td>45692469</td><td>Harvard</td><td></td><td>0</td><td>C01-14</td><td>010085</td><td>1</td><td></td><td>1-_-0</td><td>1</td></tr>\n",
       "</tbody></table>\n"
      ],
      "text/plain": [
       "1|ColumbusDay-VeteransDay-DayafterThanksgivingDay|45692465|Harvard||0|C01-9|010085|1||1-_-0|1\n",
       "1|ColumbusDay-VeteransDay-DayafterThanksgivingDay|45692467|Harvard||0|C01-9|010085|1||1-_-0|1\n",
       "1|ColumbusDay-VeteransDay-DayafterThanksgivingDay|45692469|Harvard||0|C01-14|010085|1||1-_-0|1"
      ]
     },
     "execution_count": 3,
     "metadata": {},
     "output_type": "execute_result"
    }
   ],
   "source": [
    "SELECT *\n",
    "FROM\n",
    "\ttrips\n",
    "LIMIT\n",
    "\t3;"
   ]
  },
  {
   "cell_type": "code",
   "execution_count": 12,
   "id": "ee398d0d-6f01-4188-9a90-3b2c4bc89554",
   "metadata": {},
   "outputs": [
    {
     "data": {
      "text/csv": [
       "89-2-0,89,0,Sullivan Square Station - Davis Station,,1,50890000,45771950\n",
       "89-_-0,89,0,Sullivan Square Station - Clarendon Hill,Weekdays only,2,50890003,45771946\n",
       "89-2-1,89,1,Davis Station - Sullivan Square Station,,1,50890100,45771952\n",
       "89-_-1,89,1,Clarendon Hill - Sullivan Square Station,Weekdays only,2,50890103,45771947\n"
      ],
      "text/html": [
       "<table>\n",
       "<thead><tr><th scope=\"col\">route_pattern_id</th><th scope=\"col\">route_id</th><th scope=\"col\">direction_id</th><th scope=\"col\">route_pattern_name</th><th scope=\"col\">route_pattern_time_desc</th><th scope=\"col\">route_pattern_typicality</th><th scope=\"col\">route_pattern_sort_order</th><th scope=\"col\">representative_trip_id</th></tr></thead>\n",
       "<tbody>\n",
       "<tr><td>89-2-0</td><td>89</td><td>0</td><td>Sullivan Square Station - Davis Station</td><td></td><td>1</td><td>50890000</td><td>45771950</td></tr>\n",
       "<tr><td>89-_-0</td><td>89</td><td>0</td><td>Sullivan Square Station - Clarendon Hill</td><td>Weekdays only</td><td>2</td><td>50890003</td><td>45771946</td></tr>\n",
       "<tr><td>89-2-1</td><td>89</td><td>1</td><td>Davis Station - Sullivan Square Station</td><td></td><td>1</td><td>50890100</td><td>45771952</td></tr>\n",
       "<tr><td>89-_-1</td><td>89</td><td>1</td><td>Clarendon Hill - Sullivan Square Station</td><td>Weekdays only</td><td>2</td><td>50890103</td><td>45771947</td></tr>\n",
       "</tbody></table>\n"
      ],
      "text/plain": [
       "89-2-0|89|0|Sullivan Square Station - Davis Station||1|50890000|45771950\n",
       "89-_-0|89|0|Sullivan Square Station - Clarendon Hill|Weekdays only|2|50890003|45771946\n",
       "89-2-1|89|1|Davis Station - Sullivan Square Station||1|50890100|45771952\n",
       "89-_-1|89|1|Clarendon Hill - Sullivan Square Station|Weekdays only|2|50890103|45771947"
      ]
     },
     "execution_count": 12,
     "metadata": {},
     "output_type": "execute_result"
    }
   ],
   "source": [
    "SELECT\n",
    "\t*\n",
    "FROM\n",
    "\troute_patterns\n",
    "WHERE\n",
    "\troute_id\n",
    "\t\t= '89'"
   ]
  },
  {
   "cell_type": "code",
   "execution_count": null,
   "id": "62febbd1-3825-4b04-a40f-01a28b54a72e",
   "metadata": {},
   "outputs": [],
   "source": []
  }
 ],
 "metadata": {
  "kernelspec": {
   "display_name": "SQLite",
   "language": "sql",
   "name": "default"
  },
  "language_info": {
   "file_extension": ".sql",
   "mimetype": "application/sql",
   "name": "sql",
   "version": "3.43.2"
  }
 },
 "nbformat": 4,
 "nbformat_minor": 5
}
